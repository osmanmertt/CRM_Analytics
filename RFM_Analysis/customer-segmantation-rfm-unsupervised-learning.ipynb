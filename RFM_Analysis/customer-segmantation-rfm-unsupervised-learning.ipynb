{
 "cells": [
  {
   "cell_type": "markdown",
   "metadata": {
    "papermill": {
     "duration": 0.019585,
     "end_time": "2022-12-31T12:13:18.395179",
     "exception": false,
     "start_time": "2022-12-31T12:13:18.375594",
     "status": "completed"
    },
    "tags": []
   },
   "source": [
    "# 1 - First Look to Dataset"
   ]
  },
  {
   "cell_type": "code",
   "execution_count": 1,
   "metadata": {
    "execution": {
     "iopub.execute_input": "2022-12-31T12:13:18.438390Z",
     "iopub.status.busy": "2022-12-31T12:13:18.436952Z",
     "iopub.status.idle": "2022-12-31T12:13:20.524551Z",
     "shell.execute_reply": "2022-12-31T12:13:20.523392Z"
    },
    "papermill": {
     "duration": 2.113515,
     "end_time": "2022-12-31T12:13:20.528101",
     "exception": false,
     "start_time": "2022-12-31T12:13:18.414586",
     "status": "completed"
    },
    "tags": []
   },
   "outputs": [],
   "source": [
    "import pandas as pd\n",
    "import datetime as dt\n",
    "from scipy import stats\n",
    "import matplotlib.pyplot as plt\n",
    "import seaborn as sns\n",
    "import warnings\n",
    "from sklearn.exceptions import ConvergenceWarning\n",
    "import numpy as np\n",
    "from sklearn.preprocessing import MinMaxScaler\n",
    "from yellowbrick.cluster import KElbowVisualizer\n",
    "from sklearn.cluster import KMeans\n",
    "from scipy.cluster.hierarchy import dendrogram\n",
    "from scipy.cluster.hierarchy import linkage\n",
    "from sklearn.cluster import AgglomerativeClustering\n",
    "\n",
    "warnings.simplefilter(action='ignore', category=FutureWarning)\n",
    "warnings.simplefilter(\"ignore\", category=ConvergenceWarning)\n",
    "\n",
    "pd.set_option('display.max_columns', None)\n",
    "\n",
    "df_ = pd.read_csv(\"/kaggle/input/flo-data-20k/flo_data_20k.csv\")\n",
    "\n",
    "df = df_.copy()"
   ]
  },
  {
   "cell_type": "code",
   "execution_count": 2,
   "metadata": {
    "execution": {
     "iopub.execute_input": "2022-12-31T12:13:20.588013Z",
     "iopub.status.busy": "2022-12-31T12:13:20.586548Z",
     "iopub.status.idle": "2022-12-31T12:13:20.623784Z",
     "shell.execute_reply": "2022-12-31T12:13:20.621987Z"
    },
    "papermill": {
     "duration": 0.071824,
     "end_time": "2022-12-31T12:13:20.627976",
     "exception": false,
     "start_time": "2022-12-31T12:13:20.556152",
     "status": "completed"
    },
    "tags": []
   },
   "outputs": [
    {
     "data": {
      "text/html": [
       "<div>\n",
       "<style scoped>\n",
       "    .dataframe tbody tr th:only-of-type {\n",
       "        vertical-align: middle;\n",
       "    }\n",
       "\n",
       "    .dataframe tbody tr th {\n",
       "        vertical-align: top;\n",
       "    }\n",
       "\n",
       "    .dataframe thead th {\n",
       "        text-align: right;\n",
       "    }\n",
       "</style>\n",
       "<table border=\"1\" class=\"dataframe\">\n",
       "  <thead>\n",
       "    <tr style=\"text-align: right;\">\n",
       "      <th></th>\n",
       "      <th>master_id</th>\n",
       "      <th>order_channel</th>\n",
       "      <th>last_order_channel</th>\n",
       "      <th>first_order_date</th>\n",
       "      <th>last_order_date</th>\n",
       "      <th>last_order_date_online</th>\n",
       "      <th>last_order_date_offline</th>\n",
       "      <th>order_num_total_ever_online</th>\n",
       "      <th>order_num_total_ever_offline</th>\n",
       "      <th>customer_value_total_ever_offline</th>\n",
       "      <th>customer_value_total_ever_online</th>\n",
       "      <th>interested_in_categories_12</th>\n",
       "    </tr>\n",
       "  </thead>\n",
       "  <tbody>\n",
       "    <tr>\n",
       "      <th>0</th>\n",
       "      <td>cc294636-19f0-11eb-8d74-000d3a38a36f</td>\n",
       "      <td>Android App</td>\n",
       "      <td>Offline</td>\n",
       "      <td>2020-10-30</td>\n",
       "      <td>2021-02-26</td>\n",
       "      <td>2021-02-21</td>\n",
       "      <td>2021-02-26</td>\n",
       "      <td>4.0</td>\n",
       "      <td>1.0</td>\n",
       "      <td>139.99</td>\n",
       "      <td>799.38</td>\n",
       "      <td>[KADIN]</td>\n",
       "    </tr>\n",
       "    <tr>\n",
       "      <th>1</th>\n",
       "      <td>f431bd5a-ab7b-11e9-a2fc-000d3a38a36f</td>\n",
       "      <td>Android App</td>\n",
       "      <td>Mobile</td>\n",
       "      <td>2017-02-08</td>\n",
       "      <td>2021-02-16</td>\n",
       "      <td>2021-02-16</td>\n",
       "      <td>2020-01-10</td>\n",
       "      <td>19.0</td>\n",
       "      <td>2.0</td>\n",
       "      <td>159.97</td>\n",
       "      <td>1853.58</td>\n",
       "      <td>[ERKEK, COCUK, KADIN, AKTIFSPOR]</td>\n",
       "    </tr>\n",
       "    <tr>\n",
       "      <th>2</th>\n",
       "      <td>69b69676-1a40-11ea-941b-000d3a38a36f</td>\n",
       "      <td>Android App</td>\n",
       "      <td>Android App</td>\n",
       "      <td>2019-11-27</td>\n",
       "      <td>2020-11-27</td>\n",
       "      <td>2020-11-27</td>\n",
       "      <td>2019-12-01</td>\n",
       "      <td>3.0</td>\n",
       "      <td>2.0</td>\n",
       "      <td>189.97</td>\n",
       "      <td>395.35</td>\n",
       "      <td>[ERKEK, KADIN]</td>\n",
       "    </tr>\n",
       "    <tr>\n",
       "      <th>3</th>\n",
       "      <td>1854e56c-491f-11eb-806e-000d3a38a36f</td>\n",
       "      <td>Android App</td>\n",
       "      <td>Android App</td>\n",
       "      <td>2021-01-06</td>\n",
       "      <td>2021-01-17</td>\n",
       "      <td>2021-01-17</td>\n",
       "      <td>2021-01-06</td>\n",
       "      <td>1.0</td>\n",
       "      <td>1.0</td>\n",
       "      <td>39.99</td>\n",
       "      <td>81.98</td>\n",
       "      <td>[AKTIFCOCUK, COCUK]</td>\n",
       "    </tr>\n",
       "    <tr>\n",
       "      <th>4</th>\n",
       "      <td>d6ea1074-f1f5-11e9-9346-000d3a38a36f</td>\n",
       "      <td>Desktop</td>\n",
       "      <td>Desktop</td>\n",
       "      <td>2019-08-03</td>\n",
       "      <td>2021-03-07</td>\n",
       "      <td>2021-03-07</td>\n",
       "      <td>2019-08-03</td>\n",
       "      <td>1.0</td>\n",
       "      <td>1.0</td>\n",
       "      <td>49.99</td>\n",
       "      <td>159.99</td>\n",
       "      <td>[AKTIFSPOR]</td>\n",
       "    </tr>\n",
       "  </tbody>\n",
       "</table>\n",
       "</div>"
      ],
      "text/plain": [
       "                              master_id order_channel last_order_channel  \\\n",
       "0  cc294636-19f0-11eb-8d74-000d3a38a36f   Android App            Offline   \n",
       "1  f431bd5a-ab7b-11e9-a2fc-000d3a38a36f   Android App             Mobile   \n",
       "2  69b69676-1a40-11ea-941b-000d3a38a36f   Android App        Android App   \n",
       "3  1854e56c-491f-11eb-806e-000d3a38a36f   Android App        Android App   \n",
       "4  d6ea1074-f1f5-11e9-9346-000d3a38a36f       Desktop            Desktop   \n",
       "\n",
       "  first_order_date last_order_date last_order_date_online  \\\n",
       "0       2020-10-30      2021-02-26             2021-02-21   \n",
       "1       2017-02-08      2021-02-16             2021-02-16   \n",
       "2       2019-11-27      2020-11-27             2020-11-27   \n",
       "3       2021-01-06      2021-01-17             2021-01-17   \n",
       "4       2019-08-03      2021-03-07             2021-03-07   \n",
       "\n",
       "  last_order_date_offline  order_num_total_ever_online  \\\n",
       "0              2021-02-26                          4.0   \n",
       "1              2020-01-10                         19.0   \n",
       "2              2019-12-01                          3.0   \n",
       "3              2021-01-06                          1.0   \n",
       "4              2019-08-03                          1.0   \n",
       "\n",
       "   order_num_total_ever_offline  customer_value_total_ever_offline  \\\n",
       "0                           1.0                             139.99   \n",
       "1                           2.0                             159.97   \n",
       "2                           2.0                             189.97   \n",
       "3                           1.0                              39.99   \n",
       "4                           1.0                              49.99   \n",
       "\n",
       "   customer_value_total_ever_online       interested_in_categories_12  \n",
       "0                            799.38                           [KADIN]  \n",
       "1                           1853.58  [ERKEK, COCUK, KADIN, AKTIFSPOR]  \n",
       "2                            395.35                    [ERKEK, KADIN]  \n",
       "3                             81.98               [AKTIFCOCUK, COCUK]  \n",
       "4                            159.99                       [AKTIFSPOR]  "
      ]
     },
     "execution_count": 2,
     "metadata": {},
     "output_type": "execute_result"
    }
   ],
   "source": [
    "df.head()"
   ]
  },
  {
   "cell_type": "code",
   "execution_count": 3,
   "metadata": {
    "execution": {
     "iopub.execute_input": "2022-12-31T12:13:20.673827Z",
     "iopub.status.busy": "2022-12-31T12:13:20.672949Z",
     "iopub.status.idle": "2022-12-31T12:13:20.681080Z",
     "shell.execute_reply": "2022-12-31T12:13:20.679733Z"
    },
    "papermill": {
     "duration": 0.032147,
     "end_time": "2022-12-31T12:13:20.683557",
     "exception": false,
     "start_time": "2022-12-31T12:13:20.651410",
     "status": "completed"
    },
    "tags": []
   },
   "outputs": [
    {
     "data": {
      "text/plain": [
       "(19945, 12)"
      ]
     },
     "execution_count": 3,
     "metadata": {},
     "output_type": "execute_result"
    }
   ],
   "source": [
    "df.shape"
   ]
  },
  {
   "cell_type": "code",
   "execution_count": 4,
   "metadata": {
    "execution": {
     "iopub.execute_input": "2022-12-31T12:13:20.728732Z",
     "iopub.status.busy": "2022-12-31T12:13:20.727920Z",
     "iopub.status.idle": "2022-12-31T12:13:20.767517Z",
     "shell.execute_reply": "2022-12-31T12:13:20.765823Z"
    },
    "papermill": {
     "duration": 0.067305,
     "end_time": "2022-12-31T12:13:20.772062",
     "exception": false,
     "start_time": "2022-12-31T12:13:20.704757",
     "status": "completed"
    },
    "tags": []
   },
   "outputs": [
    {
     "name": "stdout",
     "output_type": "stream",
     "text": [
      "<class 'pandas.core.frame.DataFrame'>\n",
      "RangeIndex: 19945 entries, 0 to 19944\n",
      "Data columns (total 12 columns):\n",
      " #   Column                             Non-Null Count  Dtype  \n",
      "---  ------                             --------------  -----  \n",
      " 0   master_id                          19945 non-null  object \n",
      " 1   order_channel                      19945 non-null  object \n",
      " 2   last_order_channel                 19945 non-null  object \n",
      " 3   first_order_date                   19945 non-null  object \n",
      " 4   last_order_date                    19945 non-null  object \n",
      " 5   last_order_date_online             19945 non-null  object \n",
      " 6   last_order_date_offline            19945 non-null  object \n",
      " 7   order_num_total_ever_online        19945 non-null  float64\n",
      " 8   order_num_total_ever_offline       19945 non-null  float64\n",
      " 9   customer_value_total_ever_offline  19945 non-null  float64\n",
      " 10  customer_value_total_ever_online   19945 non-null  float64\n",
      " 11  interested_in_categories_12        19945 non-null  object \n",
      "dtypes: float64(4), object(8)\n",
      "memory usage: 1.8+ MB\n"
     ]
    }
   ],
   "source": [
    "df.info()"
   ]
  },
  {
   "cell_type": "code",
   "execution_count": 5,
   "metadata": {
    "execution": {
     "iopub.execute_input": "2022-12-31T12:13:20.814496Z",
     "iopub.status.busy": "2022-12-31T12:13:20.813984Z",
     "iopub.status.idle": "2022-12-31T12:13:20.835216Z",
     "shell.execute_reply": "2022-12-31T12:13:20.833760Z"
    },
    "papermill": {
     "duration": 0.046311,
     "end_time": "2022-12-31T12:13:20.838563",
     "exception": false,
     "start_time": "2022-12-31T12:13:20.792252",
     "status": "completed"
    },
    "tags": []
   },
   "outputs": [
    {
     "data": {
      "text/plain": [
       "master_id                            0\n",
       "order_channel                        0\n",
       "last_order_channel                   0\n",
       "first_order_date                     0\n",
       "last_order_date                      0\n",
       "last_order_date_online               0\n",
       "last_order_date_offline              0\n",
       "order_num_total_ever_online          0\n",
       "order_num_total_ever_offline         0\n",
       "customer_value_total_ever_offline    0\n",
       "customer_value_total_ever_online     0\n",
       "interested_in_categories_12          0\n",
       "dtype: int64"
      ]
     },
     "execution_count": 5,
     "metadata": {},
     "output_type": "execute_result"
    }
   ],
   "source": [
    "df.isnull().sum()"
   ]
  },
  {
   "cell_type": "code",
   "execution_count": 6,
   "metadata": {
    "execution": {
     "iopub.execute_input": "2022-12-31T12:13:20.880521Z",
     "iopub.status.busy": "2022-12-31T12:13:20.880052Z",
     "iopub.status.idle": "2022-12-31T12:13:20.920456Z",
     "shell.execute_reply": "2022-12-31T12:13:20.918915Z"
    },
    "papermill": {
     "duration": 0.064536,
     "end_time": "2022-12-31T12:13:20.923186",
     "exception": false,
     "start_time": "2022-12-31T12:13:20.858650",
     "status": "completed"
    },
    "tags": []
   },
   "outputs": [
    {
     "data": {
      "text/html": [
       "<div>\n",
       "<style scoped>\n",
       "    .dataframe tbody tr th:only-of-type {\n",
       "        vertical-align: middle;\n",
       "    }\n",
       "\n",
       "    .dataframe tbody tr th {\n",
       "        vertical-align: top;\n",
       "    }\n",
       "\n",
       "    .dataframe thead th {\n",
       "        text-align: right;\n",
       "    }\n",
       "</style>\n",
       "<table border=\"1\" class=\"dataframe\">\n",
       "  <thead>\n",
       "    <tr style=\"text-align: right;\">\n",
       "      <th></th>\n",
       "      <th>count</th>\n",
       "      <th>mean</th>\n",
       "      <th>std</th>\n",
       "      <th>min</th>\n",
       "      <th>25%</th>\n",
       "      <th>50%</th>\n",
       "      <th>75%</th>\n",
       "      <th>max</th>\n",
       "    </tr>\n",
       "  </thead>\n",
       "  <tbody>\n",
       "    <tr>\n",
       "      <th>order_num_total_ever_online</th>\n",
       "      <td>19945.0</td>\n",
       "      <td>3.110855</td>\n",
       "      <td>4.225647</td>\n",
       "      <td>1.00</td>\n",
       "      <td>1.00</td>\n",
       "      <td>2.00</td>\n",
       "      <td>4.00</td>\n",
       "      <td>200.00</td>\n",
       "    </tr>\n",
       "    <tr>\n",
       "      <th>order_num_total_ever_offline</th>\n",
       "      <td>19945.0</td>\n",
       "      <td>1.913913</td>\n",
       "      <td>2.062880</td>\n",
       "      <td>1.00</td>\n",
       "      <td>1.00</td>\n",
       "      <td>1.00</td>\n",
       "      <td>2.00</td>\n",
       "      <td>109.00</td>\n",
       "    </tr>\n",
       "    <tr>\n",
       "      <th>customer_value_total_ever_offline</th>\n",
       "      <td>19945.0</td>\n",
       "      <td>253.922597</td>\n",
       "      <td>301.532853</td>\n",
       "      <td>10.00</td>\n",
       "      <td>99.99</td>\n",
       "      <td>179.98</td>\n",
       "      <td>319.97</td>\n",
       "      <td>18119.14</td>\n",
       "    </tr>\n",
       "    <tr>\n",
       "      <th>customer_value_total_ever_online</th>\n",
       "      <td>19945.0</td>\n",
       "      <td>497.321690</td>\n",
       "      <td>832.601886</td>\n",
       "      <td>12.99</td>\n",
       "      <td>149.98</td>\n",
       "      <td>286.46</td>\n",
       "      <td>578.44</td>\n",
       "      <td>45220.13</td>\n",
       "    </tr>\n",
       "  </tbody>\n",
       "</table>\n",
       "</div>"
      ],
      "text/plain": [
       "                                     count        mean         std    min  \\\n",
       "order_num_total_ever_online        19945.0    3.110855    4.225647   1.00   \n",
       "order_num_total_ever_offline       19945.0    1.913913    2.062880   1.00   \n",
       "customer_value_total_ever_offline  19945.0  253.922597  301.532853  10.00   \n",
       "customer_value_total_ever_online   19945.0  497.321690  832.601886  12.99   \n",
       "\n",
       "                                      25%     50%     75%       max  \n",
       "order_num_total_ever_online          1.00    2.00    4.00    200.00  \n",
       "order_num_total_ever_offline         1.00    1.00    2.00    109.00  \n",
       "customer_value_total_ever_offline   99.99  179.98  319.97  18119.14  \n",
       "customer_value_total_ever_online   149.98  286.46  578.44  45220.13  "
      ]
     },
     "execution_count": 6,
     "metadata": {},
     "output_type": "execute_result"
    }
   ],
   "source": [
    "df.describe().T"
   ]
  },
  {
   "cell_type": "markdown",
   "metadata": {
    "papermill": {
     "duration": 0.021177,
     "end_time": "2022-12-31T12:13:20.964685",
     "exception": false,
     "start_time": "2022-12-31T12:13:20.943508",
     "status": "completed"
    },
    "tags": []
   },
   "source": [
    "# 2 - Data Pre-Processing"
   ]
  },
  {
   "cell_type": "markdown",
   "metadata": {
    "papermill": {
     "duration": 0.022914,
     "end_time": "2022-12-31T12:13:21.012937",
     "exception": false,
     "start_time": "2022-12-31T12:13:20.990023",
     "status": "completed"
    },
    "tags": []
   },
   "source": [
    "New variables have been created for the total number of purchases and the money spent by customers who shop on both online and offline platforms."
   ]
  },
  {
   "cell_type": "code",
   "execution_count": 7,
   "metadata": {
    "execution": {
     "iopub.execute_input": "2022-12-31T12:13:21.071744Z",
     "iopub.status.busy": "2022-12-31T12:13:21.070946Z",
     "iopub.status.idle": "2022-12-31T12:13:21.080557Z",
     "shell.execute_reply": "2022-12-31T12:13:21.079342Z"
    },
    "papermill": {
     "duration": 0.044793,
     "end_time": "2022-12-31T12:13:21.083762",
     "exception": false,
     "start_time": "2022-12-31T12:13:21.038969",
     "status": "completed"
    },
    "tags": []
   },
   "outputs": [],
   "source": [
    "df[\"order_num_total\"] = df[\"order_num_total_ever_online\"] + df[\"order_num_total_ever_offline\"]\n",
    "\n",
    "df[\"customer_value_total\"] = df[\"customer_value_total_ever_online\"] + df[\"customer_value_total_ever_offline\"]"
   ]
  },
  {
   "cell_type": "code",
   "execution_count": 8,
   "metadata": {
    "execution": {
     "iopub.execute_input": "2022-12-31T12:13:21.144497Z",
     "iopub.status.busy": "2022-12-31T12:13:21.143976Z",
     "iopub.status.idle": "2022-12-31T12:13:21.170715Z",
     "shell.execute_reply": "2022-12-31T12:13:21.167660Z"
    },
    "papermill": {
     "duration": 0.059601,
     "end_time": "2022-12-31T12:13:21.174243",
     "exception": false,
     "start_time": "2022-12-31T12:13:21.114642",
     "status": "completed"
    },
    "tags": []
   },
   "outputs": [
    {
     "data": {
      "text/html": [
       "<div>\n",
       "<style scoped>\n",
       "    .dataframe tbody tr th:only-of-type {\n",
       "        vertical-align: middle;\n",
       "    }\n",
       "\n",
       "    .dataframe tbody tr th {\n",
       "        vertical-align: top;\n",
       "    }\n",
       "\n",
       "    .dataframe thead th {\n",
       "        text-align: right;\n",
       "    }\n",
       "</style>\n",
       "<table border=\"1\" class=\"dataframe\">\n",
       "  <thead>\n",
       "    <tr style=\"text-align: right;\">\n",
       "      <th></th>\n",
       "      <th>order_num_total_ever_online</th>\n",
       "      <th>order_num_total_ever_offline</th>\n",
       "      <th>order_num_total</th>\n",
       "      <th>customer_value_total_ever_online</th>\n",
       "      <th>customer_value_total_ever_offline</th>\n",
       "      <th>customer_value_total</th>\n",
       "    </tr>\n",
       "  </thead>\n",
       "  <tbody>\n",
       "    <tr>\n",
       "      <th>0</th>\n",
       "      <td>4.0</td>\n",
       "      <td>1.0</td>\n",
       "      <td>5.0</td>\n",
       "      <td>799.38</td>\n",
       "      <td>139.99</td>\n",
       "      <td>939.37</td>\n",
       "    </tr>\n",
       "    <tr>\n",
       "      <th>1</th>\n",
       "      <td>19.0</td>\n",
       "      <td>2.0</td>\n",
       "      <td>21.0</td>\n",
       "      <td>1853.58</td>\n",
       "      <td>159.97</td>\n",
       "      <td>2013.55</td>\n",
       "    </tr>\n",
       "    <tr>\n",
       "      <th>2</th>\n",
       "      <td>3.0</td>\n",
       "      <td>2.0</td>\n",
       "      <td>5.0</td>\n",
       "      <td>395.35</td>\n",
       "      <td>189.97</td>\n",
       "      <td>585.32</td>\n",
       "    </tr>\n",
       "    <tr>\n",
       "      <th>3</th>\n",
       "      <td>1.0</td>\n",
       "      <td>1.0</td>\n",
       "      <td>2.0</td>\n",
       "      <td>81.98</td>\n",
       "      <td>39.99</td>\n",
       "      <td>121.97</td>\n",
       "    </tr>\n",
       "    <tr>\n",
       "      <th>4</th>\n",
       "      <td>1.0</td>\n",
       "      <td>1.0</td>\n",
       "      <td>2.0</td>\n",
       "      <td>159.99</td>\n",
       "      <td>49.99</td>\n",
       "      <td>209.98</td>\n",
       "    </tr>\n",
       "  </tbody>\n",
       "</table>\n",
       "</div>"
      ],
      "text/plain": [
       "   order_num_total_ever_online  order_num_total_ever_offline  order_num_total  \\\n",
       "0                          4.0                           1.0              5.0   \n",
       "1                         19.0                           2.0             21.0   \n",
       "2                          3.0                           2.0              5.0   \n",
       "3                          1.0                           1.0              2.0   \n",
       "4                          1.0                           1.0              2.0   \n",
       "\n",
       "   customer_value_total_ever_online  customer_value_total_ever_offline  \\\n",
       "0                            799.38                             139.99   \n",
       "1                           1853.58                             159.97   \n",
       "2                            395.35                             189.97   \n",
       "3                             81.98                              39.99   \n",
       "4                            159.99                              49.99   \n",
       "\n",
       "   customer_value_total  \n",
       "0                939.37  \n",
       "1               2013.55  \n",
       "2                585.32  \n",
       "3                121.97  \n",
       "4                209.98  "
      ]
     },
     "execution_count": 8,
     "metadata": {},
     "output_type": "execute_result"
    }
   ],
   "source": [
    "list1 = [\"order_num_total_ever_online\",\"order_num_total_ever_offline\",\"order_num_total\",\"customer_value_total_ever_online\",\"customer_value_total_ever_offline\",\"customer_value_total\"]\n",
    "\n",
    "df[list1].head()"
   ]
  },
  {
   "cell_type": "markdown",
   "metadata": {
    "papermill": {
     "duration": 0.021678,
     "end_time": "2022-12-31T12:13:21.218298",
     "exception": false,
     "start_time": "2022-12-31T12:13:21.196620",
     "status": "completed"
    },
    "tags": []
   },
   "source": [
    "The names of the variables expressing date are converted to date type."
   ]
  },
  {
   "cell_type": "code",
   "execution_count": 9,
   "metadata": {
    "execution": {
     "iopub.execute_input": "2022-12-31T12:13:21.267496Z",
     "iopub.status.busy": "2022-12-31T12:13:21.266508Z",
     "iopub.status.idle": "2022-12-31T12:13:21.275896Z",
     "shell.execute_reply": "2022-12-31T12:13:21.274646Z"
    },
    "papermill": {
     "duration": 0.037399,
     "end_time": "2022-12-31T12:13:21.278981",
     "exception": false,
     "start_time": "2022-12-31T12:13:21.241582",
     "status": "completed"
    },
    "tags": []
   },
   "outputs": [
    {
     "data": {
      "text/plain": [
       "['first_order_date',\n",
       " 'last_order_date',\n",
       " 'last_order_date_online',\n",
       " 'last_order_date_offline']"
      ]
     },
     "execution_count": 9,
     "metadata": {},
     "output_type": "execute_result"
    }
   ],
   "source": [
    "date_col_list = [i for i in df.columns if \"date\" in i]\n",
    "\n",
    "date_col_list"
   ]
  },
  {
   "cell_type": "code",
   "execution_count": 10,
   "metadata": {
    "execution": {
     "iopub.execute_input": "2022-12-31T12:13:21.332605Z",
     "iopub.status.busy": "2022-12-31T12:13:21.330860Z",
     "iopub.status.idle": "2022-12-31T12:13:21.381061Z",
     "shell.execute_reply": "2022-12-31T12:13:21.379721Z"
    },
    "papermill": {
     "duration": 0.078595,
     "end_time": "2022-12-31T12:13:21.384776",
     "exception": false,
     "start_time": "2022-12-31T12:13:21.306181",
     "status": "completed"
    },
    "tags": []
   },
   "outputs": [],
   "source": [
    "df[date_col_list] = df[date_col_list].apply(pd.to_datetime)"
   ]
  },
  {
   "cell_type": "code",
   "execution_count": 11,
   "metadata": {
    "execution": {
     "iopub.execute_input": "2022-12-31T12:13:21.434423Z",
     "iopub.status.busy": "2022-12-31T12:13:21.432709Z",
     "iopub.status.idle": "2022-12-31T12:13:21.460892Z",
     "shell.execute_reply": "2022-12-31T12:13:21.459278Z"
    },
    "papermill": {
     "duration": 0.05445,
     "end_time": "2022-12-31T12:13:21.464330",
     "exception": false,
     "start_time": "2022-12-31T12:13:21.409880",
     "status": "completed"
    },
    "tags": []
   },
   "outputs": [
    {
     "name": "stdout",
     "output_type": "stream",
     "text": [
      "<class 'pandas.core.frame.DataFrame'>\n",
      "RangeIndex: 19945 entries, 0 to 19944\n",
      "Data columns (total 14 columns):\n",
      " #   Column                             Non-Null Count  Dtype         \n",
      "---  ------                             --------------  -----         \n",
      " 0   master_id                          19945 non-null  object        \n",
      " 1   order_channel                      19945 non-null  object        \n",
      " 2   last_order_channel                 19945 non-null  object        \n",
      " 3   first_order_date                   19945 non-null  datetime64[ns]\n",
      " 4   last_order_date                    19945 non-null  datetime64[ns]\n",
      " 5   last_order_date_online             19945 non-null  datetime64[ns]\n",
      " 6   last_order_date_offline            19945 non-null  datetime64[ns]\n",
      " 7   order_num_total_ever_online        19945 non-null  float64       \n",
      " 8   order_num_total_ever_offline       19945 non-null  float64       \n",
      " 9   customer_value_total_ever_offline  19945 non-null  float64       \n",
      " 10  customer_value_total_ever_online   19945 non-null  float64       \n",
      " 11  interested_in_categories_12        19945 non-null  object        \n",
      " 12  order_num_total                    19945 non-null  float64       \n",
      " 13  customer_value_total               19945 non-null  float64       \n",
      "dtypes: datetime64[ns](4), float64(6), object(4)\n",
      "memory usage: 2.1+ MB\n"
     ]
    }
   ],
   "source": [
    "df.info()"
   ]
  },
  {
   "cell_type": "markdown",
   "metadata": {
    "papermill": {
     "duration": 0.021118,
     "end_time": "2022-12-31T12:13:21.516646",
     "exception": false,
     "start_time": "2022-12-31T12:13:21.495528",
     "status": "completed"
    },
    "tags": []
   },
   "source": [
    "# 2.1 - Some Insights"
   ]
  },
  {
   "cell_type": "markdown",
   "metadata": {
    "papermill": {
     "duration": 0.020749,
     "end_time": "2022-12-31T12:13:21.558904",
     "exception": false,
     "start_time": "2022-12-31T12:13:21.538155",
     "status": "completed"
    },
    "tags": []
   },
   "source": [
    "The distribution of the number of customers in the shopping channels according to the total number of products purchased and the total money spent was examined."
   ]
  },
  {
   "cell_type": "code",
   "execution_count": 12,
   "metadata": {
    "execution": {
     "iopub.execute_input": "2022-12-31T12:13:21.606545Z",
     "iopub.status.busy": "2022-12-31T12:13:21.605434Z",
     "iopub.status.idle": "2022-12-31T12:13:21.631311Z",
     "shell.execute_reply": "2022-12-31T12:13:21.630024Z"
    },
    "papermill": {
     "duration": 0.052675,
     "end_time": "2022-12-31T12:13:21.634066",
     "exception": false,
     "start_time": "2022-12-31T12:13:21.581391",
     "status": "completed"
    },
    "tags": []
   },
   "outputs": [
    {
     "data": {
      "text/html": [
       "<div>\n",
       "<style scoped>\n",
       "    .dataframe tbody tr th:only-of-type {\n",
       "        vertical-align: middle;\n",
       "    }\n",
       "\n",
       "    .dataframe tbody tr th {\n",
       "        vertical-align: top;\n",
       "    }\n",
       "\n",
       "    .dataframe thead th {\n",
       "        text-align: right;\n",
       "    }\n",
       "</style>\n",
       "<table border=\"1\" class=\"dataframe\">\n",
       "  <thead>\n",
       "    <tr style=\"text-align: right;\">\n",
       "      <th></th>\n",
       "      <th>master_id</th>\n",
       "      <th>order_num_total</th>\n",
       "      <th>customer_value_total</th>\n",
       "    </tr>\n",
       "    <tr>\n",
       "      <th>order_channel</th>\n",
       "      <th></th>\n",
       "      <th></th>\n",
       "      <th></th>\n",
       "    </tr>\n",
       "  </thead>\n",
       "  <tbody>\n",
       "    <tr>\n",
       "      <th>Android App</th>\n",
       "      <td>9495</td>\n",
       "      <td>52269.0</td>\n",
       "      <td>7819062.76</td>\n",
       "    </tr>\n",
       "    <tr>\n",
       "      <th>Desktop</th>\n",
       "      <td>2735</td>\n",
       "      <td>10920.0</td>\n",
       "      <td>1610321.46</td>\n",
       "    </tr>\n",
       "    <tr>\n",
       "      <th>Ios App</th>\n",
       "      <td>2833</td>\n",
       "      <td>15351.0</td>\n",
       "      <td>2525999.93</td>\n",
       "    </tr>\n",
       "    <tr>\n",
       "      <th>Mobile</th>\n",
       "      <td>4882</td>\n",
       "      <td>21679.0</td>\n",
       "      <td>3028183.16</td>\n",
       "    </tr>\n",
       "  </tbody>\n",
       "</table>\n",
       "</div>"
      ],
      "text/plain": [
       "               master_id  order_num_total  customer_value_total\n",
       "order_channel                                                  \n",
       "Android App         9495          52269.0            7819062.76\n",
       "Desktop             2735          10920.0            1610321.46\n",
       "Ios App             2833          15351.0            2525999.93\n",
       "Mobile              4882          21679.0            3028183.16"
      ]
     },
     "execution_count": 12,
     "metadata": {},
     "output_type": "execute_result"
    }
   ],
   "source": [
    "df.groupby(\"order_channel\").agg({\"master_id\" : \"count\",\n",
    "                                 \"order_num_total\" : \"sum\",\n",
    "                                 \"customer_value_total\": \"sum\"}).head()"
   ]
  },
  {
   "cell_type": "markdown",
   "metadata": {
    "papermill": {
     "duration": 0.022026,
     "end_time": "2022-12-31T12:13:21.677462",
     "exception": false,
     "start_time": "2022-12-31T12:13:21.655436",
     "status": "completed"
    },
    "tags": []
   },
   "source": [
    "Top 10 highest paying customers"
   ]
  },
  {
   "cell_type": "code",
   "execution_count": 13,
   "metadata": {
    "execution": {
     "iopub.execute_input": "2022-12-31T12:13:21.721731Z",
     "iopub.status.busy": "2022-12-31T12:13:21.721285Z",
     "iopub.status.idle": "2022-12-31T12:13:21.767946Z",
     "shell.execute_reply": "2022-12-31T12:13:21.766562Z"
    },
    "papermill": {
     "duration": 0.072078,
     "end_time": "2022-12-31T12:13:21.770941",
     "exception": false,
     "start_time": "2022-12-31T12:13:21.698863",
     "status": "completed"
    },
    "tags": []
   },
   "outputs": [
    {
     "data": {
      "text/html": [
       "<div>\n",
       "<style scoped>\n",
       "    .dataframe tbody tr th:only-of-type {\n",
       "        vertical-align: middle;\n",
       "    }\n",
       "\n",
       "    .dataframe tbody tr th {\n",
       "        vertical-align: top;\n",
       "    }\n",
       "\n",
       "    .dataframe thead th {\n",
       "        text-align: right;\n",
       "    }\n",
       "</style>\n",
       "<table border=\"1\" class=\"dataframe\">\n",
       "  <thead>\n",
       "    <tr style=\"text-align: right;\">\n",
       "      <th></th>\n",
       "      <th>customer_value_total</th>\n",
       "    </tr>\n",
       "    <tr>\n",
       "      <th>master_id</th>\n",
       "      <th></th>\n",
       "    </tr>\n",
       "  </thead>\n",
       "  <tbody>\n",
       "    <tr>\n",
       "      <th>5d1c466a-9cfd-11e9-9897-000d3a38a36f</th>\n",
       "      <td>45905.10</td>\n",
       "    </tr>\n",
       "    <tr>\n",
       "      <th>d5ef8058-a5c6-11e9-a2fc-000d3a38a36f</th>\n",
       "      <td>36818.29</td>\n",
       "    </tr>\n",
       "    <tr>\n",
       "      <th>73fd19aa-9e37-11e9-9897-000d3a38a36f</th>\n",
       "      <td>33918.10</td>\n",
       "    </tr>\n",
       "    <tr>\n",
       "      <th>7137a5c0-7aad-11ea-8f20-000d3a38a36f</th>\n",
       "      <td>31227.41</td>\n",
       "    </tr>\n",
       "    <tr>\n",
       "      <th>47a642fe-975b-11eb-8c2a-000d3a38a36f</th>\n",
       "      <td>20706.34</td>\n",
       "    </tr>\n",
       "    <tr>\n",
       "      <th>a4d534a2-5b1b-11eb-8dbd-000d3a38a36f</th>\n",
       "      <td>18443.57</td>\n",
       "    </tr>\n",
       "    <tr>\n",
       "      <th>d696c654-2633-11ea-8e1c-000d3a38a36f</th>\n",
       "      <td>16918.57</td>\n",
       "    </tr>\n",
       "    <tr>\n",
       "      <th>fef57ffa-aae6-11e9-a2fc-000d3a38a36f</th>\n",
       "      <td>12726.10</td>\n",
       "    </tr>\n",
       "    <tr>\n",
       "      <th>cba59206-9dd1-11e9-9897-000d3a38a36f</th>\n",
       "      <td>12282.24</td>\n",
       "    </tr>\n",
       "    <tr>\n",
       "      <th>fc0ce7a4-9d87-11e9-9897-000d3a38a36f</th>\n",
       "      <td>12103.15</td>\n",
       "    </tr>\n",
       "  </tbody>\n",
       "</table>\n",
       "</div>"
      ],
      "text/plain": [
       "                                      customer_value_total\n",
       "master_id                                                 \n",
       "5d1c466a-9cfd-11e9-9897-000d3a38a36f              45905.10\n",
       "d5ef8058-a5c6-11e9-a2fc-000d3a38a36f              36818.29\n",
       "73fd19aa-9e37-11e9-9897-000d3a38a36f              33918.10\n",
       "7137a5c0-7aad-11ea-8f20-000d3a38a36f              31227.41\n",
       "47a642fe-975b-11eb-8c2a-000d3a38a36f              20706.34\n",
       "a4d534a2-5b1b-11eb-8dbd-000d3a38a36f              18443.57\n",
       "d696c654-2633-11ea-8e1c-000d3a38a36f              16918.57\n",
       "fef57ffa-aae6-11e9-a2fc-000d3a38a36f              12726.10\n",
       "cba59206-9dd1-11e9-9897-000d3a38a36f              12282.24\n",
       "fc0ce7a4-9d87-11e9-9897-000d3a38a36f              12103.15"
      ]
     },
     "execution_count": 13,
     "metadata": {},
     "output_type": "execute_result"
    }
   ],
   "source": [
    "df.groupby(\"master_id\").agg({\"customer_value_total\" : \"sum\"}).sort_values(\"customer_value_total\", ascending = False).head(10)"
   ]
  },
  {
   "cell_type": "markdown",
   "metadata": {
    "papermill": {
     "duration": 0.021718,
     "end_time": "2022-12-31T12:13:21.814671",
     "exception": false,
     "start_time": "2022-12-31T12:13:21.792953",
     "status": "completed"
    },
    "tags": []
   },
   "source": [
    "The top 10 customers with the most orders are listed."
   ]
  },
  {
   "cell_type": "code",
   "execution_count": 14,
   "metadata": {
    "execution": {
     "iopub.execute_input": "2022-12-31T12:13:21.862352Z",
     "iopub.status.busy": "2022-12-31T12:13:21.861904Z",
     "iopub.status.idle": "2022-12-31T12:13:21.906338Z",
     "shell.execute_reply": "2022-12-31T12:13:21.905085Z"
    },
    "papermill": {
     "duration": 0.071751,
     "end_time": "2022-12-31T12:13:21.908989",
     "exception": false,
     "start_time": "2022-12-31T12:13:21.837238",
     "status": "completed"
    },
    "tags": []
   },
   "outputs": [
    {
     "data": {
      "text/html": [
       "<div>\n",
       "<style scoped>\n",
       "    .dataframe tbody tr th:only-of-type {\n",
       "        vertical-align: middle;\n",
       "    }\n",
       "\n",
       "    .dataframe tbody tr th {\n",
       "        vertical-align: top;\n",
       "    }\n",
       "\n",
       "    .dataframe thead th {\n",
       "        text-align: right;\n",
       "    }\n",
       "</style>\n",
       "<table border=\"1\" class=\"dataframe\">\n",
       "  <thead>\n",
       "    <tr style=\"text-align: right;\">\n",
       "      <th></th>\n",
       "      <th>order_num_total</th>\n",
       "    </tr>\n",
       "    <tr>\n",
       "      <th>master_id</th>\n",
       "      <th></th>\n",
       "    </tr>\n",
       "  </thead>\n",
       "  <tbody>\n",
       "    <tr>\n",
       "      <th>5d1c466a-9cfd-11e9-9897-000d3a38a36f</th>\n",
       "      <td>202.0</td>\n",
       "    </tr>\n",
       "    <tr>\n",
       "      <th>cba59206-9dd1-11e9-9897-000d3a38a36f</th>\n",
       "      <td>131.0</td>\n",
       "    </tr>\n",
       "    <tr>\n",
       "      <th>a57f4302-b1a8-11e9-89fa-000d3a38a36f</th>\n",
       "      <td>111.0</td>\n",
       "    </tr>\n",
       "    <tr>\n",
       "      <th>fdbe8304-a7ab-11e9-a2fc-000d3a38a36f</th>\n",
       "      <td>88.0</td>\n",
       "    </tr>\n",
       "    <tr>\n",
       "      <th>329968c6-a0e2-11e9-a2fc-000d3a38a36f</th>\n",
       "      <td>83.0</td>\n",
       "    </tr>\n",
       "    <tr>\n",
       "      <th>73fd19aa-9e37-11e9-9897-000d3a38a36f</th>\n",
       "      <td>82.0</td>\n",
       "    </tr>\n",
       "    <tr>\n",
       "      <th>44d032ee-a0d4-11e9-a2fc-000d3a38a36f</th>\n",
       "      <td>77.0</td>\n",
       "    </tr>\n",
       "    <tr>\n",
       "      <th>b27e241a-a901-11e9-a2fc-000d3a38a36f</th>\n",
       "      <td>75.0</td>\n",
       "    </tr>\n",
       "    <tr>\n",
       "      <th>d696c654-2633-11ea-8e1c-000d3a38a36f</th>\n",
       "      <td>70.0</td>\n",
       "    </tr>\n",
       "    <tr>\n",
       "      <th>a4d534a2-5b1b-11eb-8dbd-000d3a38a36f</th>\n",
       "      <td>70.0</td>\n",
       "    </tr>\n",
       "  </tbody>\n",
       "</table>\n",
       "</div>"
      ],
      "text/plain": [
       "                                      order_num_total\n",
       "master_id                                            \n",
       "5d1c466a-9cfd-11e9-9897-000d3a38a36f            202.0\n",
       "cba59206-9dd1-11e9-9897-000d3a38a36f            131.0\n",
       "a57f4302-b1a8-11e9-89fa-000d3a38a36f            111.0\n",
       "fdbe8304-a7ab-11e9-a2fc-000d3a38a36f             88.0\n",
       "329968c6-a0e2-11e9-a2fc-000d3a38a36f             83.0\n",
       "73fd19aa-9e37-11e9-9897-000d3a38a36f             82.0\n",
       "44d032ee-a0d4-11e9-a2fc-000d3a38a36f             77.0\n",
       "b27e241a-a901-11e9-a2fc-000d3a38a36f             75.0\n",
       "d696c654-2633-11ea-8e1c-000d3a38a36f             70.0\n",
       "a4d534a2-5b1b-11eb-8dbd-000d3a38a36f             70.0"
      ]
     },
     "execution_count": 14,
     "metadata": {},
     "output_type": "execute_result"
    }
   ],
   "source": [
    "df.groupby(\"master_id\").agg({\"order_num_total\" : \"sum\"}).sort_values(\"order_num_total\", ascending = False).head(10)"
   ]
  },
  {
   "cell_type": "markdown",
   "metadata": {
    "papermill": {
     "duration": 0.021012,
     "end_time": "2022-12-31T12:13:21.952311",
     "exception": false,
     "start_time": "2022-12-31T12:13:21.931299",
     "status": "completed"
    },
    "tags": []
   },
   "source": [
    "# 3 - Customer Segmentation with RFM Analysis"
   ]
  },
  {
   "cell_type": "markdown",
   "metadata": {
    "papermill": {
     "duration": 0.021405,
     "end_time": "2022-12-31T12:13:21.995026",
     "exception": false,
     "start_time": "2022-12-31T12:13:21.973621",
     "status": "completed"
    },
    "tags": []
   },
   "source": [
    "RFM analysis is a technique used for customer segmentation. It enables customers to be divided into groups based on their purchasing habits and to develop strategies specific to these groups.  \n",
    "\n",
    "The RFM model is based on three quantitative factors:\n",
    "\n",
    "**Recency:** How recently a customer has made a purchase.  \n",
    "**Frequency:** How often a customer makes a purchase.  \n",
    "**Monetary Value:** How much money a customer spends on purchases. \n",
    "\n",
    "https://www.investopedia.com/terms/r/rfm-recency-frequency-monetary-value.asp"
   ]
  },
  {
   "cell_type": "markdown",
   "metadata": {
    "papermill": {
     "duration": 0.023234,
     "end_time": "2022-12-31T12:13:22.040627",
     "exception": false,
     "start_time": "2022-12-31T12:13:22.017393",
     "status": "completed"
    },
    "tags": []
   },
   "source": [
    "# 3.1 - RFM Metrics"
   ]
  },
  {
   "cell_type": "markdown",
   "metadata": {
    "papermill": {
     "duration": 0.022461,
     "end_time": "2022-12-31T12:13:22.086551",
     "exception": false,
     "start_time": "2022-12-31T12:13:22.064090",
     "status": "completed"
    },
    "tags": []
   },
   "source": [
    "The analysis date required to calculate the recency value. Analysis date was determined to be 2 days after the maximum date.  \n",
    "\n",
    "Then, calculations of recency, frequency and monetary metrics were carried out."
   ]
  },
  {
   "cell_type": "code",
   "execution_count": 15,
   "metadata": {
    "execution": {
     "iopub.execute_input": "2022-12-31T12:13:22.132203Z",
     "iopub.status.busy": "2022-12-31T12:13:22.131685Z",
     "iopub.status.idle": "2022-12-31T12:13:22.138290Z",
     "shell.execute_reply": "2022-12-31T12:13:22.136897Z"
    },
    "papermill": {
     "duration": 0.032476,
     "end_time": "2022-12-31T12:13:22.140937",
     "exception": false,
     "start_time": "2022-12-31T12:13:22.108461",
     "status": "completed"
    },
    "tags": []
   },
   "outputs": [],
   "source": [
    "df[\"last_order_date\"].max()\n",
    "\n",
    "analysis_date = dt.datetime(2021,6,1)"
   ]
  },
  {
   "cell_type": "code",
   "execution_count": 16,
   "metadata": {
    "execution": {
     "iopub.execute_input": "2022-12-31T12:13:22.185493Z",
     "iopub.status.busy": "2022-12-31T12:13:22.184939Z",
     "iopub.status.idle": "2022-12-31T12:13:29.421654Z",
     "shell.execute_reply": "2022-12-31T12:13:29.420350Z"
    },
    "papermill": {
     "duration": 7.263061,
     "end_time": "2022-12-31T12:13:29.424927",
     "exception": false,
     "start_time": "2022-12-31T12:13:22.161866",
     "status": "completed"
    },
    "tags": []
   },
   "outputs": [],
   "source": [
    "rfm = df.groupby(\"master_id\").agg({\"last_order_date\": lambda x: (analysis_date - x),\n",
    "                                     \"order_num_total\": lambda y: y,\n",
    "                                     \"customer_value_total\": lambda z: z.sum()})"
   ]
  },
  {
   "cell_type": "code",
   "execution_count": 17,
   "metadata": {
    "execution": {
     "iopub.execute_input": "2022-12-31T12:13:29.469945Z",
     "iopub.status.busy": "2022-12-31T12:13:29.469440Z",
     "iopub.status.idle": "2022-12-31T12:13:29.475096Z",
     "shell.execute_reply": "2022-12-31T12:13:29.473813Z"
    },
    "papermill": {
     "duration": 0.031609,
     "end_time": "2022-12-31T12:13:29.477700",
     "exception": false,
     "start_time": "2022-12-31T12:13:29.446091",
     "status": "completed"
    },
    "tags": []
   },
   "outputs": [],
   "source": [
    "rfm.columns = [\"recency\", \"frequency\", \"monetary\"]"
   ]
  },
  {
   "cell_type": "code",
   "execution_count": 18,
   "metadata": {
    "execution": {
     "iopub.execute_input": "2022-12-31T12:13:29.524242Z",
     "iopub.status.busy": "2022-12-31T12:13:29.523392Z",
     "iopub.status.idle": "2022-12-31T12:13:29.537689Z",
     "shell.execute_reply": "2022-12-31T12:13:29.536252Z"
    },
    "papermill": {
     "duration": 0.040016,
     "end_time": "2022-12-31T12:13:29.540383",
     "exception": false,
     "start_time": "2022-12-31T12:13:29.500367",
     "status": "completed"
    },
    "tags": []
   },
   "outputs": [
    {
     "data": {
      "text/html": [
       "<div>\n",
       "<style scoped>\n",
       "    .dataframe tbody tr th:only-of-type {\n",
       "        vertical-align: middle;\n",
       "    }\n",
       "\n",
       "    .dataframe tbody tr th {\n",
       "        vertical-align: top;\n",
       "    }\n",
       "\n",
       "    .dataframe thead th {\n",
       "        text-align: right;\n",
       "    }\n",
       "</style>\n",
       "<table border=\"1\" class=\"dataframe\">\n",
       "  <thead>\n",
       "    <tr style=\"text-align: right;\">\n",
       "      <th></th>\n",
       "      <th>recency</th>\n",
       "      <th>frequency</th>\n",
       "      <th>monetary</th>\n",
       "    </tr>\n",
       "    <tr>\n",
       "      <th>master_id</th>\n",
       "      <th></th>\n",
       "      <th></th>\n",
       "      <th></th>\n",
       "    </tr>\n",
       "  </thead>\n",
       "  <tbody>\n",
       "    <tr>\n",
       "      <th>00016786-2f5a-11ea-bb80-000d3a38a36f</th>\n",
       "      <td>10 days</td>\n",
       "      <td>5.0</td>\n",
       "      <td>776.07</td>\n",
       "    </tr>\n",
       "    <tr>\n",
       "      <th>00034aaa-a838-11e9-a2fc-000d3a38a36f</th>\n",
       "      <td>298 days</td>\n",
       "      <td>3.0</td>\n",
       "      <td>269.47</td>\n",
       "    </tr>\n",
       "    <tr>\n",
       "      <th>000be838-85df-11ea-a90b-000d3a38a36f</th>\n",
       "      <td>213 days</td>\n",
       "      <td>4.0</td>\n",
       "      <td>722.69</td>\n",
       "    </tr>\n",
       "    <tr>\n",
       "      <th>000c1fe2-a8b7-11ea-8479-000d3a38a36f</th>\n",
       "      <td>27 days</td>\n",
       "      <td>7.0</td>\n",
       "      <td>874.16</td>\n",
       "    </tr>\n",
       "    <tr>\n",
       "      <th>000f5e3e-9dde-11ea-80cd-000d3a38a36f</th>\n",
       "      <td>20 days</td>\n",
       "      <td>7.0</td>\n",
       "      <td>1620.33</td>\n",
       "    </tr>\n",
       "  </tbody>\n",
       "</table>\n",
       "</div>"
      ],
      "text/plain": [
       "                                      recency  frequency  monetary\n",
       "master_id                                                         \n",
       "00016786-2f5a-11ea-bb80-000d3a38a36f  10 days        5.0    776.07\n",
       "00034aaa-a838-11e9-a2fc-000d3a38a36f 298 days        3.0    269.47\n",
       "000be838-85df-11ea-a90b-000d3a38a36f 213 days        4.0    722.69\n",
       "000c1fe2-a8b7-11ea-8479-000d3a38a36f  27 days        7.0    874.16\n",
       "000f5e3e-9dde-11ea-80cd-000d3a38a36f  20 days        7.0   1620.33"
      ]
     },
     "execution_count": 18,
     "metadata": {},
     "output_type": "execute_result"
    }
   ],
   "source": [
    "rfm.head()"
   ]
  },
  {
   "cell_type": "markdown",
   "metadata": {
    "papermill": {
     "duration": 0.021085,
     "end_time": "2022-12-31T12:13:29.583349",
     "exception": false,
     "start_time": "2022-12-31T12:13:29.562264",
     "status": "completed"
    },
    "tags": []
   },
   "source": [
    "# 3.2 - RF Scores"
   ]
  },
  {
   "cell_type": "markdown",
   "metadata": {
    "papermill": {
     "duration": 0.022275,
     "end_time": "2022-12-31T12:13:29.628111",
     "exception": false,
     "start_time": "2022-12-31T12:13:29.605836",
     "status": "completed"
    },
    "tags": []
   },
   "source": [
    "Recency, frequency and monetary values ​​were converted to scores ranging from 1 to 5 using the qcut method. Then, the recency score and frequency score were expressed as a single variable as RF_SCORE."
   ]
  },
  {
   "cell_type": "code",
   "execution_count": 19,
   "metadata": {
    "execution": {
     "iopub.execute_input": "2022-12-31T12:13:29.674675Z",
     "iopub.status.busy": "2022-12-31T12:13:29.674198Z",
     "iopub.status.idle": "2022-12-31T12:13:29.714740Z",
     "shell.execute_reply": "2022-12-31T12:13:29.713176Z"
    },
    "papermill": {
     "duration": 0.066782,
     "end_time": "2022-12-31T12:13:29.717774",
     "exception": false,
     "start_time": "2022-12-31T12:13:29.650992",
     "status": "completed"
    },
    "tags": []
   },
   "outputs": [],
   "source": [
    "rfm[\"recency_score\"] = pd.qcut(rfm[\"recency\"], 5, labels=[5, 4, 3, 2, 1])\n",
    "\n",
    "rfm[\"frequency_score\"] = pd.qcut(rfm[\"frequency\"].rank(method = \"first\"), 5, labels=[1, 2, 3, 4, 5])\n",
    "\n",
    "rfm[\"monetary_score\"] = pd.qcut(rfm[\"monetary\"], 5, labels=[1, 2, 3, 4, 5])\n",
    "\n",
    "rfm[\"RF_SCORE\"] = (rfm[\"recency_score\"].astype(str) + rfm[\"frequency_score\"].astype(str))"
   ]
  },
  {
   "cell_type": "code",
   "execution_count": 20,
   "metadata": {
    "execution": {
     "iopub.execute_input": "2022-12-31T12:13:29.766004Z",
     "iopub.status.busy": "2022-12-31T12:13:29.764859Z",
     "iopub.status.idle": "2022-12-31T12:13:29.783858Z",
     "shell.execute_reply": "2022-12-31T12:13:29.782556Z"
    },
    "papermill": {
     "duration": 0.045035,
     "end_time": "2022-12-31T12:13:29.786471",
     "exception": false,
     "start_time": "2022-12-31T12:13:29.741436",
     "status": "completed"
    },
    "tags": []
   },
   "outputs": [
    {
     "data": {
      "text/html": [
       "<div>\n",
       "<style scoped>\n",
       "    .dataframe tbody tr th:only-of-type {\n",
       "        vertical-align: middle;\n",
       "    }\n",
       "\n",
       "    .dataframe tbody tr th {\n",
       "        vertical-align: top;\n",
       "    }\n",
       "\n",
       "    .dataframe thead th {\n",
       "        text-align: right;\n",
       "    }\n",
       "</style>\n",
       "<table border=\"1\" class=\"dataframe\">\n",
       "  <thead>\n",
       "    <tr style=\"text-align: right;\">\n",
       "      <th></th>\n",
       "      <th>recency</th>\n",
       "      <th>frequency</th>\n",
       "      <th>monetary</th>\n",
       "      <th>recency_score</th>\n",
       "      <th>frequency_score</th>\n",
       "      <th>monetary_score</th>\n",
       "      <th>RF_SCORE</th>\n",
       "    </tr>\n",
       "    <tr>\n",
       "      <th>master_id</th>\n",
       "      <th></th>\n",
       "      <th></th>\n",
       "      <th></th>\n",
       "      <th></th>\n",
       "      <th></th>\n",
       "      <th></th>\n",
       "      <th></th>\n",
       "    </tr>\n",
       "  </thead>\n",
       "  <tbody>\n",
       "    <tr>\n",
       "      <th>00016786-2f5a-11ea-bb80-000d3a38a36f</th>\n",
       "      <td>10 days</td>\n",
       "      <td>5.0</td>\n",
       "      <td>776.07</td>\n",
       "      <td>5</td>\n",
       "      <td>4</td>\n",
       "      <td>4</td>\n",
       "      <td>54</td>\n",
       "    </tr>\n",
       "    <tr>\n",
       "      <th>00034aaa-a838-11e9-a2fc-000d3a38a36f</th>\n",
       "      <td>298 days</td>\n",
       "      <td>3.0</td>\n",
       "      <td>269.47</td>\n",
       "      <td>1</td>\n",
       "      <td>2</td>\n",
       "      <td>1</td>\n",
       "      <td>12</td>\n",
       "    </tr>\n",
       "    <tr>\n",
       "      <th>000be838-85df-11ea-a90b-000d3a38a36f</th>\n",
       "      <td>213 days</td>\n",
       "      <td>4.0</td>\n",
       "      <td>722.69</td>\n",
       "      <td>2</td>\n",
       "      <td>3</td>\n",
       "      <td>4</td>\n",
       "      <td>23</td>\n",
       "    </tr>\n",
       "    <tr>\n",
       "      <th>000c1fe2-a8b7-11ea-8479-000d3a38a36f</th>\n",
       "      <td>27 days</td>\n",
       "      <td>7.0</td>\n",
       "      <td>874.16</td>\n",
       "      <td>5</td>\n",
       "      <td>4</td>\n",
       "      <td>4</td>\n",
       "      <td>54</td>\n",
       "    </tr>\n",
       "    <tr>\n",
       "      <th>000f5e3e-9dde-11ea-80cd-000d3a38a36f</th>\n",
       "      <td>20 days</td>\n",
       "      <td>7.0</td>\n",
       "      <td>1620.33</td>\n",
       "      <td>5</td>\n",
       "      <td>4</td>\n",
       "      <td>5</td>\n",
       "      <td>54</td>\n",
       "    </tr>\n",
       "  </tbody>\n",
       "</table>\n",
       "</div>"
      ],
      "text/plain": [
       "                                      recency  frequency  monetary  \\\n",
       "master_id                                                            \n",
       "00016786-2f5a-11ea-bb80-000d3a38a36f  10 days        5.0    776.07   \n",
       "00034aaa-a838-11e9-a2fc-000d3a38a36f 298 days        3.0    269.47   \n",
       "000be838-85df-11ea-a90b-000d3a38a36f 213 days        4.0    722.69   \n",
       "000c1fe2-a8b7-11ea-8479-000d3a38a36f  27 days        7.0    874.16   \n",
       "000f5e3e-9dde-11ea-80cd-000d3a38a36f  20 days        7.0   1620.33   \n",
       "\n",
       "                                     recency_score frequency_score  \\\n",
       "master_id                                                            \n",
       "00016786-2f5a-11ea-bb80-000d3a38a36f             5               4   \n",
       "00034aaa-a838-11e9-a2fc-000d3a38a36f             1               2   \n",
       "000be838-85df-11ea-a90b-000d3a38a36f             2               3   \n",
       "000c1fe2-a8b7-11ea-8479-000d3a38a36f             5               4   \n",
       "000f5e3e-9dde-11ea-80cd-000d3a38a36f             5               4   \n",
       "\n",
       "                                     monetary_score RF_SCORE  \n",
       "master_id                                                     \n",
       "00016786-2f5a-11ea-bb80-000d3a38a36f              4       54  \n",
       "00034aaa-a838-11e9-a2fc-000d3a38a36f              1       12  \n",
       "000be838-85df-11ea-a90b-000d3a38a36f              4       23  \n",
       "000c1fe2-a8b7-11ea-8479-000d3a38a36f              4       54  \n",
       "000f5e3e-9dde-11ea-80cd-000d3a38a36f              5       54  "
      ]
     },
     "execution_count": 20,
     "metadata": {},
     "output_type": "execute_result"
    }
   ],
   "source": [
    "rfm.head()"
   ]
  },
  {
   "cell_type": "markdown",
   "metadata": {
    "papermill": {
     "duration": 0.021194,
     "end_time": "2022-12-31T12:13:29.831079",
     "exception": false,
     "start_time": "2022-12-31T12:13:29.809885",
     "status": "completed"
    },
    "tags": []
   },
   "source": [
    "# 3.3 - Segmentation"
   ]
  },
  {
   "cell_type": "markdown",
   "metadata": {
    "papermill": {
     "duration": 0.02148,
     "end_time": "2022-12-31T12:13:29.874114",
     "exception": false,
     "start_time": "2022-12-31T12:13:29.852634",
     "status": "completed"
    },
    "tags": []
   },
   "source": [
    "Segment definitions were created for the generated RF scores and the scores were converted into segments."
   ]
  },
  {
   "cell_type": "code",
   "execution_count": 21,
   "metadata": {
    "execution": {
     "iopub.execute_input": "2022-12-31T12:13:29.921394Z",
     "iopub.status.busy": "2022-12-31T12:13:29.920546Z",
     "iopub.status.idle": "2022-12-31T12:13:29.926272Z",
     "shell.execute_reply": "2022-12-31T12:13:29.925134Z"
    },
    "papermill": {
     "duration": 0.032088,
     "end_time": "2022-12-31T12:13:29.929090",
     "exception": false,
     "start_time": "2022-12-31T12:13:29.897002",
     "status": "completed"
    },
    "tags": []
   },
   "outputs": [],
   "source": [
    "seg_map = {\n",
    "    r'[1-2][1-2]': 'hibernating',\n",
    "    r'[1-2][3-4]': 'at_Risk',\n",
    "    r'[1-2]5': 'cant_loose',\n",
    "    r'3[1-2]': 'about_to_sleep',\n",
    "    r'33': 'need_attention',\n",
    "    r'[3-4][4-5]': 'loyal_customers',\n",
    "    r'41': 'promising',\n",
    "    r'51': 'new_customers',\n",
    "    r'[4-5][2-3]': 'potential_loyalists',\n",
    "    r'5[4-5]': 'champions'\n",
    "}"
   ]
  },
  {
   "cell_type": "code",
   "execution_count": 22,
   "metadata": {
    "execution": {
     "iopub.execute_input": "2022-12-31T12:13:29.977211Z",
     "iopub.status.busy": "2022-12-31T12:13:29.976696Z",
     "iopub.status.idle": "2022-12-31T12:13:30.332727Z",
     "shell.execute_reply": "2022-12-31T12:13:30.331288Z"
    },
    "papermill": {
     "duration": 0.384708,
     "end_time": "2022-12-31T12:13:30.335603",
     "exception": false,
     "start_time": "2022-12-31T12:13:29.950895",
     "status": "completed"
    },
    "tags": []
   },
   "outputs": [],
   "source": [
    "rfm[\"segment\"] = rfm[\"RF_SCORE\"].replace(seg_map, regex=True)"
   ]
  },
  {
   "cell_type": "code",
   "execution_count": 23,
   "metadata": {
    "execution": {
     "iopub.execute_input": "2022-12-31T12:13:30.381597Z",
     "iopub.status.busy": "2022-12-31T12:13:30.381089Z",
     "iopub.status.idle": "2022-12-31T12:13:30.401024Z",
     "shell.execute_reply": "2022-12-31T12:13:30.399705Z"
    },
    "papermill": {
     "duration": 0.045633,
     "end_time": "2022-12-31T12:13:30.403616",
     "exception": false,
     "start_time": "2022-12-31T12:13:30.357983",
     "status": "completed"
    },
    "tags": []
   },
   "outputs": [
    {
     "data": {
      "text/html": [
       "<div>\n",
       "<style scoped>\n",
       "    .dataframe tbody tr th:only-of-type {\n",
       "        vertical-align: middle;\n",
       "    }\n",
       "\n",
       "    .dataframe tbody tr th {\n",
       "        vertical-align: top;\n",
       "    }\n",
       "\n",
       "    .dataframe thead th {\n",
       "        text-align: right;\n",
       "    }\n",
       "</style>\n",
       "<table border=\"1\" class=\"dataframe\">\n",
       "  <thead>\n",
       "    <tr style=\"text-align: right;\">\n",
       "      <th></th>\n",
       "      <th>recency</th>\n",
       "      <th>frequency</th>\n",
       "      <th>monetary</th>\n",
       "      <th>recency_score</th>\n",
       "      <th>frequency_score</th>\n",
       "      <th>monetary_score</th>\n",
       "      <th>RF_SCORE</th>\n",
       "      <th>segment</th>\n",
       "    </tr>\n",
       "    <tr>\n",
       "      <th>master_id</th>\n",
       "      <th></th>\n",
       "      <th></th>\n",
       "      <th></th>\n",
       "      <th></th>\n",
       "      <th></th>\n",
       "      <th></th>\n",
       "      <th></th>\n",
       "      <th></th>\n",
       "    </tr>\n",
       "  </thead>\n",
       "  <tbody>\n",
       "    <tr>\n",
       "      <th>00016786-2f5a-11ea-bb80-000d3a38a36f</th>\n",
       "      <td>10 days</td>\n",
       "      <td>5.0</td>\n",
       "      <td>776.07</td>\n",
       "      <td>5</td>\n",
       "      <td>4</td>\n",
       "      <td>4</td>\n",
       "      <td>54</td>\n",
       "      <td>champions</td>\n",
       "    </tr>\n",
       "    <tr>\n",
       "      <th>00034aaa-a838-11e9-a2fc-000d3a38a36f</th>\n",
       "      <td>298 days</td>\n",
       "      <td>3.0</td>\n",
       "      <td>269.47</td>\n",
       "      <td>1</td>\n",
       "      <td>2</td>\n",
       "      <td>1</td>\n",
       "      <td>12</td>\n",
       "      <td>hibernating</td>\n",
       "    </tr>\n",
       "    <tr>\n",
       "      <th>000be838-85df-11ea-a90b-000d3a38a36f</th>\n",
       "      <td>213 days</td>\n",
       "      <td>4.0</td>\n",
       "      <td>722.69</td>\n",
       "      <td>2</td>\n",
       "      <td>3</td>\n",
       "      <td>4</td>\n",
       "      <td>23</td>\n",
       "      <td>at_Risk</td>\n",
       "    </tr>\n",
       "    <tr>\n",
       "      <th>000c1fe2-a8b7-11ea-8479-000d3a38a36f</th>\n",
       "      <td>27 days</td>\n",
       "      <td>7.0</td>\n",
       "      <td>874.16</td>\n",
       "      <td>5</td>\n",
       "      <td>4</td>\n",
       "      <td>4</td>\n",
       "      <td>54</td>\n",
       "      <td>champions</td>\n",
       "    </tr>\n",
       "    <tr>\n",
       "      <th>000f5e3e-9dde-11ea-80cd-000d3a38a36f</th>\n",
       "      <td>20 days</td>\n",
       "      <td>7.0</td>\n",
       "      <td>1620.33</td>\n",
       "      <td>5</td>\n",
       "      <td>4</td>\n",
       "      <td>5</td>\n",
       "      <td>54</td>\n",
       "      <td>champions</td>\n",
       "    </tr>\n",
       "  </tbody>\n",
       "</table>\n",
       "</div>"
      ],
      "text/plain": [
       "                                      recency  frequency  monetary  \\\n",
       "master_id                                                            \n",
       "00016786-2f5a-11ea-bb80-000d3a38a36f  10 days        5.0    776.07   \n",
       "00034aaa-a838-11e9-a2fc-000d3a38a36f 298 days        3.0    269.47   \n",
       "000be838-85df-11ea-a90b-000d3a38a36f 213 days        4.0    722.69   \n",
       "000c1fe2-a8b7-11ea-8479-000d3a38a36f  27 days        7.0    874.16   \n",
       "000f5e3e-9dde-11ea-80cd-000d3a38a36f  20 days        7.0   1620.33   \n",
       "\n",
       "                                     recency_score frequency_score  \\\n",
       "master_id                                                            \n",
       "00016786-2f5a-11ea-bb80-000d3a38a36f             5               4   \n",
       "00034aaa-a838-11e9-a2fc-000d3a38a36f             1               2   \n",
       "000be838-85df-11ea-a90b-000d3a38a36f             2               3   \n",
       "000c1fe2-a8b7-11ea-8479-000d3a38a36f             5               4   \n",
       "000f5e3e-9dde-11ea-80cd-000d3a38a36f             5               4   \n",
       "\n",
       "                                     monetary_score RF_SCORE      segment  \n",
       "master_id                                                                  \n",
       "00016786-2f5a-11ea-bb80-000d3a38a36f              4       54    champions  \n",
       "00034aaa-a838-11e9-a2fc-000d3a38a36f              1       12  hibernating  \n",
       "000be838-85df-11ea-a90b-000d3a38a36f              4       23      at_Risk  \n",
       "000c1fe2-a8b7-11ea-8479-000d3a38a36f              4       54    champions  \n",
       "000f5e3e-9dde-11ea-80cd-000d3a38a36f              5       54    champions  "
      ]
     },
     "execution_count": 23,
     "metadata": {},
     "output_type": "execute_result"
    }
   ],
   "source": [
    "rfm.head()"
   ]
  },
  {
   "cell_type": "markdown",
   "metadata": {
    "papermill": {
     "duration": 0.021662,
     "end_time": "2022-12-31T12:13:30.447387",
     "exception": false,
     "start_time": "2022-12-31T12:13:30.425725",
     "status": "completed"
    },
    "tags": []
   },
   "source": [
    "The recency, frequency and monetary averages of the segments were examined."
   ]
  },
  {
   "cell_type": "code",
   "execution_count": 24,
   "metadata": {
    "execution": {
     "iopub.execute_input": "2022-12-31T12:13:30.494427Z",
     "iopub.status.busy": "2022-12-31T12:13:30.493905Z",
     "iopub.status.idle": "2022-12-31T12:13:30.526650Z",
     "shell.execute_reply": "2022-12-31T12:13:30.525181Z"
    },
    "papermill": {
     "duration": 0.059376,
     "end_time": "2022-12-31T12:13:30.529695",
     "exception": false,
     "start_time": "2022-12-31T12:13:30.470319",
     "status": "completed"
    },
    "tags": []
   },
   "outputs": [
    {
     "data": {
      "text/html": [
       "<div>\n",
       "<style scoped>\n",
       "    .dataframe tbody tr th:only-of-type {\n",
       "        vertical-align: middle;\n",
       "    }\n",
       "\n",
       "    .dataframe tbody tr th {\n",
       "        vertical-align: top;\n",
       "    }\n",
       "\n",
       "    .dataframe thead tr th {\n",
       "        text-align: left;\n",
       "    }\n",
       "\n",
       "    .dataframe thead tr:last-of-type th {\n",
       "        text-align: right;\n",
       "    }\n",
       "</style>\n",
       "<table border=\"1\" class=\"dataframe\">\n",
       "  <thead>\n",
       "    <tr>\n",
       "      <th></th>\n",
       "      <th>recency</th>\n",
       "      <th>frequency</th>\n",
       "      <th>monetary</th>\n",
       "    </tr>\n",
       "    <tr>\n",
       "      <th></th>\n",
       "      <th>mean</th>\n",
       "      <th>mean</th>\n",
       "      <th>mean</th>\n",
       "    </tr>\n",
       "    <tr>\n",
       "      <th>segment</th>\n",
       "      <th></th>\n",
       "      <th></th>\n",
       "      <th></th>\n",
       "    </tr>\n",
       "  </thead>\n",
       "  <tbody>\n",
       "    <tr>\n",
       "      <th>about_to_sleep</th>\n",
       "      <td>114 days 00:45:34.510042604</td>\n",
       "      <td>2.406573</td>\n",
       "      <td>361.649373</td>\n",
       "    </tr>\n",
       "    <tr>\n",
       "      <th>at_Risk</th>\n",
       "      <td>242 days 07:53:45.380710660</td>\n",
       "      <td>4.470178</td>\n",
       "      <td>648.325038</td>\n",
       "    </tr>\n",
       "    <tr>\n",
       "      <th>cant_loose</th>\n",
       "      <td>235 days 03:49:08.743718592</td>\n",
       "      <td>10.716918</td>\n",
       "      <td>1481.652446</td>\n",
       "    </tr>\n",
       "    <tr>\n",
       "      <th>champions</th>\n",
       "      <td>17 days 03:24:45</td>\n",
       "      <td>8.965104</td>\n",
       "      <td>1410.708938</td>\n",
       "    </tr>\n",
       "    <tr>\n",
       "      <th>hibernating</th>\n",
       "      <td>247 days 10:13:52.543884092</td>\n",
       "      <td>2.391474</td>\n",
       "      <td>362.583299</td>\n",
       "    </tr>\n",
       "    <tr>\n",
       "      <th>loyal_customers</th>\n",
       "      <td>82 days 13:23:24.800000</td>\n",
       "      <td>8.356444</td>\n",
       "      <td>1216.257224</td>\n",
       "    </tr>\n",
       "    <tr>\n",
       "      <th>need_attention</th>\n",
       "      <td>113 days 00:53:35.880893300</td>\n",
       "      <td>3.739454</td>\n",
       "      <td>553.436638</td>\n",
       "    </tr>\n",
       "    <tr>\n",
       "      <th>new_customers</th>\n",
       "      <td>17 days 23:25:45.913818722</td>\n",
       "      <td>2.000000</td>\n",
       "      <td>344.049495</td>\n",
       "    </tr>\n",
       "    <tr>\n",
       "      <th>potential_loyalists</th>\n",
       "      <td>36 days 20:52:25.846153846</td>\n",
       "      <td>3.310769</td>\n",
       "      <td>533.741344</td>\n",
       "    </tr>\n",
       "    <tr>\n",
       "      <th>promising</th>\n",
       "      <td>58 days 16:40:14.371257485</td>\n",
       "      <td>2.000000</td>\n",
       "      <td>334.153338</td>\n",
       "    </tr>\n",
       "  </tbody>\n",
       "</table>\n",
       "</div>"
      ],
      "text/plain": [
       "                                        recency  frequency     monetary\n",
       "                                           mean       mean         mean\n",
       "segment                                                                \n",
       "about_to_sleep      114 days 00:45:34.510042604   2.406573   361.649373\n",
       "at_Risk             242 days 07:53:45.380710660   4.470178   648.325038\n",
       "cant_loose          235 days 03:49:08.743718592  10.716918  1481.652446\n",
       "champions                      17 days 03:24:45   8.965104  1410.708938\n",
       "hibernating         247 days 10:13:52.543884092   2.391474   362.583299\n",
       "loyal_customers         82 days 13:23:24.800000   8.356444  1216.257224\n",
       "need_attention      113 days 00:53:35.880893300   3.739454   553.436638\n",
       "new_customers        17 days 23:25:45.913818722   2.000000   344.049495\n",
       "potential_loyalists  36 days 20:52:25.846153846   3.310769   533.741344\n",
       "promising            58 days 16:40:14.371257485   2.000000   334.153338"
      ]
     },
     "execution_count": 24,
     "metadata": {},
     "output_type": "execute_result"
    }
   ],
   "source": [
    "rfm[[\"segment\", \"recency\", \"frequency\", \"monetary\"]].groupby(\"segment\").agg([\"mean\"])"
   ]
  },
  {
   "cell_type": "markdown",
   "metadata": {
    "papermill": {
     "duration": 0.021613,
     "end_time": "2022-12-31T12:13:30.574997",
     "exception": false,
     "start_time": "2022-12-31T12:13:30.553384",
     "status": "completed"
    },
    "tags": []
   },
   "source": [
    "# 3.4 - Case"
   ]
  },
  {
   "cell_type": "markdown",
   "metadata": {
    "papermill": {
     "duration": 0.022209,
     "end_time": "2022-12-31T12:13:30.619049",
     "exception": false,
     "start_time": "2022-12-31T12:13:30.596840",
     "status": "completed"
    },
    "tags": []
   },
   "source": [
    "The id's of both female and loyal customers (champions, loyal_customers) want to be found. Below is a study on this.  \n",
    "First, to be able to filter the categories, the interested_in_categories_12 column has been added to rfm using left join. Join operation was done according to master_id column. Then filtering was done.  \n",
    "Among the loyal customers (champions, loyal_customers) shoppers from the female category were found and their ids were recorded."
   ]
  },
  {
   "cell_type": "code",
   "execution_count": 25,
   "metadata": {
    "execution": {
     "iopub.execute_input": "2022-12-31T12:13:30.666581Z",
     "iopub.status.busy": "2022-12-31T12:13:30.666122Z",
     "iopub.status.idle": "2022-12-31T12:13:30.704549Z",
     "shell.execute_reply": "2022-12-31T12:13:30.703167Z"
    },
    "papermill": {
     "duration": 0.065215,
     "end_time": "2022-12-31T12:13:30.707618",
     "exception": false,
     "start_time": "2022-12-31T12:13:30.642403",
     "status": "completed"
    },
    "tags": []
   },
   "outputs": [],
   "source": [
    "rfm = pd.merge(rfm,df[[\"master_id\",\"interested_in_categories_12\"]],on=\"master_id\", how='left')"
   ]
  },
  {
   "cell_type": "code",
   "execution_count": 26,
   "metadata": {
    "execution": {
     "iopub.execute_input": "2022-12-31T12:13:30.755038Z",
     "iopub.status.busy": "2022-12-31T12:13:30.754526Z",
     "iopub.status.idle": "2022-12-31T12:13:30.774608Z",
     "shell.execute_reply": "2022-12-31T12:13:30.773691Z"
    },
    "papermill": {
     "duration": 0.04766,
     "end_time": "2022-12-31T12:13:30.777236",
     "exception": false,
     "start_time": "2022-12-31T12:13:30.729576",
     "status": "completed"
    },
    "tags": []
   },
   "outputs": [
    {
     "data": {
      "text/html": [
       "<div>\n",
       "<style scoped>\n",
       "    .dataframe tbody tr th:only-of-type {\n",
       "        vertical-align: middle;\n",
       "    }\n",
       "\n",
       "    .dataframe tbody tr th {\n",
       "        vertical-align: top;\n",
       "    }\n",
       "\n",
       "    .dataframe thead th {\n",
       "        text-align: right;\n",
       "    }\n",
       "</style>\n",
       "<table border=\"1\" class=\"dataframe\">\n",
       "  <thead>\n",
       "    <tr style=\"text-align: right;\">\n",
       "      <th></th>\n",
       "      <th>master_id</th>\n",
       "      <th>recency</th>\n",
       "      <th>frequency</th>\n",
       "      <th>monetary</th>\n",
       "      <th>recency_score</th>\n",
       "      <th>frequency_score</th>\n",
       "      <th>monetary_score</th>\n",
       "      <th>RF_SCORE</th>\n",
       "      <th>segment</th>\n",
       "      <th>interested_in_categories_12</th>\n",
       "    </tr>\n",
       "  </thead>\n",
       "  <tbody>\n",
       "    <tr>\n",
       "      <th>0</th>\n",
       "      <td>00016786-2f5a-11ea-bb80-000d3a38a36f</td>\n",
       "      <td>10 days</td>\n",
       "      <td>5.0</td>\n",
       "      <td>776.07</td>\n",
       "      <td>5</td>\n",
       "      <td>4</td>\n",
       "      <td>4</td>\n",
       "      <td>54</td>\n",
       "      <td>champions</td>\n",
       "      <td>[ERKEK, COCUK, AKTIFSPOR]</td>\n",
       "    </tr>\n",
       "    <tr>\n",
       "      <th>1</th>\n",
       "      <td>00034aaa-a838-11e9-a2fc-000d3a38a36f</td>\n",
       "      <td>298 days</td>\n",
       "      <td>3.0</td>\n",
       "      <td>269.47</td>\n",
       "      <td>1</td>\n",
       "      <td>2</td>\n",
       "      <td>1</td>\n",
       "      <td>12</td>\n",
       "      <td>hibernating</td>\n",
       "      <td>[ERKEK, KADIN]</td>\n",
       "    </tr>\n",
       "    <tr>\n",
       "      <th>2</th>\n",
       "      <td>000be838-85df-11ea-a90b-000d3a38a36f</td>\n",
       "      <td>213 days</td>\n",
       "      <td>4.0</td>\n",
       "      <td>722.69</td>\n",
       "      <td>2</td>\n",
       "      <td>3</td>\n",
       "      <td>4</td>\n",
       "      <td>23</td>\n",
       "      <td>at_Risk</td>\n",
       "      <td>[AKTIFCOCUK, AKTIFSPOR]</td>\n",
       "    </tr>\n",
       "    <tr>\n",
       "      <th>3</th>\n",
       "      <td>000c1fe2-a8b7-11ea-8479-000d3a38a36f</td>\n",
       "      <td>27 days</td>\n",
       "      <td>7.0</td>\n",
       "      <td>874.16</td>\n",
       "      <td>5</td>\n",
       "      <td>4</td>\n",
       "      <td>4</td>\n",
       "      <td>54</td>\n",
       "      <td>champions</td>\n",
       "      <td>[AKTIFCOCUK, ERKEK, COCUK, KADIN, AKTIFSPOR]</td>\n",
       "    </tr>\n",
       "    <tr>\n",
       "      <th>4</th>\n",
       "      <td>000f5e3e-9dde-11ea-80cd-000d3a38a36f</td>\n",
       "      <td>20 days</td>\n",
       "      <td>7.0</td>\n",
       "      <td>1620.33</td>\n",
       "      <td>5</td>\n",
       "      <td>4</td>\n",
       "      <td>5</td>\n",
       "      <td>54</td>\n",
       "      <td>champions</td>\n",
       "      <td>[ERKEK, AKTIFSPOR]</td>\n",
       "    </tr>\n",
       "  </tbody>\n",
       "</table>\n",
       "</div>"
      ],
      "text/plain": [
       "                              master_id  recency  frequency  monetary  \\\n",
       "0  00016786-2f5a-11ea-bb80-000d3a38a36f  10 days        5.0    776.07   \n",
       "1  00034aaa-a838-11e9-a2fc-000d3a38a36f 298 days        3.0    269.47   \n",
       "2  000be838-85df-11ea-a90b-000d3a38a36f 213 days        4.0    722.69   \n",
       "3  000c1fe2-a8b7-11ea-8479-000d3a38a36f  27 days        7.0    874.16   \n",
       "4  000f5e3e-9dde-11ea-80cd-000d3a38a36f  20 days        7.0   1620.33   \n",
       "\n",
       "  recency_score frequency_score monetary_score RF_SCORE      segment  \\\n",
       "0             5               4              4       54    champions   \n",
       "1             1               2              1       12  hibernating   \n",
       "2             2               3              4       23      at_Risk   \n",
       "3             5               4              4       54    champions   \n",
       "4             5               4              5       54    champions   \n",
       "\n",
       "                    interested_in_categories_12  \n",
       "0                     [ERKEK, COCUK, AKTIFSPOR]  \n",
       "1                                [ERKEK, KADIN]  \n",
       "2                       [AKTIFCOCUK, AKTIFSPOR]  \n",
       "3  [AKTIFCOCUK, ERKEK, COCUK, KADIN, AKTIFSPOR]  \n",
       "4                            [ERKEK, AKTIFSPOR]  "
      ]
     },
     "execution_count": 26,
     "metadata": {},
     "output_type": "execute_result"
    }
   ],
   "source": [
    "rfm.head()"
   ]
  },
  {
   "cell_type": "code",
   "execution_count": 27,
   "metadata": {
    "execution": {
     "iopub.execute_input": "2022-12-31T12:13:30.826464Z",
     "iopub.status.busy": "2022-12-31T12:13:30.825922Z",
     "iopub.status.idle": "2022-12-31T12:13:30.851256Z",
     "shell.execute_reply": "2022-12-31T12:13:30.850133Z"
    },
    "papermill": {
     "duration": 0.053994,
     "end_time": "2022-12-31T12:13:30.854168",
     "exception": false,
     "start_time": "2022-12-31T12:13:30.800174",
     "status": "completed"
    },
    "tags": []
   },
   "outputs": [],
   "source": [
    "new_customers_1 = rfm.loc[(rfm[\"segment\"].eq(\"champions\") | rfm[\"segment\"].eq(\"loyal_customers\")) & (rfm.interested_in_categories_12.str.contains(\"KADIN\")), \"master_id\"]\n",
    "\n",
    "new_customers_1 = new_customers_1.reset_index(drop=True)"
   ]
  },
  {
   "cell_type": "code",
   "execution_count": 28,
   "metadata": {
    "execution": {
     "iopub.execute_input": "2022-12-31T12:13:30.903865Z",
     "iopub.status.busy": "2022-12-31T12:13:30.903370Z",
     "iopub.status.idle": "2022-12-31T12:13:30.912384Z",
     "shell.execute_reply": "2022-12-31T12:13:30.911166Z"
    },
    "papermill": {
     "duration": 0.037171,
     "end_time": "2022-12-31T12:13:30.914825",
     "exception": false,
     "start_time": "2022-12-31T12:13:30.877654",
     "status": "completed"
    },
    "tags": []
   },
   "outputs": [
    {
     "data": {
      "text/plain": [
       "0    000c1fe2-a8b7-11ea-8479-000d3a38a36f\n",
       "1    003903e0-abce-11e9-a2fc-000d3a38a36f\n",
       "2    004bec18-9f7a-11e9-a2fc-000d3a38a36f\n",
       "3    00534fe4-a6b4-11e9-a2fc-000d3a38a36f\n",
       "4    009293fe-1f3e-11ea-87bf-000d3a38a36f\n",
       "Name: master_id, dtype: object"
      ]
     },
     "execution_count": 28,
     "metadata": {},
     "output_type": "execute_result"
    }
   ],
   "source": [
    "new_customers_1.head()"
   ]
  },
  {
   "cell_type": "code",
   "execution_count": 29,
   "metadata": {
    "execution": {
     "iopub.execute_input": "2022-12-31T12:13:30.963018Z",
     "iopub.status.busy": "2022-12-31T12:13:30.962357Z",
     "iopub.status.idle": "2022-12-31T12:13:30.970615Z",
     "shell.execute_reply": "2022-12-31T12:13:30.969397Z"
    },
    "papermill": {
     "duration": 0.034918,
     "end_time": "2022-12-31T12:13:30.973230",
     "exception": false,
     "start_time": "2022-12-31T12:13:30.938312",
     "status": "completed"
    },
    "tags": []
   },
   "outputs": [
    {
     "data": {
      "text/plain": [
       "2487"
      ]
     },
     "execution_count": 29,
     "metadata": {},
     "output_type": "execute_result"
    }
   ],
   "source": [
    "len(new_customers_1)"
   ]
  },
  {
   "cell_type": "markdown",
   "metadata": {
    "papermill": {
     "duration": 0.022748,
     "end_time": "2022-12-31T12:13:31.019922",
     "exception": false,
     "start_time": "2022-12-31T12:13:30.997174",
     "status": "completed"
    },
    "tags": []
   },
   "source": [
    "# 4 - Customer Segmentation with K-Means"
   ]
  },
  {
   "attachments": {
    "015a0ec6-7e85-469f-833d-50b2a96be00d.png": {
     "image/png": "[encoded data removed]"
    }
   },
   "cell_type": "markdown",
   "metadata": {
    "papermill": {
     "duration": 0.022322,
     "end_time": "2022-12-31T12:13:31.065191",
     "exception": false,
     "start_time": "2022-12-31T12:13:31.042869",
     "status": "completed"
    },
    "tags": []
   },
   "source": [
    "The purpose of K-means is to divide the observations into clusters according to their similarities to each other.  \n",
    "\n",
    "![K-Means-Clustering.png](attachment:015a0ec6-7e85-469f-833d-50b2a96be00d.png)\n",
    "\n",
    "https://www.gatevidyalay.com/tag/k-means-clustering/"
   ]
  },
  {
   "cell_type": "markdown",
   "metadata": {
    "papermill": {
     "duration": 0.02202,
     "end_time": "2022-12-31T12:13:31.110052",
     "exception": false,
     "start_time": "2022-12-31T12:13:31.088032",
     "status": "completed"
    },
    "tags": []
   },
   "source": [
    "The variables that will be used while segmentation will be filtered. Firstly, the recency and tenure variables were created. Tenure represents the age of the customer."
   ]
  },
  {
   "cell_type": "code",
   "execution_count": 30,
   "metadata": {
    "execution": {
     "iopub.execute_input": "2022-12-31T12:13:31.159341Z",
     "iopub.status.busy": "2022-12-31T12:13:31.158614Z",
     "iopub.status.idle": "2022-12-31T12:13:31.170202Z",
     "shell.execute_reply": "2022-12-31T12:13:31.168881Z"
    },
    "papermill": {
     "duration": 0.039601,
     "end_time": "2022-12-31T12:13:31.173198",
     "exception": false,
     "start_time": "2022-12-31T12:13:31.133597",
     "status": "completed"
    },
    "tags": []
   },
   "outputs": [],
   "source": [
    "df[\"recency\"] = (analysis_date - df[\"last_order_date\"]).astype('timedelta64[D]')\n",
    "\n",
    "df[\"tenure\"] = (df[\"last_order_date\"]-df[\"first_order_date\"]).astype('timedelta64[D]')"
   ]
  },
  {
   "cell_type": "code",
   "execution_count": 31,
   "metadata": {
    "execution": {
     "iopub.execute_input": "2022-12-31T12:13:31.222718Z",
     "iopub.status.busy": "2022-12-31T12:13:31.222224Z",
     "iopub.status.idle": "2022-12-31T12:13:31.249561Z",
     "shell.execute_reply": "2022-12-31T12:13:31.248259Z"
    },
    "papermill": {
     "duration": 0.055537,
     "end_time": "2022-12-31T12:13:31.252004",
     "exception": false,
     "start_time": "2022-12-31T12:13:31.196467",
     "status": "completed"
    },
    "tags": []
   },
   "outputs": [
    {
     "data": {
      "text/html": [
       "<div>\n",
       "<style scoped>\n",
       "    .dataframe tbody tr th:only-of-type {\n",
       "        vertical-align: middle;\n",
       "    }\n",
       "\n",
       "    .dataframe tbody tr th {\n",
       "        vertical-align: top;\n",
       "    }\n",
       "\n",
       "    .dataframe thead th {\n",
       "        text-align: right;\n",
       "    }\n",
       "</style>\n",
       "<table border=\"1\" class=\"dataframe\">\n",
       "  <thead>\n",
       "    <tr style=\"text-align: right;\">\n",
       "      <th></th>\n",
       "      <th>master_id</th>\n",
       "      <th>order_channel</th>\n",
       "      <th>last_order_channel</th>\n",
       "      <th>first_order_date</th>\n",
       "      <th>last_order_date</th>\n",
       "      <th>last_order_date_online</th>\n",
       "      <th>last_order_date_offline</th>\n",
       "      <th>order_num_total_ever_online</th>\n",
       "      <th>order_num_total_ever_offline</th>\n",
       "      <th>customer_value_total_ever_offline</th>\n",
       "      <th>customer_value_total_ever_online</th>\n",
       "      <th>interested_in_categories_12</th>\n",
       "      <th>order_num_total</th>\n",
       "      <th>customer_value_total</th>\n",
       "      <th>recency</th>\n",
       "      <th>tenure</th>\n",
       "    </tr>\n",
       "  </thead>\n",
       "  <tbody>\n",
       "    <tr>\n",
       "      <th>0</th>\n",
       "      <td>cc294636-19f0-11eb-8d74-000d3a38a36f</td>\n",
       "      <td>Android App</td>\n",
       "      <td>Offline</td>\n",
       "      <td>2020-10-30</td>\n",
       "      <td>2021-02-26</td>\n",
       "      <td>2021-02-21</td>\n",
       "      <td>2021-02-26</td>\n",
       "      <td>4.0</td>\n",
       "      <td>1.0</td>\n",
       "      <td>139.99</td>\n",
       "      <td>799.38</td>\n",
       "      <td>[KADIN]</td>\n",
       "      <td>5.0</td>\n",
       "      <td>939.37</td>\n",
       "      <td>95.0</td>\n",
       "      <td>119.0</td>\n",
       "    </tr>\n",
       "    <tr>\n",
       "      <th>1</th>\n",
       "      <td>f431bd5a-ab7b-11e9-a2fc-000d3a38a36f</td>\n",
       "      <td>Android App</td>\n",
       "      <td>Mobile</td>\n",
       "      <td>2017-02-08</td>\n",
       "      <td>2021-02-16</td>\n",
       "      <td>2021-02-16</td>\n",
       "      <td>2020-01-10</td>\n",
       "      <td>19.0</td>\n",
       "      <td>2.0</td>\n",
       "      <td>159.97</td>\n",
       "      <td>1853.58</td>\n",
       "      <td>[ERKEK, COCUK, KADIN, AKTIFSPOR]</td>\n",
       "      <td>21.0</td>\n",
       "      <td>2013.55</td>\n",
       "      <td>105.0</td>\n",
       "      <td>1469.0</td>\n",
       "    </tr>\n",
       "    <tr>\n",
       "      <th>2</th>\n",
       "      <td>69b69676-1a40-11ea-941b-000d3a38a36f</td>\n",
       "      <td>Android App</td>\n",
       "      <td>Android App</td>\n",
       "      <td>2019-11-27</td>\n",
       "      <td>2020-11-27</td>\n",
       "      <td>2020-11-27</td>\n",
       "      <td>2019-12-01</td>\n",
       "      <td>3.0</td>\n",
       "      <td>2.0</td>\n",
       "      <td>189.97</td>\n",
       "      <td>395.35</td>\n",
       "      <td>[ERKEK, KADIN]</td>\n",
       "      <td>5.0</td>\n",
       "      <td>585.32</td>\n",
       "      <td>186.0</td>\n",
       "      <td>366.0</td>\n",
       "    </tr>\n",
       "    <tr>\n",
       "      <th>3</th>\n",
       "      <td>1854e56c-491f-11eb-806e-000d3a38a36f</td>\n",
       "      <td>Android App</td>\n",
       "      <td>Android App</td>\n",
       "      <td>2021-01-06</td>\n",
       "      <td>2021-01-17</td>\n",
       "      <td>2021-01-17</td>\n",
       "      <td>2021-01-06</td>\n",
       "      <td>1.0</td>\n",
       "      <td>1.0</td>\n",
       "      <td>39.99</td>\n",
       "      <td>81.98</td>\n",
       "      <td>[AKTIFCOCUK, COCUK]</td>\n",
       "      <td>2.0</td>\n",
       "      <td>121.97</td>\n",
       "      <td>135.0</td>\n",
       "      <td>11.0</td>\n",
       "    </tr>\n",
       "    <tr>\n",
       "      <th>4</th>\n",
       "      <td>d6ea1074-f1f5-11e9-9346-000d3a38a36f</td>\n",
       "      <td>Desktop</td>\n",
       "      <td>Desktop</td>\n",
       "      <td>2019-08-03</td>\n",
       "      <td>2021-03-07</td>\n",
       "      <td>2021-03-07</td>\n",
       "      <td>2019-08-03</td>\n",
       "      <td>1.0</td>\n",
       "      <td>1.0</td>\n",
       "      <td>49.99</td>\n",
       "      <td>159.99</td>\n",
       "      <td>[AKTIFSPOR]</td>\n",
       "      <td>2.0</td>\n",
       "      <td>209.98</td>\n",
       "      <td>86.0</td>\n",
       "      <td>582.0</td>\n",
       "    </tr>\n",
       "  </tbody>\n",
       "</table>\n",
       "</div>"
      ],
      "text/plain": [
       "                              master_id order_channel last_order_channel  \\\n",
       "0  cc294636-19f0-11eb-8d74-000d3a38a36f   Android App            Offline   \n",
       "1  f431bd5a-ab7b-11e9-a2fc-000d3a38a36f   Android App             Mobile   \n",
       "2  69b69676-1a40-11ea-941b-000d3a38a36f   Android App        Android App   \n",
       "3  1854e56c-491f-11eb-806e-000d3a38a36f   Android App        Android App   \n",
       "4  d6ea1074-f1f5-11e9-9346-000d3a38a36f       Desktop            Desktop   \n",
       "\n",
       "  first_order_date last_order_date last_order_date_online  \\\n",
       "0       2020-10-30      2021-02-26             2021-02-21   \n",
       "1       2017-02-08      2021-02-16             2021-02-16   \n",
       "2       2019-11-27      2020-11-27             2020-11-27   \n",
       "3       2021-01-06      2021-01-17             2021-01-17   \n",
       "4       2019-08-03      2021-03-07             2021-03-07   \n",
       "\n",
       "  last_order_date_offline  order_num_total_ever_online  \\\n",
       "0              2021-02-26                          4.0   \n",
       "1              2020-01-10                         19.0   \n",
       "2              2019-12-01                          3.0   \n",
       "3              2021-01-06                          1.0   \n",
       "4              2019-08-03                          1.0   \n",
       "\n",
       "   order_num_total_ever_offline  customer_value_total_ever_offline  \\\n",
       "0                           1.0                             139.99   \n",
       "1                           2.0                             159.97   \n",
       "2                           2.0                             189.97   \n",
       "3                           1.0                              39.99   \n",
       "4                           1.0                              49.99   \n",
       "\n",
       "   customer_value_total_ever_online       interested_in_categories_12  \\\n",
       "0                            799.38                           [KADIN]   \n",
       "1                           1853.58  [ERKEK, COCUK, KADIN, AKTIFSPOR]   \n",
       "2                            395.35                    [ERKEK, KADIN]   \n",
       "3                             81.98               [AKTIFCOCUK, COCUK]   \n",
       "4                            159.99                       [AKTIFSPOR]   \n",
       "\n",
       "   order_num_total  customer_value_total  recency  tenure  \n",
       "0              5.0                939.37     95.0   119.0  \n",
       "1             21.0               2013.55    105.0  1469.0  \n",
       "2              5.0                585.32    186.0   366.0  \n",
       "3              2.0                121.97    135.0    11.0  \n",
       "4              2.0                209.98     86.0   582.0  "
      ]
     },
     "execution_count": 31,
     "metadata": {},
     "output_type": "execute_result"
    }
   ],
   "source": [
    "df.head()"
   ]
  },
  {
   "cell_type": "code",
   "execution_count": 32,
   "metadata": {
    "execution": {
     "iopub.execute_input": "2022-12-31T12:13:31.302294Z",
     "iopub.status.busy": "2022-12-31T12:13:31.301753Z",
     "iopub.status.idle": "2022-12-31T12:13:31.311475Z",
     "shell.execute_reply": "2022-12-31T12:13:31.309880Z"
    },
    "papermill": {
     "duration": 0.039976,
     "end_time": "2022-12-31T12:13:31.314743",
     "exception": false,
     "start_time": "2022-12-31T12:13:31.274767",
     "status": "completed"
    },
    "tags": []
   },
   "outputs": [],
   "source": [
    "model_df = df[[\"customer_value_total\",\n",
    "               \"order_num_total\",\n",
    "               \"order_num_total_ever_online\",\n",
    "               \"order_num_total_ever_offline\",\n",
    "               \"customer_value_total_ever_offline\",\n",
    "               \"customer_value_total_ever_online\",\n",
    "               \"recency\",\n",
    "               \"tenure\"]]"
   ]
  },
  {
   "cell_type": "code",
   "execution_count": 33,
   "metadata": {
    "execution": {
     "iopub.execute_input": "2022-12-31T12:13:31.364977Z",
     "iopub.status.busy": "2022-12-31T12:13:31.364424Z",
     "iopub.status.idle": "2022-12-31T12:13:31.382603Z",
     "shell.execute_reply": "2022-12-31T12:13:31.381652Z"
    },
    "papermill": {
     "duration": 0.046651,
     "end_time": "2022-12-31T12:13:31.385240",
     "exception": false,
     "start_time": "2022-12-31T12:13:31.338589",
     "status": "completed"
    },
    "tags": []
   },
   "outputs": [
    {
     "data": {
      "text/html": [
       "<div>\n",
       "<style scoped>\n",
       "    .dataframe tbody tr th:only-of-type {\n",
       "        vertical-align: middle;\n",
       "    }\n",
       "\n",
       "    .dataframe tbody tr th {\n",
       "        vertical-align: top;\n",
       "    }\n",
       "\n",
       "    .dataframe thead th {\n",
       "        text-align: right;\n",
       "    }\n",
       "</style>\n",
       "<table border=\"1\" class=\"dataframe\">\n",
       "  <thead>\n",
       "    <tr style=\"text-align: right;\">\n",
       "      <th></th>\n",
       "      <th>customer_value_total</th>\n",
       "      <th>order_num_total</th>\n",
       "      <th>order_num_total_ever_online</th>\n",
       "      <th>order_num_total_ever_offline</th>\n",
       "      <th>customer_value_total_ever_offline</th>\n",
       "      <th>customer_value_total_ever_online</th>\n",
       "      <th>recency</th>\n",
       "      <th>tenure</th>\n",
       "    </tr>\n",
       "  </thead>\n",
       "  <tbody>\n",
       "    <tr>\n",
       "      <th>0</th>\n",
       "      <td>939.37</td>\n",
       "      <td>5.0</td>\n",
       "      <td>4.0</td>\n",
       "      <td>1.0</td>\n",
       "      <td>139.99</td>\n",
       "      <td>799.38</td>\n",
       "      <td>95.0</td>\n",
       "      <td>119.0</td>\n",
       "    </tr>\n",
       "    <tr>\n",
       "      <th>1</th>\n",
       "      <td>2013.55</td>\n",
       "      <td>21.0</td>\n",
       "      <td>19.0</td>\n",
       "      <td>2.0</td>\n",
       "      <td>159.97</td>\n",
       "      <td>1853.58</td>\n",
       "      <td>105.0</td>\n",
       "      <td>1469.0</td>\n",
       "    </tr>\n",
       "    <tr>\n",
       "      <th>2</th>\n",
       "      <td>585.32</td>\n",
       "      <td>5.0</td>\n",
       "      <td>3.0</td>\n",
       "      <td>2.0</td>\n",
       "      <td>189.97</td>\n",
       "      <td>395.35</td>\n",
       "      <td>186.0</td>\n",
       "      <td>366.0</td>\n",
       "    </tr>\n",
       "    <tr>\n",
       "      <th>3</th>\n",
       "      <td>121.97</td>\n",
       "      <td>2.0</td>\n",
       "      <td>1.0</td>\n",
       "      <td>1.0</td>\n",
       "      <td>39.99</td>\n",
       "      <td>81.98</td>\n",
       "      <td>135.0</td>\n",
       "      <td>11.0</td>\n",
       "    </tr>\n",
       "    <tr>\n",
       "      <th>4</th>\n",
       "      <td>209.98</td>\n",
       "      <td>2.0</td>\n",
       "      <td>1.0</td>\n",
       "      <td>1.0</td>\n",
       "      <td>49.99</td>\n",
       "      <td>159.99</td>\n",
       "      <td>86.0</td>\n",
       "      <td>582.0</td>\n",
       "    </tr>\n",
       "  </tbody>\n",
       "</table>\n",
       "</div>"
      ],
      "text/plain": [
       "   customer_value_total  order_num_total  order_num_total_ever_online  \\\n",
       "0                939.37              5.0                          4.0   \n",
       "1               2013.55             21.0                         19.0   \n",
       "2                585.32              5.0                          3.0   \n",
       "3                121.97              2.0                          1.0   \n",
       "4                209.98              2.0                          1.0   \n",
       "\n",
       "   order_num_total_ever_offline  customer_value_total_ever_offline  \\\n",
       "0                           1.0                             139.99   \n",
       "1                           2.0                             159.97   \n",
       "2                           2.0                             189.97   \n",
       "3                           1.0                              39.99   \n",
       "4                           1.0                              49.99   \n",
       "\n",
       "   customer_value_total_ever_online  recency  tenure  \n",
       "0                            799.38     95.0   119.0  \n",
       "1                           1853.58    105.0  1469.0  \n",
       "2                            395.35    186.0   366.0  \n",
       "3                             81.98    135.0    11.0  \n",
       "4                            159.99     86.0   582.0  "
      ]
     },
     "execution_count": 33,
     "metadata": {},
     "output_type": "execute_result"
    }
   ],
   "source": [
    "model_df.head()"
   ]
  },
  {
   "cell_type": "markdown",
   "metadata": {
    "papermill": {
     "duration": 0.02344,
     "end_time": "2022-12-31T12:13:31.432259",
     "exception": false,
     "start_time": "2022-12-31T12:13:31.408819",
     "status": "completed"
    },
    "tags": []
   },
   "source": [
    "# 4.1 Scaling"
   ]
  },
  {
   "cell_type": "markdown",
   "metadata": {
    "papermill": {
     "duration": 0.02433,
     "end_time": "2022-12-31T12:13:31.480973",
     "exception": false,
     "start_time": "2022-12-31T12:13:31.456643",
     "status": "completed"
    },
    "tags": []
   },
   "source": [
    "In order to ensure that the model to be used approaches the variables under equal conditions, scaling is performed.  \n",
    "MinMaxScaler is used. MinMaxScaler scales between two given values."
   ]
  },
  {
   "cell_type": "code",
   "execution_count": 34,
   "metadata": {
    "execution": {
     "iopub.execute_input": "2022-12-31T12:13:31.532969Z",
     "iopub.status.busy": "2022-12-31T12:13:31.532333Z",
     "iopub.status.idle": "2022-12-31T12:13:31.551891Z",
     "shell.execute_reply": "2022-12-31T12:13:31.549730Z"
    },
    "papermill": {
     "duration": 0.051508,
     "end_time": "2022-12-31T12:13:31.555705",
     "exception": false,
     "start_time": "2022-12-31T12:13:31.504197",
     "status": "completed"
    },
    "tags": []
   },
   "outputs": [],
   "source": [
    "sc = MinMaxScaler((0, 1))\n",
    "\n",
    "model_scaling = sc.fit_transform(model_df)"
   ]
  },
  {
   "cell_type": "code",
   "execution_count": 35,
   "metadata": {
    "execution": {
     "iopub.execute_input": "2022-12-31T12:13:31.628306Z",
     "iopub.status.busy": "2022-12-31T12:13:31.626521Z",
     "iopub.status.idle": "2022-12-31T12:13:31.635197Z",
     "shell.execute_reply": "2022-12-31T12:13:31.633771Z"
    },
    "papermill": {
     "duration": 0.04325,
     "end_time": "2022-12-31T12:13:31.637857",
     "exception": false,
     "start_time": "2022-12-31T12:13:31.594607",
     "status": "completed"
    },
    "tags": []
   },
   "outputs": [],
   "source": [
    "model_df=pd.DataFrame(model_scaling,columns=model_df.columns)"
   ]
  },
  {
   "cell_type": "code",
   "execution_count": 36,
   "metadata": {
    "execution": {
     "iopub.execute_input": "2022-12-31T12:13:31.686912Z",
     "iopub.status.busy": "2022-12-31T12:13:31.686196Z",
     "iopub.status.idle": "2022-12-31T12:13:31.705382Z",
     "shell.execute_reply": "2022-12-31T12:13:31.704072Z"
    },
    "papermill": {
     "duration": 0.046968,
     "end_time": "2022-12-31T12:13:31.708028",
     "exception": false,
     "start_time": "2022-12-31T12:13:31.661060",
     "status": "completed"
    },
    "tags": []
   },
   "outputs": [
    {
     "data": {
      "text/html": [
       "<div>\n",
       "<style scoped>\n",
       "    .dataframe tbody tr th:only-of-type {\n",
       "        vertical-align: middle;\n",
       "    }\n",
       "\n",
       "    .dataframe tbody tr th {\n",
       "        vertical-align: top;\n",
       "    }\n",
       "\n",
       "    .dataframe thead th {\n",
       "        text-align: right;\n",
       "    }\n",
       "</style>\n",
       "<table border=\"1\" class=\"dataframe\">\n",
       "  <thead>\n",
       "    <tr style=\"text-align: right;\">\n",
       "      <th></th>\n",
       "      <th>customer_value_total</th>\n",
       "      <th>order_num_total</th>\n",
       "      <th>order_num_total_ever_online</th>\n",
       "      <th>order_num_total_ever_offline</th>\n",
       "      <th>customer_value_total_ever_offline</th>\n",
       "      <th>customer_value_total_ever_online</th>\n",
       "      <th>recency</th>\n",
       "      <th>tenure</th>\n",
       "    </tr>\n",
       "  </thead>\n",
       "  <tbody>\n",
       "    <tr>\n",
       "      <th>0</th>\n",
       "      <td>0.019503</td>\n",
       "      <td>0.015</td>\n",
       "      <td>0.015075</td>\n",
       "      <td>0.000000</td>\n",
       "      <td>0.007178</td>\n",
       "      <td>0.017395</td>\n",
       "      <td>0.254795</td>\n",
       "      <td>0.039222</td>\n",
       "    </tr>\n",
       "    <tr>\n",
       "      <th>1</th>\n",
       "      <td>0.042926</td>\n",
       "      <td>0.095</td>\n",
       "      <td>0.090452</td>\n",
       "      <td>0.009259</td>\n",
       "      <td>0.008281</td>\n",
       "      <td>0.040715</td>\n",
       "      <td>0.282192</td>\n",
       "      <td>0.484179</td>\n",
       "    </tr>\n",
       "    <tr>\n",
       "      <th>2</th>\n",
       "      <td>0.011782</td>\n",
       "      <td>0.015</td>\n",
       "      <td>0.010050</td>\n",
       "      <td>0.009259</td>\n",
       "      <td>0.009938</td>\n",
       "      <td>0.008458</td>\n",
       "      <td>0.504110</td>\n",
       "      <td>0.120633</td>\n",
       "    </tr>\n",
       "    <tr>\n",
       "      <th>3</th>\n",
       "      <td>0.001679</td>\n",
       "      <td>0.000</td>\n",
       "      <td>0.000000</td>\n",
       "      <td>0.000000</td>\n",
       "      <td>0.001656</td>\n",
       "      <td>0.001526</td>\n",
       "      <td>0.364384</td>\n",
       "      <td>0.003626</td>\n",
       "    </tr>\n",
       "    <tr>\n",
       "      <th>4</th>\n",
       "      <td>0.003598</td>\n",
       "      <td>0.000</td>\n",
       "      <td>0.000000</td>\n",
       "      <td>0.000000</td>\n",
       "      <td>0.002208</td>\n",
       "      <td>0.003252</td>\n",
       "      <td>0.230137</td>\n",
       "      <td>0.191826</td>\n",
       "    </tr>\n",
       "  </tbody>\n",
       "</table>\n",
       "</div>"
      ],
      "text/plain": [
       "   customer_value_total  order_num_total  order_num_total_ever_online  \\\n",
       "0              0.019503            0.015                     0.015075   \n",
       "1              0.042926            0.095                     0.090452   \n",
       "2              0.011782            0.015                     0.010050   \n",
       "3              0.001679            0.000                     0.000000   \n",
       "4              0.003598            0.000                     0.000000   \n",
       "\n",
       "   order_num_total_ever_offline  customer_value_total_ever_offline  \\\n",
       "0                      0.000000                           0.007178   \n",
       "1                      0.009259                           0.008281   \n",
       "2                      0.009259                           0.009938   \n",
       "3                      0.000000                           0.001656   \n",
       "4                      0.000000                           0.002208   \n",
       "\n",
       "   customer_value_total_ever_online   recency    tenure  \n",
       "0                          0.017395  0.254795  0.039222  \n",
       "1                          0.040715  0.282192  0.484179  \n",
       "2                          0.008458  0.504110  0.120633  \n",
       "3                          0.001526  0.364384  0.003626  \n",
       "4                          0.003252  0.230137  0.191826  "
      ]
     },
     "execution_count": 36,
     "metadata": {},
     "output_type": "execute_result"
    }
   ],
   "source": [
    "model_df.head()"
   ]
  },
  {
   "cell_type": "markdown",
   "metadata": {
    "papermill": {
     "duration": 0.025049,
     "end_time": "2022-12-31T12:13:31.758481",
     "exception": false,
     "start_time": "2022-12-31T12:13:31.733432",
     "status": "completed"
    },
    "tags": []
   },
   "source": [
    "# 4.2 - Determining the Optimum Number of Clusters"
   ]
  },
  {
   "cell_type": "markdown",
   "metadata": {
    "papermill": {
     "duration": 0.023016,
     "end_time": "2022-12-31T12:13:31.804822",
     "exception": false,
     "start_time": "2022-12-31T12:13:31.781806",
     "status": "completed"
    },
    "tags": []
   },
   "source": [
    "The SSE (the sum of the squared Euclidean distances of each point to its closest centroid.) value is calculated for all k values ​​in a specified range. These SSE values ​​are then plotted into a graph where the x-axis is k. The point where the elbow is determined as the optimum point."
   ]
  },
  {
   "cell_type": "code",
   "execution_count": 37,
   "metadata": {
    "execution": {
     "iopub.execute_input": "2022-12-31T12:13:31.856510Z",
     "iopub.status.busy": "2022-12-31T12:13:31.855994Z",
     "iopub.status.idle": "2022-12-31T12:14:14.435122Z",
     "shell.execute_reply": "2022-12-31T12:14:14.433680Z"
    },
    "papermill": {
     "duration": 42.635296,
     "end_time": "2022-12-31T12:14:14.464869",
     "exception": false,
     "start_time": "2022-12-31T12:13:31.829573",
     "status": "completed"
    },
    "tags": []
   },
   "outputs": [
    {
     "data": {
      "image/png": "[encoded data removed]",
      "text/plain": [
       "<Figure size 576x396 with 2 Axes>"
      ]
     },
     "metadata": {},
     "output_type": "display_data"
    },
    {
     "data": {
      "text/plain": [
       "<AxesSubplot:title={'center':'Distortion Score Elbow for KMeans Clustering'}, xlabel='k', ylabel='distortion score'>"
      ]
     },
     "execution_count": 37,
     "metadata": {},
     "output_type": "execute_result"
    }
   ],
   "source": [
    "kmeans = KMeans()\n",
    "\n",
    "elbow = KElbowVisualizer(kmeans, k=(2, 20))\n",
    "elbow.fit(model_df)\n",
    "elbow.show()"
   ]
  },
  {
   "cell_type": "code",
   "execution_count": 38,
   "metadata": {
    "execution": {
     "iopub.execute_input": "2022-12-31T12:14:14.519955Z",
     "iopub.status.busy": "2022-12-31T12:14:14.519363Z",
     "iopub.status.idle": "2022-12-31T12:14:14.529444Z",
     "shell.execute_reply": "2022-12-31T12:14:14.528135Z"
    },
    "papermill": {
     "duration": 0.040694,
     "end_time": "2022-12-31T12:14:14.531885",
     "exception": false,
     "start_time": "2022-12-31T12:14:14.491191",
     "status": "completed"
    },
    "tags": []
   },
   "outputs": [
    {
     "data": {
      "text/plain": [
       "6"
      ]
     },
     "execution_count": 38,
     "metadata": {},
     "output_type": "execute_result"
    }
   ],
   "source": [
    "optimum_k = elbow.elbow_value_\n",
    "\n",
    "optimum_k"
   ]
  },
  {
   "cell_type": "markdown",
   "metadata": {
    "papermill": {
     "duration": 0.024518,
     "end_time": "2022-12-31T12:14:14.582350",
     "exception": false,
     "start_time": "2022-12-31T12:14:14.557832",
     "status": "completed"
    },
    "tags": []
   },
   "source": [
    "# 4.3 - Modeling and Segmentation"
   ]
  },
  {
   "cell_type": "markdown",
   "metadata": {
    "papermill": {
     "duration": 0.025274,
     "end_time": "2022-12-31T12:14:14.632347",
     "exception": false,
     "start_time": "2022-12-31T12:14:14.607073",
     "status": "completed"
    },
    "tags": []
   },
   "source": [
    "The model was fit using the optimum number of clusters determined on the upper side. Then the labels are assigned to the variable named segments in order to be added to the dataframe."
   ]
  },
  {
   "cell_type": "code",
   "execution_count": 39,
   "metadata": {
    "execution": {
     "iopub.execute_input": "2022-12-31T12:14:14.686555Z",
     "iopub.status.busy": "2022-12-31T12:14:14.685136Z",
     "iopub.status.idle": "2022-12-31T12:14:16.368455Z",
     "shell.execute_reply": "2022-12-31T12:14:16.366861Z"
    },
    "papermill": {
     "duration": 1.713123,
     "end_time": "2022-12-31T12:14:16.371700",
     "exception": false,
     "start_time": "2022-12-31T12:14:14.658577",
     "status": "completed"
    },
    "tags": []
   },
   "outputs": [],
   "source": [
    "k_means = KMeans(n_clusters = optimum_k, random_state= 55).fit(model_df)"
   ]
  },
  {
   "cell_type": "code",
   "execution_count": 40,
   "metadata": {
    "execution": {
     "iopub.execute_input": "2022-12-31T12:14:16.425744Z",
     "iopub.status.busy": "2022-12-31T12:14:16.425273Z",
     "iopub.status.idle": "2022-12-31T12:14:16.435451Z",
     "shell.execute_reply": "2022-12-31T12:14:16.433858Z"
    },
    "papermill": {
     "duration": 0.040519,
     "end_time": "2022-12-31T12:14:16.438813",
     "exception": false,
     "start_time": "2022-12-31T12:14:16.398294",
     "status": "completed"
    },
    "tags": []
   },
   "outputs": [
    {
     "data": {
      "text/plain": [
       "array([1, 3, 5, ..., 2, 1, 0], dtype=int32)"
      ]
     },
     "execution_count": 40,
     "metadata": {},
     "output_type": "execute_result"
    }
   ],
   "source": [
    "segments = k_means.labels_\n",
    "\n",
    "segments"
   ]
  },
  {
   "cell_type": "code",
   "execution_count": 41,
   "metadata": {
    "execution": {
     "iopub.execute_input": "2022-12-31T12:14:16.497839Z",
     "iopub.status.busy": "2022-12-31T12:14:16.497189Z",
     "iopub.status.idle": "2022-12-31T12:14:16.508516Z",
     "shell.execute_reply": "2022-12-31T12:14:16.506892Z"
    },
    "papermill": {
     "duration": 0.04473,
     "end_time": "2022-12-31T12:14:16.511392",
     "exception": false,
     "start_time": "2022-12-31T12:14:16.466662",
     "status": "completed"
    },
    "tags": []
   },
   "outputs": [
    {
     "data": {
      "text/plain": [
       "array([0, 1, 2, 3, 4, 5], dtype=int32)"
      ]
     },
     "execution_count": 41,
     "metadata": {},
     "output_type": "execute_result"
    }
   ],
   "source": [
    "np.unique(segments)"
   ]
  },
  {
   "cell_type": "code",
   "execution_count": 42,
   "metadata": {
    "execution": {
     "iopub.execute_input": "2022-12-31T12:14:16.565098Z",
     "iopub.status.busy": "2022-12-31T12:14:16.564597Z",
     "iopub.status.idle": "2022-12-31T12:14:16.573428Z",
     "shell.execute_reply": "2022-12-31T12:14:16.571550Z"
    },
    "papermill": {
     "duration": 0.038339,
     "end_time": "2022-12-31T12:14:16.576365",
     "exception": false,
     "start_time": "2022-12-31T12:14:16.538026",
     "status": "completed"
    },
    "tags": []
   },
   "outputs": [
    {
     "data": {
      "text/plain": [
       "6"
      ]
     },
     "execution_count": 42,
     "metadata": {},
     "output_type": "execute_result"
    }
   ],
   "source": [
    "k_means.n_clusters"
   ]
  },
  {
   "cell_type": "code",
   "execution_count": 43,
   "metadata": {
    "execution": {
     "iopub.execute_input": "2022-12-31T12:14:16.631515Z",
     "iopub.status.busy": "2022-12-31T12:14:16.631041Z",
     "iopub.status.idle": "2022-12-31T12:14:16.664756Z",
     "shell.execute_reply": "2022-12-31T12:14:16.662960Z"
    },
    "papermill": {
     "duration": 0.066839,
     "end_time": "2022-12-31T12:14:16.668196",
     "exception": false,
     "start_time": "2022-12-31T12:14:16.601357",
     "status": "completed"
    },
    "tags": []
   },
   "outputs": [
    {
     "data": {
      "text/html": [
       "<div>\n",
       "<style scoped>\n",
       "    .dataframe tbody tr th:only-of-type {\n",
       "        vertical-align: middle;\n",
       "    }\n",
       "\n",
       "    .dataframe tbody tr th {\n",
       "        vertical-align: top;\n",
       "    }\n",
       "\n",
       "    .dataframe thead th {\n",
       "        text-align: right;\n",
       "    }\n",
       "</style>\n",
       "<table border=\"1\" class=\"dataframe\">\n",
       "  <thead>\n",
       "    <tr style=\"text-align: right;\">\n",
       "      <th></th>\n",
       "      <th>master_id</th>\n",
       "      <th>order_channel</th>\n",
       "      <th>last_order_channel</th>\n",
       "      <th>first_order_date</th>\n",
       "      <th>last_order_date</th>\n",
       "      <th>last_order_date_online</th>\n",
       "      <th>last_order_date_offline</th>\n",
       "      <th>order_num_total_ever_online</th>\n",
       "      <th>order_num_total_ever_offline</th>\n",
       "      <th>customer_value_total_ever_offline</th>\n",
       "      <th>customer_value_total_ever_online</th>\n",
       "      <th>interested_in_categories_12</th>\n",
       "      <th>order_num_total</th>\n",
       "      <th>customer_value_total</th>\n",
       "      <th>recency</th>\n",
       "      <th>tenure</th>\n",
       "      <th>segments_kmeans</th>\n",
       "    </tr>\n",
       "  </thead>\n",
       "  <tbody>\n",
       "    <tr>\n",
       "      <th>0</th>\n",
       "      <td>cc294636-19f0-11eb-8d74-000d3a38a36f</td>\n",
       "      <td>Android App</td>\n",
       "      <td>Offline</td>\n",
       "      <td>2020-10-30</td>\n",
       "      <td>2021-02-26</td>\n",
       "      <td>2021-02-21</td>\n",
       "      <td>2021-02-26</td>\n",
       "      <td>4.0</td>\n",
       "      <td>1.0</td>\n",
       "      <td>139.99</td>\n",
       "      <td>799.38</td>\n",
       "      <td>[KADIN]</td>\n",
       "      <td>5.0</td>\n",
       "      <td>939.37</td>\n",
       "      <td>95.0</td>\n",
       "      <td>119.0</td>\n",
       "      <td>1</td>\n",
       "    </tr>\n",
       "    <tr>\n",
       "      <th>1</th>\n",
       "      <td>f431bd5a-ab7b-11e9-a2fc-000d3a38a36f</td>\n",
       "      <td>Android App</td>\n",
       "      <td>Mobile</td>\n",
       "      <td>2017-02-08</td>\n",
       "      <td>2021-02-16</td>\n",
       "      <td>2021-02-16</td>\n",
       "      <td>2020-01-10</td>\n",
       "      <td>19.0</td>\n",
       "      <td>2.0</td>\n",
       "      <td>159.97</td>\n",
       "      <td>1853.58</td>\n",
       "      <td>[ERKEK, COCUK, KADIN, AKTIFSPOR]</td>\n",
       "      <td>21.0</td>\n",
       "      <td>2013.55</td>\n",
       "      <td>105.0</td>\n",
       "      <td>1469.0</td>\n",
       "      <td>3</td>\n",
       "    </tr>\n",
       "    <tr>\n",
       "      <th>2</th>\n",
       "      <td>69b69676-1a40-11ea-941b-000d3a38a36f</td>\n",
       "      <td>Android App</td>\n",
       "      <td>Android App</td>\n",
       "      <td>2019-11-27</td>\n",
       "      <td>2020-11-27</td>\n",
       "      <td>2020-11-27</td>\n",
       "      <td>2019-12-01</td>\n",
       "      <td>3.0</td>\n",
       "      <td>2.0</td>\n",
       "      <td>189.97</td>\n",
       "      <td>395.35</td>\n",
       "      <td>[ERKEK, KADIN]</td>\n",
       "      <td>5.0</td>\n",
       "      <td>585.32</td>\n",
       "      <td>186.0</td>\n",
       "      <td>366.0</td>\n",
       "      <td>5</td>\n",
       "    </tr>\n",
       "    <tr>\n",
       "      <th>3</th>\n",
       "      <td>1854e56c-491f-11eb-806e-000d3a38a36f</td>\n",
       "      <td>Android App</td>\n",
       "      <td>Android App</td>\n",
       "      <td>2021-01-06</td>\n",
       "      <td>2021-01-17</td>\n",
       "      <td>2021-01-17</td>\n",
       "      <td>2021-01-06</td>\n",
       "      <td>1.0</td>\n",
       "      <td>1.0</td>\n",
       "      <td>39.99</td>\n",
       "      <td>81.98</td>\n",
       "      <td>[AKTIFCOCUK, COCUK]</td>\n",
       "      <td>2.0</td>\n",
       "      <td>121.97</td>\n",
       "      <td>135.0</td>\n",
       "      <td>11.0</td>\n",
       "      <td>1</td>\n",
       "    </tr>\n",
       "    <tr>\n",
       "      <th>4</th>\n",
       "      <td>d6ea1074-f1f5-11e9-9346-000d3a38a36f</td>\n",
       "      <td>Desktop</td>\n",
       "      <td>Desktop</td>\n",
       "      <td>2019-08-03</td>\n",
       "      <td>2021-03-07</td>\n",
       "      <td>2021-03-07</td>\n",
       "      <td>2019-08-03</td>\n",
       "      <td>1.0</td>\n",
       "      <td>1.0</td>\n",
       "      <td>49.99</td>\n",
       "      <td>159.99</td>\n",
       "      <td>[AKTIFSPOR]</td>\n",
       "      <td>2.0</td>\n",
       "      <td>209.98</td>\n",
       "      <td>86.0</td>\n",
       "      <td>582.0</td>\n",
       "      <td>1</td>\n",
       "    </tr>\n",
       "  </tbody>\n",
       "</table>\n",
       "</div>"
      ],
      "text/plain": [
       "                              master_id order_channel last_order_channel  \\\n",
       "0  cc294636-19f0-11eb-8d74-000d3a38a36f   Android App            Offline   \n",
       "1  f431bd5a-ab7b-11e9-a2fc-000d3a38a36f   Android App             Mobile   \n",
       "2  69b69676-1a40-11ea-941b-000d3a38a36f   Android App        Android App   \n",
       "3  1854e56c-491f-11eb-806e-000d3a38a36f   Android App        Android App   \n",
       "4  d6ea1074-f1f5-11e9-9346-000d3a38a36f       Desktop            Desktop   \n",
       "\n",
       "  first_order_date last_order_date last_order_date_online  \\\n",
       "0       2020-10-30      2021-02-26             2021-02-21   \n",
       "1       2017-02-08      2021-02-16             2021-02-16   \n",
       "2       2019-11-27      2020-11-27             2020-11-27   \n",
       "3       2021-01-06      2021-01-17             2021-01-17   \n",
       "4       2019-08-03      2021-03-07             2021-03-07   \n",
       "\n",
       "  last_order_date_offline  order_num_total_ever_online  \\\n",
       "0              2021-02-26                          4.0   \n",
       "1              2020-01-10                         19.0   \n",
       "2              2019-12-01                          3.0   \n",
       "3              2021-01-06                          1.0   \n",
       "4              2019-08-03                          1.0   \n",
       "\n",
       "   order_num_total_ever_offline  customer_value_total_ever_offline  \\\n",
       "0                           1.0                             139.99   \n",
       "1                           2.0                             159.97   \n",
       "2                           2.0                             189.97   \n",
       "3                           1.0                              39.99   \n",
       "4                           1.0                              49.99   \n",
       "\n",
       "   customer_value_total_ever_online       interested_in_categories_12  \\\n",
       "0                            799.38                           [KADIN]   \n",
       "1                           1853.58  [ERKEK, COCUK, KADIN, AKTIFSPOR]   \n",
       "2                            395.35                    [ERKEK, KADIN]   \n",
       "3                             81.98               [AKTIFCOCUK, COCUK]   \n",
       "4                            159.99                       [AKTIFSPOR]   \n",
       "\n",
       "   order_num_total  customer_value_total  recency  tenure  segments_kmeans  \n",
       "0              5.0                939.37     95.0   119.0                1  \n",
       "1             21.0               2013.55    105.0  1469.0                3  \n",
       "2              5.0                585.32    186.0   366.0                5  \n",
       "3              2.0                121.97    135.0    11.0                1  \n",
       "4              2.0                209.98     86.0   582.0                1  "
      ]
     },
     "execution_count": 43,
     "metadata": {},
     "output_type": "execute_result"
    }
   ],
   "source": [
    "df[\"segments_kmeans\"] = segments\n",
    "\n",
    "df.head()"
   ]
  },
  {
   "cell_type": "markdown",
   "metadata": {
    "papermill": {
     "duration": 0.02591,
     "end_time": "2022-12-31T12:14:16.720773",
     "exception": false,
     "start_time": "2022-12-31T12:14:16.694863",
     "status": "completed"
    },
    "tags": []
   },
   "source": [
    "# 4.4 - Examination of Segments"
   ]
  },
  {
   "cell_type": "code",
   "execution_count": 44,
   "metadata": {
    "execution": {
     "iopub.execute_input": "2022-12-31T12:14:16.775090Z",
     "iopub.status.busy": "2022-12-31T12:14:16.774554Z",
     "iopub.status.idle": "2022-12-31T12:14:16.840247Z",
     "shell.execute_reply": "2022-12-31T12:14:16.838641Z"
    },
    "papermill": {
     "duration": 0.095532,
     "end_time": "2022-12-31T12:14:16.842947",
     "exception": false,
     "start_time": "2022-12-31T12:14:16.747415",
     "status": "completed"
    },
    "tags": []
   },
   "outputs": [
    {
     "data": {
      "text/html": [
       "<div>\n",
       "<style scoped>\n",
       "    .dataframe tbody tr th:only-of-type {\n",
       "        vertical-align: middle;\n",
       "    }\n",
       "\n",
       "    .dataframe tbody tr th {\n",
       "        vertical-align: top;\n",
       "    }\n",
       "\n",
       "    .dataframe thead tr th {\n",
       "        text-align: left;\n",
       "    }\n",
       "\n",
       "    .dataframe thead tr:last-of-type th {\n",
       "        text-align: right;\n",
       "    }\n",
       "</style>\n",
       "<table border=\"1\" class=\"dataframe\">\n",
       "  <thead>\n",
       "    <tr>\n",
       "      <th></th>\n",
       "      <th colspan=\"3\" halign=\"left\">order_num_total</th>\n",
       "      <th colspan=\"3\" halign=\"left\">customer_value_total</th>\n",
       "      <th colspan=\"3\" halign=\"left\">order_num_total_ever_online</th>\n",
       "      <th colspan=\"3\" halign=\"left\">order_num_total_ever_offline</th>\n",
       "      <th colspan=\"3\" halign=\"left\">customer_value_total_ever_offline</th>\n",
       "      <th colspan=\"3\" halign=\"left\">customer_value_total_ever_online</th>\n",
       "      <th colspan=\"3\" halign=\"left\">recency</th>\n",
       "      <th colspan=\"4\" halign=\"left\">tenure</th>\n",
       "    </tr>\n",
       "    <tr>\n",
       "      <th></th>\n",
       "      <th>mean</th>\n",
       "      <th>min</th>\n",
       "      <th>max</th>\n",
       "      <th>mean</th>\n",
       "      <th>min</th>\n",
       "      <th>max</th>\n",
       "      <th>mean</th>\n",
       "      <th>min</th>\n",
       "      <th>max</th>\n",
       "      <th>mean</th>\n",
       "      <th>min</th>\n",
       "      <th>max</th>\n",
       "      <th>mean</th>\n",
       "      <th>min</th>\n",
       "      <th>max</th>\n",
       "      <th>mean</th>\n",
       "      <th>min</th>\n",
       "      <th>max</th>\n",
       "      <th>mean</th>\n",
       "      <th>min</th>\n",
       "      <th>max</th>\n",
       "      <th>mean</th>\n",
       "      <th>min</th>\n",
       "      <th>max</th>\n",
       "      <th>count</th>\n",
       "    </tr>\n",
       "    <tr>\n",
       "      <th>segments_kmeans</th>\n",
       "      <th></th>\n",
       "      <th></th>\n",
       "      <th></th>\n",
       "      <th></th>\n",
       "      <th></th>\n",
       "      <th></th>\n",
       "      <th></th>\n",
       "      <th></th>\n",
       "      <th></th>\n",
       "      <th></th>\n",
       "      <th></th>\n",
       "      <th></th>\n",
       "      <th></th>\n",
       "      <th></th>\n",
       "      <th></th>\n",
       "      <th></th>\n",
       "      <th></th>\n",
       "      <th></th>\n",
       "      <th></th>\n",
       "      <th></th>\n",
       "      <th></th>\n",
       "      <th></th>\n",
       "      <th></th>\n",
       "      <th></th>\n",
       "      <th></th>\n",
       "    </tr>\n",
       "  </thead>\n",
       "  <tbody>\n",
       "    <tr>\n",
       "      <th>0</th>\n",
       "      <td>3.799209</td>\n",
       "      <td>2.0</td>\n",
       "      <td>88.0</td>\n",
       "      <td>548.653233</td>\n",
       "      <td>53.47</td>\n",
       "      <td>8572.23</td>\n",
       "      <td>2.054941</td>\n",
       "      <td>1.0</td>\n",
       "      <td>20.0</td>\n",
       "      <td>1.744269</td>\n",
       "      <td>1.0</td>\n",
       "      <td>87.0</td>\n",
       "      <td>217.102411</td>\n",
       "      <td>10.00</td>\n",
       "      <td>8432.25</td>\n",
       "      <td>331.550822</td>\n",
       "      <td>12.99</td>\n",
       "      <td>7665.28</td>\n",
       "      <td>319.959684</td>\n",
       "      <td>259.0</td>\n",
       "      <td>367.0</td>\n",
       "      <td>385.259289</td>\n",
       "      <td>0.0</td>\n",
       "      <td>1273.0</td>\n",
       "      <td>2530</td>\n",
       "    </tr>\n",
       "    <tr>\n",
       "      <th>1</th>\n",
       "      <td>4.398765</td>\n",
       "      <td>2.0</td>\n",
       "      <td>77.0</td>\n",
       "      <td>656.912876</td>\n",
       "      <td>49.98</td>\n",
       "      <td>8747.71</td>\n",
       "      <td>2.446029</td>\n",
       "      <td>1.0</td>\n",
       "      <td>46.0</td>\n",
       "      <td>1.952736</td>\n",
       "      <td>1.0</td>\n",
       "      <td>74.0</td>\n",
       "      <td>257.210373</td>\n",
       "      <td>11.98</td>\n",
       "      <td>7247.60</td>\n",
       "      <td>399.702504</td>\n",
       "      <td>14.00</td>\n",
       "      <td>8667.73</td>\n",
       "      <td>110.606770</td>\n",
       "      <td>66.0</td>\n",
       "      <td>160.0</td>\n",
       "      <td>501.491803</td>\n",
       "      <td>0.0</td>\n",
       "      <td>1287.0</td>\n",
       "      <td>4697</td>\n",
       "    </tr>\n",
       "    <tr>\n",
       "      <th>2</th>\n",
       "      <td>4.987354</td>\n",
       "      <td>2.0</td>\n",
       "      <td>83.0</td>\n",
       "      <td>807.460365</td>\n",
       "      <td>65.91</td>\n",
       "      <td>31227.41</td>\n",
       "      <td>3.009241</td>\n",
       "      <td>1.0</td>\n",
       "      <td>66.0</td>\n",
       "      <td>1.978113</td>\n",
       "      <td>1.0</td>\n",
       "      <td>81.0</td>\n",
       "      <td>271.778252</td>\n",
       "      <td>12.99</td>\n",
       "      <td>18119.14</td>\n",
       "      <td>535.682113</td>\n",
       "      <td>19.99</td>\n",
       "      <td>30688.47</td>\n",
       "      <td>31.042477</td>\n",
       "      <td>2.0</td>\n",
       "      <td>76.0</td>\n",
       "      <td>558.894780</td>\n",
       "      <td>0.0</td>\n",
       "      <td>1281.0</td>\n",
       "      <td>6168</td>\n",
       "    </tr>\n",
       "    <tr>\n",
       "      <th>3</th>\n",
       "      <td>9.740385</td>\n",
       "      <td>2.0</td>\n",
       "      <td>202.0</td>\n",
       "      <td>1335.709147</td>\n",
       "      <td>44.98</td>\n",
       "      <td>45905.10</td>\n",
       "      <td>7.571514</td>\n",
       "      <td>1.0</td>\n",
       "      <td>200.0</td>\n",
       "      <td>2.168870</td>\n",
       "      <td>1.0</td>\n",
       "      <td>36.0</td>\n",
       "      <td>289.462728</td>\n",
       "      <td>12.99</td>\n",
       "      <td>3589.65</td>\n",
       "      <td>1046.246418</td>\n",
       "      <td>19.99</td>\n",
       "      <td>45220.13</td>\n",
       "      <td>70.300481</td>\n",
       "      <td>2.0</td>\n",
       "      <td>173.0</td>\n",
       "      <td>1820.256010</td>\n",
       "      <td>932.0</td>\n",
       "      <td>3034.0</td>\n",
       "      <td>1664</td>\n",
       "    </tr>\n",
       "    <tr>\n",
       "      <th>4</th>\n",
       "      <td>7.124874</td>\n",
       "      <td>2.0</td>\n",
       "      <td>61.0</td>\n",
       "      <td>898.586073</td>\n",
       "      <td>90.48</td>\n",
       "      <td>7953.47</td>\n",
       "      <td>5.213494</td>\n",
       "      <td>1.0</td>\n",
       "      <td>55.0</td>\n",
       "      <td>1.911380</td>\n",
       "      <td>1.0</td>\n",
       "      <td>16.0</td>\n",
       "      <td>250.333364</td>\n",
       "      <td>12.99</td>\n",
       "      <td>1811.54</td>\n",
       "      <td>648.252709</td>\n",
       "      <td>14.99</td>\n",
       "      <td>7133.14</td>\n",
       "      <td>259.160121</td>\n",
       "      <td>163.0</td>\n",
       "      <td>367.0</td>\n",
       "      <td>1727.541793</td>\n",
       "      <td>1001.0</td>\n",
       "      <td>2820.0</td>\n",
       "      <td>993</td>\n",
       "    </tr>\n",
       "    <tr>\n",
       "      <th>5</th>\n",
       "      <td>4.084511</td>\n",
       "      <td>2.0</td>\n",
       "      <td>111.0</td>\n",
       "      <td>620.247452</td>\n",
       "      <td>44.98</td>\n",
       "      <td>12103.15</td>\n",
       "      <td>2.317236</td>\n",
       "      <td>1.0</td>\n",
       "      <td>28.0</td>\n",
       "      <td>1.767275</td>\n",
       "      <td>1.0</td>\n",
       "      <td>109.0</td>\n",
       "      <td>231.318960</td>\n",
       "      <td>10.49</td>\n",
       "      <td>10239.46</td>\n",
       "      <td>388.928492</td>\n",
       "      <td>18.74</td>\n",
       "      <td>12038.18</td>\n",
       "      <td>202.146930</td>\n",
       "      <td>154.0</td>\n",
       "      <td>263.0</td>\n",
       "      <td>456.815310</td>\n",
       "      <td>0.0</td>\n",
       "      <td>1279.0</td>\n",
       "      <td>3893</td>\n",
       "    </tr>\n",
       "  </tbody>\n",
       "</table>\n",
       "</div>"
      ],
      "text/plain": [
       "                order_num_total             customer_value_total         \\\n",
       "                           mean  min    max                 mean    min   \n",
       "segments_kmeans                                                           \n",
       "0                      3.799209  2.0   88.0           548.653233  53.47   \n",
       "1                      4.398765  2.0   77.0           656.912876  49.98   \n",
       "2                      4.987354  2.0   83.0           807.460365  65.91   \n",
       "3                      9.740385  2.0  202.0          1335.709147  44.98   \n",
       "4                      7.124874  2.0   61.0           898.586073  90.48   \n",
       "5                      4.084511  2.0  111.0           620.247452  44.98   \n",
       "\n",
       "                          order_num_total_ever_online              \\\n",
       "                      max                        mean  min    max   \n",
       "segments_kmeans                                                     \n",
       "0                 8572.23                    2.054941  1.0   20.0   \n",
       "1                 8747.71                    2.446029  1.0   46.0   \n",
       "2                31227.41                    3.009241  1.0   66.0   \n",
       "3                45905.10                    7.571514  1.0  200.0   \n",
       "4                 7953.47                    5.213494  1.0   55.0   \n",
       "5                12103.15                    2.317236  1.0   28.0   \n",
       "\n",
       "                order_num_total_ever_offline              \\\n",
       "                                        mean  min    max   \n",
       "segments_kmeans                                            \n",
       "0                                   1.744269  1.0   87.0   \n",
       "1                                   1.952736  1.0   74.0   \n",
       "2                                   1.978113  1.0   81.0   \n",
       "3                                   2.168870  1.0   36.0   \n",
       "4                                   1.911380  1.0   16.0   \n",
       "5                                   1.767275  1.0  109.0   \n",
       "\n",
       "                customer_value_total_ever_offline                   \\\n",
       "                                             mean    min       max   \n",
       "segments_kmeans                                                      \n",
       "0                                      217.102411  10.00   8432.25   \n",
       "1                                      257.210373  11.98   7247.60   \n",
       "2                                      271.778252  12.99  18119.14   \n",
       "3                                      289.462728  12.99   3589.65   \n",
       "4                                      250.333364  12.99   1811.54   \n",
       "5                                      231.318960  10.49  10239.46   \n",
       "\n",
       "                customer_value_total_ever_online                      recency  \\\n",
       "                                            mean    min       max        mean   \n",
       "segments_kmeans                                                                 \n",
       "0                                     331.550822  12.99   7665.28  319.959684   \n",
       "1                                     399.702504  14.00   8667.73  110.606770   \n",
       "2                                     535.682113  19.99  30688.47   31.042477   \n",
       "3                                    1046.246418  19.99  45220.13   70.300481   \n",
       "4                                     648.252709  14.99   7133.14  259.160121   \n",
       "5                                     388.928492  18.74  12038.18  202.146930   \n",
       "\n",
       "                                    tenure                        \n",
       "                   min    max         mean     min     max count  \n",
       "segments_kmeans                                                   \n",
       "0                259.0  367.0   385.259289     0.0  1273.0  2530  \n",
       "1                 66.0  160.0   501.491803     0.0  1287.0  4697  \n",
       "2                  2.0   76.0   558.894780     0.0  1281.0  6168  \n",
       "3                  2.0  173.0  1820.256010   932.0  3034.0  1664  \n",
       "4                163.0  367.0  1727.541793  1001.0  2820.0   993  \n",
       "5                154.0  263.0   456.815310     0.0  1279.0  3893  "
      ]
     },
     "execution_count": 44,
     "metadata": {},
     "output_type": "execute_result"
    }
   ],
   "source": [
    "df.groupby(\"segments_kmeans\").agg({\"order_num_total\" : [\"mean\",\"min\",\"max\"],\n",
    "                            \"customer_value_total\" : [\"mean\",\"min\",\"max\"],\n",
    "                            \"order_num_total_ever_online\":[\"mean\",\"min\",\"max\"],\n",
    "                            \"order_num_total_ever_offline\":[\"mean\",\"min\",\"max\"],\n",
    "                            \"customer_value_total_ever_offline\":[\"mean\",\"min\",\"max\"],\n",
    "                            \"customer_value_total_ever_online\":[\"mean\",\"min\",\"max\"],\n",
    "                            \"recency\":[\"mean\",\"min\",\"max\"],\n",
    "                            \"tenure\":[\"mean\",\"min\",\"max\",\"count\"]})"
   ]
  },
  {
   "cell_type": "markdown",
   "metadata": {
    "papermill": {
     "duration": 0.026448,
     "end_time": "2022-12-31T12:14:16.896474",
     "exception": false,
     "start_time": "2022-12-31T12:14:16.870026",
     "status": "completed"
    },
    "tags": []
   },
   "source": [
    "# 5 - Customer Segmentation with Hierarchical Clustering"
   ]
  },
  {
   "attachments": {
    "a1c01d83-e4dc-4234-89f6-5dca69201d46.png": {
     "image/png": "[encoded data removed]"
    }
   },
   "cell_type": "markdown",
   "metadata": {
    "papermill": {
     "duration": 0.027028,
     "end_time": "2022-12-31T12:14:16.950848",
     "exception": false,
     "start_time": "2022-12-31T12:14:16.923820",
     "status": "completed"
    },
    "tags": []
   },
   "source": [
    "Here, too, the aim is to divide the observations into subsets according to their similarities to each other. There are two approaches:  \n",
    "\n",
    "**Agglomerative:** Going from the part to the whole. First, as many clusters as there are elements are created. Then, clusters that are close to each other in terms of distance merge and a new cluster is formed.  \n",
    "\n",
    "**Divisive:** It goes from the whole to the part. It is the opposite of Agglomerative. At first all data is a single set. Other clusters are then created by spliting.  \n",
    "\n",
    "![agg_div.png](attachment:a1c01d83-e4dc-4234-89f6-5dca69201d46.png)\n",
    "\n",
    "https://subscription.packtpub.com/book/big-data-and-business-intelligence/9781789952292/2/ch02lvl1sec13/agglomerative-versus-divisive-clustering"
   ]
  },
  {
   "cell_type": "code",
   "execution_count": 45,
   "metadata": {
    "execution": {
     "iopub.execute_input": "2022-12-31T12:14:17.009837Z",
     "iopub.status.busy": "2022-12-31T12:14:17.009308Z",
     "iopub.status.idle": "2022-12-31T12:14:17.028174Z",
     "shell.execute_reply": "2022-12-31T12:14:17.026781Z"
    },
    "papermill": {
     "duration": 0.05185,
     "end_time": "2022-12-31T12:14:17.030932",
     "exception": false,
     "start_time": "2022-12-31T12:14:16.979082",
     "status": "completed"
    },
    "tags": []
   },
   "outputs": [
    {
     "data": {
      "text/html": [
       "<div>\n",
       "<style scoped>\n",
       "    .dataframe tbody tr th:only-of-type {\n",
       "        vertical-align: middle;\n",
       "    }\n",
       "\n",
       "    .dataframe tbody tr th {\n",
       "        vertical-align: top;\n",
       "    }\n",
       "\n",
       "    .dataframe thead th {\n",
       "        text-align: right;\n",
       "    }\n",
       "</style>\n",
       "<table border=\"1\" class=\"dataframe\">\n",
       "  <thead>\n",
       "    <tr style=\"text-align: right;\">\n",
       "      <th></th>\n",
       "      <th>customer_value_total</th>\n",
       "      <th>order_num_total</th>\n",
       "      <th>order_num_total_ever_online</th>\n",
       "      <th>order_num_total_ever_offline</th>\n",
       "      <th>customer_value_total_ever_offline</th>\n",
       "      <th>customer_value_total_ever_online</th>\n",
       "      <th>recency</th>\n",
       "      <th>tenure</th>\n",
       "    </tr>\n",
       "  </thead>\n",
       "  <tbody>\n",
       "    <tr>\n",
       "      <th>0</th>\n",
       "      <td>0.019503</td>\n",
       "      <td>0.015</td>\n",
       "      <td>0.015075</td>\n",
       "      <td>0.000000</td>\n",
       "      <td>0.007178</td>\n",
       "      <td>0.017395</td>\n",
       "      <td>0.254795</td>\n",
       "      <td>0.039222</td>\n",
       "    </tr>\n",
       "    <tr>\n",
       "      <th>1</th>\n",
       "      <td>0.042926</td>\n",
       "      <td>0.095</td>\n",
       "      <td>0.090452</td>\n",
       "      <td>0.009259</td>\n",
       "      <td>0.008281</td>\n",
       "      <td>0.040715</td>\n",
       "      <td>0.282192</td>\n",
       "      <td>0.484179</td>\n",
       "    </tr>\n",
       "    <tr>\n",
       "      <th>2</th>\n",
       "      <td>0.011782</td>\n",
       "      <td>0.015</td>\n",
       "      <td>0.010050</td>\n",
       "      <td>0.009259</td>\n",
       "      <td>0.009938</td>\n",
       "      <td>0.008458</td>\n",
       "      <td>0.504110</td>\n",
       "      <td>0.120633</td>\n",
       "    </tr>\n",
       "    <tr>\n",
       "      <th>3</th>\n",
       "      <td>0.001679</td>\n",
       "      <td>0.000</td>\n",
       "      <td>0.000000</td>\n",
       "      <td>0.000000</td>\n",
       "      <td>0.001656</td>\n",
       "      <td>0.001526</td>\n",
       "      <td>0.364384</td>\n",
       "      <td>0.003626</td>\n",
       "    </tr>\n",
       "    <tr>\n",
       "      <th>4</th>\n",
       "      <td>0.003598</td>\n",
       "      <td>0.000</td>\n",
       "      <td>0.000000</td>\n",
       "      <td>0.000000</td>\n",
       "      <td>0.002208</td>\n",
       "      <td>0.003252</td>\n",
       "      <td>0.230137</td>\n",
       "      <td>0.191826</td>\n",
       "    </tr>\n",
       "  </tbody>\n",
       "</table>\n",
       "</div>"
      ],
      "text/plain": [
       "   customer_value_total  order_num_total  order_num_total_ever_online  \\\n",
       "0              0.019503            0.015                     0.015075   \n",
       "1              0.042926            0.095                     0.090452   \n",
       "2              0.011782            0.015                     0.010050   \n",
       "3              0.001679            0.000                     0.000000   \n",
       "4              0.003598            0.000                     0.000000   \n",
       "\n",
       "   order_num_total_ever_offline  customer_value_total_ever_offline  \\\n",
       "0                      0.000000                           0.007178   \n",
       "1                      0.009259                           0.008281   \n",
       "2                      0.009259                           0.009938   \n",
       "3                      0.000000                           0.001656   \n",
       "4                      0.000000                           0.002208   \n",
       "\n",
       "   customer_value_total_ever_online   recency    tenure  \n",
       "0                          0.017395  0.254795  0.039222  \n",
       "1                          0.040715  0.282192  0.484179  \n",
       "2                          0.008458  0.504110  0.120633  \n",
       "3                          0.001526  0.364384  0.003626  \n",
       "4                          0.003252  0.230137  0.191826  "
      ]
     },
     "execution_count": 45,
     "metadata": {},
     "output_type": "execute_result"
    }
   ],
   "source": [
    "model_df.head()"
   ]
  },
  {
   "cell_type": "markdown",
   "metadata": {
    "papermill": {
     "duration": 0.027499,
     "end_time": "2022-12-31T12:14:17.089174",
     "exception": false,
     "start_time": "2022-12-31T12:14:17.061675",
     "status": "completed"
    },
    "tags": []
   },
   "source": [
    "# 5.1 - Determining the Optimum Number of Clusters"
   ]
  },
  {
   "cell_type": "code",
   "execution_count": 46,
   "metadata": {
    "execution": {
     "iopub.execute_input": "2022-12-31T12:14:17.146856Z",
     "iopub.status.busy": "2022-12-31T12:14:17.146359Z",
     "iopub.status.idle": "2022-12-31T12:14:47.063830Z",
     "shell.execute_reply": "2022-12-31T12:14:47.062293Z"
    },
    "papermill": {
     "duration": 29.950706,
     "end_time": "2022-12-31T12:14:47.067251",
     "exception": false,
     "start_time": "2022-12-31T12:14:17.116545",
     "status": "completed"
    },
    "tags": []
   },
   "outputs": [],
   "source": [
    "hc_complete = linkage(model_df, 'complete')"
   ]
  },
  {
   "cell_type": "code",
   "execution_count": 47,
   "metadata": {
    "execution": {
     "iopub.execute_input": "2022-12-31T12:14:47.124115Z",
     "iopub.status.busy": "2022-12-31T12:14:47.123574Z",
     "iopub.status.idle": "2022-12-31T12:16:11.983683Z",
     "shell.execute_reply": "2022-12-31T12:16:11.982350Z"
    },
    "papermill": {
     "duration": 84.919673,
     "end_time": "2022-12-31T12:16:12.014961",
     "exception": false,
     "start_time": "2022-12-31T12:14:47.095288",
     "status": "completed"
    },
    "tags": []
   },
   "outputs": [
    {
     "data": {
      "image/png": "[encoded data removed]",
      "text/plain": [
       "<Figure size 720x504 with 1 Axes>"
      ]
     },
     "metadata": {},
     "output_type": "display_data"
    }
   ],
   "source": [
    "plt.figure(figsize=(10, 7))\n",
    "plt.title(\"Dendrograms\")\n",
    "dend = dendrogram(hc_complete,\n",
    "           truncate_mode=\"lastp\",\n",
    "           p=20,\n",
    "           show_contracted=True,\n",
    "           leaf_font_size=10)\n",
    "plt.axhline(y=1.2, color='r', linestyle='--')\n",
    "plt.show(block=True)"
   ]
  },
  {
   "cell_type": "markdown",
   "metadata": {
    "papermill": {
     "duration": 0.027781,
     "end_time": "2022-12-31T12:16:12.071284",
     "exception": false,
     "start_time": "2022-12-31T12:16:12.043503",
     "status": "completed"
    },
    "tags": []
   },
   "source": [
    "# 5.2 - Modeling and Segmentation"
   ]
  },
  {
   "cell_type": "code",
   "execution_count": 48,
   "metadata": {
    "execution": {
     "iopub.execute_input": "2022-12-31T12:16:12.128150Z",
     "iopub.status.busy": "2022-12-31T12:16:12.127666Z",
     "iopub.status.idle": "2022-12-31T12:16:12.133662Z",
     "shell.execute_reply": "2022-12-31T12:16:12.132173Z"
    },
    "papermill": {
     "duration": 0.03735,
     "end_time": "2022-12-31T12:16:12.136437",
     "exception": false,
     "start_time": "2022-12-31T12:16:12.099087",
     "status": "completed"
    },
    "tags": []
   },
   "outputs": [],
   "source": [
    "hc = AgglomerativeClustering(n_clusters=6)"
   ]
  },
  {
   "cell_type": "code",
   "execution_count": 49,
   "metadata": {
    "execution": {
     "iopub.execute_input": "2022-12-31T12:16:12.195675Z",
     "iopub.status.busy": "2022-12-31T12:16:12.195189Z",
     "iopub.status.idle": "2022-12-31T12:16:41.628219Z",
     "shell.execute_reply": "2022-12-31T12:16:41.626728Z"
    },
    "papermill": {
     "duration": 29.466235,
     "end_time": "2022-12-31T12:16:41.631529",
     "exception": false,
     "start_time": "2022-12-31T12:16:12.165294",
     "status": "completed"
    },
    "tags": []
   },
   "outputs": [],
   "source": [
    "segments = hc.fit_predict(model_df)"
   ]
  },
  {
   "cell_type": "code",
   "execution_count": 50,
   "metadata": {
    "execution": {
     "iopub.execute_input": "2022-12-31T12:16:41.692847Z",
     "iopub.status.busy": "2022-12-31T12:16:41.692335Z",
     "iopub.status.idle": "2022-12-31T12:16:41.702315Z",
     "shell.execute_reply": "2022-12-31T12:16:41.701252Z"
    },
    "papermill": {
     "duration": 0.046141,
     "end_time": "2022-12-31T12:16:41.704828",
     "exception": false,
     "start_time": "2022-12-31T12:16:41.658687",
     "status": "completed"
    },
    "tags": []
   },
   "outputs": [
    {
     "data": {
      "text/plain": [
       "array([0, 1, 2, 3, 4, 5])"
      ]
     },
     "execution_count": 50,
     "metadata": {},
     "output_type": "execute_result"
    }
   ],
   "source": [
    "np.unique(segments)"
   ]
  },
  {
   "cell_type": "code",
   "execution_count": 51,
   "metadata": {
    "execution": {
     "iopub.execute_input": "2022-12-31T12:16:41.764147Z",
     "iopub.status.busy": "2022-12-31T12:16:41.762732Z",
     "iopub.status.idle": "2022-12-31T12:16:41.769674Z",
     "shell.execute_reply": "2022-12-31T12:16:41.768379Z"
    },
    "papermill": {
     "duration": 0.040017,
     "end_time": "2022-12-31T12:16:41.772513",
     "exception": false,
     "start_time": "2022-12-31T12:16:41.732496",
     "status": "completed"
    },
    "tags": []
   },
   "outputs": [],
   "source": [
    "df[\"segments_hc\"] = segments"
   ]
  },
  {
   "cell_type": "code",
   "execution_count": 52,
   "metadata": {
    "execution": {
     "iopub.execute_input": "2022-12-31T12:16:41.833618Z",
     "iopub.status.busy": "2022-12-31T12:16:41.832229Z",
     "iopub.status.idle": "2022-12-31T12:16:41.862123Z",
     "shell.execute_reply": "2022-12-31T12:16:41.860601Z"
    },
    "papermill": {
     "duration": 0.062934,
     "end_time": "2022-12-31T12:16:41.865426",
     "exception": false,
     "start_time": "2022-12-31T12:16:41.802492",
     "status": "completed"
    },
    "tags": []
   },
   "outputs": [
    {
     "data": {
      "text/html": [
       "<div>\n",
       "<style scoped>\n",
       "    .dataframe tbody tr th:only-of-type {\n",
       "        vertical-align: middle;\n",
       "    }\n",
       "\n",
       "    .dataframe tbody tr th {\n",
       "        vertical-align: top;\n",
       "    }\n",
       "\n",
       "    .dataframe thead th {\n",
       "        text-align: right;\n",
       "    }\n",
       "</style>\n",
       "<table border=\"1\" class=\"dataframe\">\n",
       "  <thead>\n",
       "    <tr style=\"text-align: right;\">\n",
       "      <th></th>\n",
       "      <th>master_id</th>\n",
       "      <th>order_channel</th>\n",
       "      <th>last_order_channel</th>\n",
       "      <th>first_order_date</th>\n",
       "      <th>last_order_date</th>\n",
       "      <th>last_order_date_online</th>\n",
       "      <th>last_order_date_offline</th>\n",
       "      <th>order_num_total_ever_online</th>\n",
       "      <th>order_num_total_ever_offline</th>\n",
       "      <th>customer_value_total_ever_offline</th>\n",
       "      <th>customer_value_total_ever_online</th>\n",
       "      <th>interested_in_categories_12</th>\n",
       "      <th>order_num_total</th>\n",
       "      <th>customer_value_total</th>\n",
       "      <th>recency</th>\n",
       "      <th>tenure</th>\n",
       "      <th>segments_kmeans</th>\n",
       "      <th>segments_hc</th>\n",
       "    </tr>\n",
       "  </thead>\n",
       "  <tbody>\n",
       "    <tr>\n",
       "      <th>0</th>\n",
       "      <td>cc294636-19f0-11eb-8d74-000d3a38a36f</td>\n",
       "      <td>Android App</td>\n",
       "      <td>Offline</td>\n",
       "      <td>2020-10-30</td>\n",
       "      <td>2021-02-26</td>\n",
       "      <td>2021-02-21</td>\n",
       "      <td>2021-02-26</td>\n",
       "      <td>4.0</td>\n",
       "      <td>1.0</td>\n",
       "      <td>139.99</td>\n",
       "      <td>799.38</td>\n",
       "      <td>[KADIN]</td>\n",
       "      <td>5.0</td>\n",
       "      <td>939.37</td>\n",
       "      <td>95.0</td>\n",
       "      <td>119.0</td>\n",
       "      <td>1</td>\n",
       "      <td>1</td>\n",
       "    </tr>\n",
       "    <tr>\n",
       "      <th>1</th>\n",
       "      <td>f431bd5a-ab7b-11e9-a2fc-000d3a38a36f</td>\n",
       "      <td>Android App</td>\n",
       "      <td>Mobile</td>\n",
       "      <td>2017-02-08</td>\n",
       "      <td>2021-02-16</td>\n",
       "      <td>2021-02-16</td>\n",
       "      <td>2020-01-10</td>\n",
       "      <td>19.0</td>\n",
       "      <td>2.0</td>\n",
       "      <td>159.97</td>\n",
       "      <td>1853.58</td>\n",
       "      <td>[ERKEK, COCUK, KADIN, AKTIFSPOR]</td>\n",
       "      <td>21.0</td>\n",
       "      <td>2013.55</td>\n",
       "      <td>105.0</td>\n",
       "      <td>1469.0</td>\n",
       "      <td>3</td>\n",
       "      <td>2</td>\n",
       "    </tr>\n",
       "    <tr>\n",
       "      <th>2</th>\n",
       "      <td>69b69676-1a40-11ea-941b-000d3a38a36f</td>\n",
       "      <td>Android App</td>\n",
       "      <td>Android App</td>\n",
       "      <td>2019-11-27</td>\n",
       "      <td>2020-11-27</td>\n",
       "      <td>2020-11-27</td>\n",
       "      <td>2019-12-01</td>\n",
       "      <td>3.0</td>\n",
       "      <td>2.0</td>\n",
       "      <td>189.97</td>\n",
       "      <td>395.35</td>\n",
       "      <td>[ERKEK, KADIN]</td>\n",
       "      <td>5.0</td>\n",
       "      <td>585.32</td>\n",
       "      <td>186.0</td>\n",
       "      <td>366.0</td>\n",
       "      <td>5</td>\n",
       "      <td>3</td>\n",
       "    </tr>\n",
       "    <tr>\n",
       "      <th>3</th>\n",
       "      <td>1854e56c-491f-11eb-806e-000d3a38a36f</td>\n",
       "      <td>Android App</td>\n",
       "      <td>Android App</td>\n",
       "      <td>2021-01-06</td>\n",
       "      <td>2021-01-17</td>\n",
       "      <td>2021-01-17</td>\n",
       "      <td>2021-01-06</td>\n",
       "      <td>1.0</td>\n",
       "      <td>1.0</td>\n",
       "      <td>39.99</td>\n",
       "      <td>81.98</td>\n",
       "      <td>[AKTIFCOCUK, COCUK]</td>\n",
       "      <td>2.0</td>\n",
       "      <td>121.97</td>\n",
       "      <td>135.0</td>\n",
       "      <td>11.0</td>\n",
       "      <td>1</td>\n",
       "      <td>1</td>\n",
       "    </tr>\n",
       "    <tr>\n",
       "      <th>4</th>\n",
       "      <td>d6ea1074-f1f5-11e9-9346-000d3a38a36f</td>\n",
       "      <td>Desktop</td>\n",
       "      <td>Desktop</td>\n",
       "      <td>2019-08-03</td>\n",
       "      <td>2021-03-07</td>\n",
       "      <td>2021-03-07</td>\n",
       "      <td>2019-08-03</td>\n",
       "      <td>1.0</td>\n",
       "      <td>1.0</td>\n",
       "      <td>49.99</td>\n",
       "      <td>159.99</td>\n",
       "      <td>[AKTIFSPOR]</td>\n",
       "      <td>2.0</td>\n",
       "      <td>209.98</td>\n",
       "      <td>86.0</td>\n",
       "      <td>582.0</td>\n",
       "      <td>1</td>\n",
       "      <td>1</td>\n",
       "    </tr>\n",
       "  </tbody>\n",
       "</table>\n",
       "</div>"
      ],
      "text/plain": [
       "                              master_id order_channel last_order_channel  \\\n",
       "0  cc294636-19f0-11eb-8d74-000d3a38a36f   Android App            Offline   \n",
       "1  f431bd5a-ab7b-11e9-a2fc-000d3a38a36f   Android App             Mobile   \n",
       "2  69b69676-1a40-11ea-941b-000d3a38a36f   Android App        Android App   \n",
       "3  1854e56c-491f-11eb-806e-000d3a38a36f   Android App        Android App   \n",
       "4  d6ea1074-f1f5-11e9-9346-000d3a38a36f       Desktop            Desktop   \n",
       "\n",
       "  first_order_date last_order_date last_order_date_online  \\\n",
       "0       2020-10-30      2021-02-26             2021-02-21   \n",
       "1       2017-02-08      2021-02-16             2021-02-16   \n",
       "2       2019-11-27      2020-11-27             2020-11-27   \n",
       "3       2021-01-06      2021-01-17             2021-01-17   \n",
       "4       2019-08-03      2021-03-07             2021-03-07   \n",
       "\n",
       "  last_order_date_offline  order_num_total_ever_online  \\\n",
       "0              2021-02-26                          4.0   \n",
       "1              2020-01-10                         19.0   \n",
       "2              2019-12-01                          3.0   \n",
       "3              2021-01-06                          1.0   \n",
       "4              2019-08-03                          1.0   \n",
       "\n",
       "   order_num_total_ever_offline  customer_value_total_ever_offline  \\\n",
       "0                           1.0                             139.99   \n",
       "1                           2.0                             159.97   \n",
       "2                           2.0                             189.97   \n",
       "3                           1.0                              39.99   \n",
       "4                           1.0                              49.99   \n",
       "\n",
       "   customer_value_total_ever_online       interested_in_categories_12  \\\n",
       "0                            799.38                           [KADIN]   \n",
       "1                           1853.58  [ERKEK, COCUK, KADIN, AKTIFSPOR]   \n",
       "2                            395.35                    [ERKEK, KADIN]   \n",
       "3                             81.98               [AKTIFCOCUK, COCUK]   \n",
       "4                            159.99                       [AKTIFSPOR]   \n",
       "\n",
       "   order_num_total  customer_value_total  recency  tenure  segments_kmeans  \\\n",
       "0              5.0                939.37     95.0   119.0                1   \n",
       "1             21.0               2013.55    105.0  1469.0                3   \n",
       "2              5.0                585.32    186.0   366.0                5   \n",
       "3              2.0                121.97    135.0    11.0                1   \n",
       "4              2.0                209.98     86.0   582.0                1   \n",
       "\n",
       "   segments_hc  \n",
       "0            1  \n",
       "1            2  \n",
       "2            3  \n",
       "3            1  \n",
       "4            1  "
      ]
     },
     "execution_count": 52,
     "metadata": {},
     "output_type": "execute_result"
    }
   ],
   "source": [
    "df.head()"
   ]
  },
  {
   "cell_type": "markdown",
   "metadata": {
    "papermill": {
     "duration": 0.027842,
     "end_time": "2022-12-31T12:16:41.920952",
     "exception": false,
     "start_time": "2022-12-31T12:16:41.893110",
     "status": "completed"
    },
    "tags": []
   },
   "source": [
    "# 5.3 - Examination of Segments"
   ]
  },
  {
   "cell_type": "code",
   "execution_count": 53,
   "metadata": {
    "execution": {
     "iopub.execute_input": "2022-12-31T12:16:41.980157Z",
     "iopub.status.busy": "2022-12-31T12:16:41.979663Z",
     "iopub.status.idle": "2022-12-31T12:16:42.041627Z",
     "shell.execute_reply": "2022-12-31T12:16:42.040330Z"
    },
    "papermill": {
     "duration": 0.095128,
     "end_time": "2022-12-31T12:16:42.044318",
     "exception": false,
     "start_time": "2022-12-31T12:16:41.949190",
     "status": "completed"
    },
    "tags": []
   },
   "outputs": [
    {
     "data": {
      "text/html": [
       "<div>\n",
       "<style scoped>\n",
       "    .dataframe tbody tr th:only-of-type {\n",
       "        vertical-align: middle;\n",
       "    }\n",
       "\n",
       "    .dataframe tbody tr th {\n",
       "        vertical-align: top;\n",
       "    }\n",
       "\n",
       "    .dataframe thead tr th {\n",
       "        text-align: left;\n",
       "    }\n",
       "\n",
       "    .dataframe thead tr:last-of-type th {\n",
       "        text-align: right;\n",
       "    }\n",
       "</style>\n",
       "<table border=\"1\" class=\"dataframe\">\n",
       "  <thead>\n",
       "    <tr>\n",
       "      <th></th>\n",
       "      <th colspan=\"3\" halign=\"left\">order_num_total</th>\n",
       "      <th colspan=\"3\" halign=\"left\">customer_value_total</th>\n",
       "      <th colspan=\"3\" halign=\"left\">order_num_total_ever_online</th>\n",
       "      <th colspan=\"3\" halign=\"left\">order_num_total_ever_offline</th>\n",
       "      <th colspan=\"3\" halign=\"left\">customer_value_total_ever_offline</th>\n",
       "      <th colspan=\"3\" halign=\"left\">customer_value_total_ever_online</th>\n",
       "      <th colspan=\"3\" halign=\"left\">recency</th>\n",
       "      <th colspan=\"4\" halign=\"left\">tenure</th>\n",
       "    </tr>\n",
       "    <tr>\n",
       "      <th></th>\n",
       "      <th>mean</th>\n",
       "      <th>min</th>\n",
       "      <th>max</th>\n",
       "      <th>mean</th>\n",
       "      <th>min</th>\n",
       "      <th>max</th>\n",
       "      <th>mean</th>\n",
       "      <th>min</th>\n",
       "      <th>max</th>\n",
       "      <th>mean</th>\n",
       "      <th>min</th>\n",
       "      <th>max</th>\n",
       "      <th>mean</th>\n",
       "      <th>min</th>\n",
       "      <th>max</th>\n",
       "      <th>mean</th>\n",
       "      <th>min</th>\n",
       "      <th>max</th>\n",
       "      <th>mean</th>\n",
       "      <th>min</th>\n",
       "      <th>max</th>\n",
       "      <th>mean</th>\n",
       "      <th>min</th>\n",
       "      <th>max</th>\n",
       "      <th>count</th>\n",
       "    </tr>\n",
       "    <tr>\n",
       "      <th>segments_hc</th>\n",
       "      <th></th>\n",
       "      <th></th>\n",
       "      <th></th>\n",
       "      <th></th>\n",
       "      <th></th>\n",
       "      <th></th>\n",
       "      <th></th>\n",
       "      <th></th>\n",
       "      <th></th>\n",
       "      <th></th>\n",
       "      <th></th>\n",
       "      <th></th>\n",
       "      <th></th>\n",
       "      <th></th>\n",
       "      <th></th>\n",
       "      <th></th>\n",
       "      <th></th>\n",
       "      <th></th>\n",
       "      <th></th>\n",
       "      <th></th>\n",
       "      <th></th>\n",
       "      <th></th>\n",
       "      <th></th>\n",
       "      <th></th>\n",
       "      <th></th>\n",
       "    </tr>\n",
       "  </thead>\n",
       "  <tbody>\n",
       "    <tr>\n",
       "      <th>0</th>\n",
       "      <td>7.007020</td>\n",
       "      <td>2.0</td>\n",
       "      <td>61.0</td>\n",
       "      <td>904.902049</td>\n",
       "      <td>67.99</td>\n",
       "      <td>7953.47</td>\n",
       "      <td>5.094448</td>\n",
       "      <td>1.0</td>\n",
       "      <td>55.0</td>\n",
       "      <td>1.912572</td>\n",
       "      <td>1.0</td>\n",
       "      <td>21.0</td>\n",
       "      <td>254.791359</td>\n",
       "      <td>12.99</td>\n",
       "      <td>3215.78</td>\n",
       "      <td>650.110689</td>\n",
       "      <td>14.99</td>\n",
       "      <td>7133.14</td>\n",
       "      <td>239.026803</td>\n",
       "      <td>116.0</td>\n",
       "      <td>367.0</td>\n",
       "      <td>1556.475431</td>\n",
       "      <td>802.0</td>\n",
       "      <td>2864.0</td>\n",
       "      <td>1567</td>\n",
       "    </tr>\n",
       "    <tr>\n",
       "      <th>1</th>\n",
       "      <td>4.507724</td>\n",
       "      <td>2.0</td>\n",
       "      <td>111.0</td>\n",
       "      <td>683.350590</td>\n",
       "      <td>49.98</td>\n",
       "      <td>20706.34</td>\n",
       "      <td>2.426880</td>\n",
       "      <td>1.0</td>\n",
       "      <td>46.0</td>\n",
       "      <td>2.080844</td>\n",
       "      <td>1.0</td>\n",
       "      <td>109.0</td>\n",
       "      <td>274.588963</td>\n",
       "      <td>10.99</td>\n",
       "      <td>18119.14</td>\n",
       "      <td>408.761627</td>\n",
       "      <td>14.00</td>\n",
       "      <td>12038.18</td>\n",
       "      <td>104.841744</td>\n",
       "      <td>27.0</td>\n",
       "      <td>336.0</td>\n",
       "      <td>495.979918</td>\n",
       "      <td>0.0</td>\n",
       "      <td>1300.0</td>\n",
       "      <td>5826</td>\n",
       "    </tr>\n",
       "    <tr>\n",
       "      <th>2</th>\n",
       "      <td>9.244422</td>\n",
       "      <td>2.0</td>\n",
       "      <td>202.0</td>\n",
       "      <td>1295.212896</td>\n",
       "      <td>44.98</td>\n",
       "      <td>45905.10</td>\n",
       "      <td>7.167343</td>\n",
       "      <td>1.0</td>\n",
       "      <td>200.0</td>\n",
       "      <td>2.077079</td>\n",
       "      <td>1.0</td>\n",
       "      <td>24.0</td>\n",
       "      <td>273.398185</td>\n",
       "      <td>12.99</td>\n",
       "      <td>2565.53</td>\n",
       "      <td>1021.814711</td>\n",
       "      <td>19.99</td>\n",
       "      <td>45220.13</td>\n",
       "      <td>62.630832</td>\n",
       "      <td>2.0</td>\n",
       "      <td>224.0</td>\n",
       "      <td>1642.744422</td>\n",
       "      <td>43.0</td>\n",
       "      <td>3034.0</td>\n",
       "      <td>1972</td>\n",
       "    </tr>\n",
       "    <tr>\n",
       "      <th>3</th>\n",
       "      <td>3.836098</td>\n",
       "      <td>2.0</td>\n",
       "      <td>19.0</td>\n",
       "      <td>586.025249</td>\n",
       "      <td>44.98</td>\n",
       "      <td>4809.81</td>\n",
       "      <td>2.134153</td>\n",
       "      <td>1.0</td>\n",
       "      <td>18.0</td>\n",
       "      <td>1.701945</td>\n",
       "      <td>1.0</td>\n",
       "      <td>9.0</td>\n",
       "      <td>222.803939</td>\n",
       "      <td>10.49</td>\n",
       "      <td>1671.41</td>\n",
       "      <td>363.221310</td>\n",
       "      <td>18.74</td>\n",
       "      <td>3625.93</td>\n",
       "      <td>210.314645</td>\n",
       "      <td>150.0</td>\n",
       "      <td>285.0</td>\n",
       "      <td>421.540618</td>\n",
       "      <td>0.0</td>\n",
       "      <td>972.0</td>\n",
       "      <td>3496</td>\n",
       "    </tr>\n",
       "    <tr>\n",
       "      <th>4</th>\n",
       "      <td>3.666212</td>\n",
       "      <td>2.0</td>\n",
       "      <td>47.0</td>\n",
       "      <td>538.597740</td>\n",
       "      <td>53.47</td>\n",
       "      <td>7745.27</td>\n",
       "      <td>1.940427</td>\n",
       "      <td>1.0</td>\n",
       "      <td>16.0</td>\n",
       "      <td>1.725784</td>\n",
       "      <td>1.0</td>\n",
       "      <td>46.0</td>\n",
       "      <td>215.000591</td>\n",
       "      <td>10.00</td>\n",
       "      <td>3197.19</td>\n",
       "      <td>323.597149</td>\n",
       "      <td>12.99</td>\n",
       "      <td>7665.28</td>\n",
       "      <td>324.189632</td>\n",
       "      <td>249.0</td>\n",
       "      <td>367.0</td>\n",
       "      <td>343.309231</td>\n",
       "      <td>0.0</td>\n",
       "      <td>1040.0</td>\n",
       "      <td>2199</td>\n",
       "    </tr>\n",
       "    <tr>\n",
       "      <th>5</th>\n",
       "      <td>4.764381</td>\n",
       "      <td>2.0</td>\n",
       "      <td>70.0</td>\n",
       "      <td>777.298819</td>\n",
       "      <td>65.91</td>\n",
       "      <td>18443.57</td>\n",
       "      <td>2.878608</td>\n",
       "      <td>1.0</td>\n",
       "      <td>69.0</td>\n",
       "      <td>1.885773</td>\n",
       "      <td>1.0</td>\n",
       "      <td>18.0</td>\n",
       "      <td>260.925844</td>\n",
       "      <td>12.99</td>\n",
       "      <td>4325.77</td>\n",
       "      <td>516.372974</td>\n",
       "      <td>23.99</td>\n",
       "      <td>17599.89</td>\n",
       "      <td>25.536950</td>\n",
       "      <td>2.0</td>\n",
       "      <td>86.0</td>\n",
       "      <td>512.487615</td>\n",
       "      <td>0.0</td>\n",
       "      <td>1434.0</td>\n",
       "      <td>4885</td>\n",
       "    </tr>\n",
       "  </tbody>\n",
       "</table>\n",
       "</div>"
      ],
      "text/plain": [
       "            order_num_total             customer_value_total                   \\\n",
       "                       mean  min    max                 mean    min       max   \n",
       "segments_hc                                                                     \n",
       "0                  7.007020  2.0   61.0           904.902049  67.99   7953.47   \n",
       "1                  4.507724  2.0  111.0           683.350590  49.98  20706.34   \n",
       "2                  9.244422  2.0  202.0          1295.212896  44.98  45905.10   \n",
       "3                  3.836098  2.0   19.0           586.025249  44.98   4809.81   \n",
       "4                  3.666212  2.0   47.0           538.597740  53.47   7745.27   \n",
       "5                  4.764381  2.0   70.0           777.298819  65.91  18443.57   \n",
       "\n",
       "            order_num_total_ever_online              \\\n",
       "                                   mean  min    max   \n",
       "segments_hc                                           \n",
       "0                              5.094448  1.0   55.0   \n",
       "1                              2.426880  1.0   46.0   \n",
       "2                              7.167343  1.0  200.0   \n",
       "3                              2.134153  1.0   18.0   \n",
       "4                              1.940427  1.0   16.0   \n",
       "5                              2.878608  1.0   69.0   \n",
       "\n",
       "            order_num_total_ever_offline              \\\n",
       "                                    mean  min    max   \n",
       "segments_hc                                            \n",
       "0                               1.912572  1.0   21.0   \n",
       "1                               2.080844  1.0  109.0   \n",
       "2                               2.077079  1.0   24.0   \n",
       "3                               1.701945  1.0    9.0   \n",
       "4                               1.725784  1.0   46.0   \n",
       "5                               1.885773  1.0   18.0   \n",
       "\n",
       "            customer_value_total_ever_offline                   \\\n",
       "                                         mean    min       max   \n",
       "segments_hc                                                      \n",
       "0                                  254.791359  12.99   3215.78   \n",
       "1                                  274.588963  10.99  18119.14   \n",
       "2                                  273.398185  12.99   2565.53   \n",
       "3                                  222.803939  10.49   1671.41   \n",
       "4                                  215.000591  10.00   3197.19   \n",
       "5                                  260.925844  12.99   4325.77   \n",
       "\n",
       "            customer_value_total_ever_online                      recency  \\\n",
       "                                        mean    min       max        mean   \n",
       "segments_hc                                                                 \n",
       "0                                 650.110689  14.99   7133.14  239.026803   \n",
       "1                                 408.761627  14.00  12038.18  104.841744   \n",
       "2                                1021.814711  19.99  45220.13   62.630832   \n",
       "3                                 363.221310  18.74   3625.93  210.314645   \n",
       "4                                 323.597149  12.99   7665.28  324.189632   \n",
       "5                                 516.372974  23.99  17599.89   25.536950   \n",
       "\n",
       "                                tenure                       \n",
       "               min    max         mean    min     max count  \n",
       "segments_hc                                                  \n",
       "0            116.0  367.0  1556.475431  802.0  2864.0  1567  \n",
       "1             27.0  336.0   495.979918    0.0  1300.0  5826  \n",
       "2              2.0  224.0  1642.744422   43.0  3034.0  1972  \n",
       "3            150.0  285.0   421.540618    0.0   972.0  3496  \n",
       "4            249.0  367.0   343.309231    0.0  1040.0  2199  \n",
       "5              2.0   86.0   512.487615    0.0  1434.0  4885  "
      ]
     },
     "execution_count": 53,
     "metadata": {},
     "output_type": "execute_result"
    }
   ],
   "source": [
    "df.groupby(\"segments_hc\").agg({\"order_num_total\" : [\"mean\",\"min\",\"max\"],\n",
    "                            \"customer_value_total\" : [\"mean\",\"min\",\"max\"],\n",
    "                            \"order_num_total_ever_online\":[\"mean\",\"min\",\"max\"],\n",
    "                            \"order_num_total_ever_offline\":[\"mean\",\"min\",\"max\"],\n",
    "                            \"customer_value_total_ever_offline\":[\"mean\",\"min\",\"max\"],\n",
    "                            \"customer_value_total_ever_online\":[\"mean\",\"min\",\"max\"],\n",
    "                            \"recency\":[\"mean\",\"min\",\"max\"],\n",
    "                            \"tenure\":[\"mean\",\"min\",\"max\",\"count\"]})"
   ]
  }
 ],
 "metadata": {
  "kernelspec": {
   "display_name": "Python 3",
   "language": "python",
   "name": "python3"
  },
  "language_info": {
   "codemirror_mode": {
    "name": "ipython",
    "version": 3
   },
   "file_extension": ".py",
   "mimetype": "text/x-python",
   "name": "python",
   "nbconvert_exporter": "python",
   "pygments_lexer": "ipython3",
   "version": "3.7.6"
  },
  "papermill": {
   "default_parameters": {},
   "duration": 215.219645,
   "end_time": "2022-12-31T12:16:43.501765",
   "environment_variables": {},
   "exception": null,
   "input_path": "__notebook__.ipynb",
   "output_path": "__notebook__.ipynb",
   "parameters": {},
   "start_time": "2022-12-31T12:13:08.282120",
   "version": "2.3.4"
  }
 },
 "nbformat": 4,
 "nbformat_minor": 5
}
