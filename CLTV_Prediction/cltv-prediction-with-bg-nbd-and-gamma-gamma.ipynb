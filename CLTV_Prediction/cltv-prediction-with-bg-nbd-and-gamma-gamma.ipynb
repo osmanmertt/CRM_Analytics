{
 "cells": [
  {
   "cell_type": "code",
   "execution_count": null,
   "metadata": {
    "execution": {
     "iopub.execute_input": "2022-10-26T08:38:40.772304Z",
     "iopub.status.busy": "2022-10-26T08:38:40.771323Z",
     "iopub.status.idle": "2022-10-26T08:38:53.803591Z",
     "shell.execute_reply": "2022-10-26T08:38:53.802636Z"
    },
    "papermill": {
     "duration": 13.045446,
     "end_time": "2022-10-26T08:38:53.806365",
     "exception": false,
     "start_time": "2022-10-26T08:38:40.760919",
     "status": "completed"
    },
    "tags": []
   },
   "outputs": [],
   "source": [
    "!pip install lifetimes"
   ]
  },
  {
   "cell_type": "code",
   "execution_count": 2,
   "metadata": {
    "execution": {
     "iopub.execute_input": "2022-10-26T08:38:53.828703Z",
     "iopub.status.busy": "2022-10-26T08:38:53.827887Z",
     "iopub.status.idle": "2022-10-26T08:38:54.762702Z",
     "shell.execute_reply": "2022-10-26T08:38:54.761835Z"
    },
    "papermill": {
     "duration": 0.948245,
     "end_time": "2022-10-26T08:38:54.765118",
     "exception": false,
     "start_time": "2022-10-26T08:38:53.816873",
     "status": "completed"
    },
    "tags": []
   },
   "outputs": [],
   "source": [
    "import pandas as pd\n",
    "import datetime as dt\n",
    "from lifetimes import BetaGeoFitter\n",
    "from lifetimes import GammaGammaFitter\n",
    "\n",
    "df_ = pd.read_csv(\"../input/flo-data-20k/flo_data_20k.csv\")\n",
    "\n",
    "df = df_.copy()"
   ]
  },
  {
   "cell_type": "code",
   "execution_count": 3,
   "metadata": {
    "execution": {
     "iopub.execute_input": "2022-10-26T08:38:54.787916Z",
     "iopub.status.busy": "2022-10-26T08:38:54.787526Z",
     "iopub.status.idle": "2022-10-26T08:38:54.811913Z",
     "shell.execute_reply": "2022-10-26T08:38:54.811226Z"
    },
    "papermill": {
     "duration": 0.037195,
     "end_time": "2022-10-26T08:38:54.813721",
     "exception": false,
     "start_time": "2022-10-26T08:38:54.776526",
     "status": "completed"
    },
    "tags": []
   },
   "outputs": [
    {
     "data": {
      "text/html": [
       "<div>\n",
       "<style scoped>\n",
       "    .dataframe tbody tr th:only-of-type {\n",
       "        vertical-align: middle;\n",
       "    }\n",
       "\n",
       "    .dataframe tbody tr th {\n",
       "        vertical-align: top;\n",
       "    }\n",
       "\n",
       "    .dataframe thead th {\n",
       "        text-align: right;\n",
       "    }\n",
       "</style>\n",
       "<table border=\"1\" class=\"dataframe\">\n",
       "  <thead>\n",
       "    <tr style=\"text-align: right;\">\n",
       "      <th></th>\n",
       "      <th>master_id</th>\n",
       "      <th>order_channel</th>\n",
       "      <th>last_order_channel</th>\n",
       "      <th>first_order_date</th>\n",
       "      <th>last_order_date</th>\n",
       "      <th>last_order_date_online</th>\n",
       "      <th>last_order_date_offline</th>\n",
       "      <th>order_num_total_ever_online</th>\n",
       "      <th>order_num_total_ever_offline</th>\n",
       "      <th>customer_value_total_ever_offline</th>\n",
       "      <th>customer_value_total_ever_online</th>\n",
       "      <th>interested_in_categories_12</th>\n",
       "    </tr>\n",
       "  </thead>\n",
       "  <tbody>\n",
       "    <tr>\n",
       "      <th>0</th>\n",
       "      <td>cc294636-19f0-11eb-8d74-000d3a38a36f</td>\n",
       "      <td>Android App</td>\n",
       "      <td>Offline</td>\n",
       "      <td>2020-10-30</td>\n",
       "      <td>2021-02-26</td>\n",
       "      <td>2021-02-21</td>\n",
       "      <td>2021-02-26</td>\n",
       "      <td>4.0</td>\n",
       "      <td>1.0</td>\n",
       "      <td>139.99</td>\n",
       "      <td>799.38</td>\n",
       "      <td>[KADIN]</td>\n",
       "    </tr>\n",
       "    <tr>\n",
       "      <th>1</th>\n",
       "      <td>f431bd5a-ab7b-11e9-a2fc-000d3a38a36f</td>\n",
       "      <td>Android App</td>\n",
       "      <td>Mobile</td>\n",
       "      <td>2017-02-08</td>\n",
       "      <td>2021-02-16</td>\n",
       "      <td>2021-02-16</td>\n",
       "      <td>2020-01-10</td>\n",
       "      <td>19.0</td>\n",
       "      <td>2.0</td>\n",
       "      <td>159.97</td>\n",
       "      <td>1853.58</td>\n",
       "      <td>[ERKEK, COCUK, KADIN, AKTIFSPOR]</td>\n",
       "    </tr>\n",
       "    <tr>\n",
       "      <th>2</th>\n",
       "      <td>69b69676-1a40-11ea-941b-000d3a38a36f</td>\n",
       "      <td>Android App</td>\n",
       "      <td>Android App</td>\n",
       "      <td>2019-11-27</td>\n",
       "      <td>2020-11-27</td>\n",
       "      <td>2020-11-27</td>\n",
       "      <td>2019-12-01</td>\n",
       "      <td>3.0</td>\n",
       "      <td>2.0</td>\n",
       "      <td>189.97</td>\n",
       "      <td>395.35</td>\n",
       "      <td>[ERKEK, KADIN]</td>\n",
       "    </tr>\n",
       "    <tr>\n",
       "      <th>3</th>\n",
       "      <td>1854e56c-491f-11eb-806e-000d3a38a36f</td>\n",
       "      <td>Android App</td>\n",
       "      <td>Android App</td>\n",
       "      <td>2021-01-06</td>\n",
       "      <td>2021-01-17</td>\n",
       "      <td>2021-01-17</td>\n",
       "      <td>2021-01-06</td>\n",
       "      <td>1.0</td>\n",
       "      <td>1.0</td>\n",
       "      <td>39.99</td>\n",
       "      <td>81.98</td>\n",
       "      <td>[AKTIFCOCUK, COCUK]</td>\n",
       "    </tr>\n",
       "    <tr>\n",
       "      <th>4</th>\n",
       "      <td>d6ea1074-f1f5-11e9-9346-000d3a38a36f</td>\n",
       "      <td>Desktop</td>\n",
       "      <td>Desktop</td>\n",
       "      <td>2019-08-03</td>\n",
       "      <td>2021-03-07</td>\n",
       "      <td>2021-03-07</td>\n",
       "      <td>2019-08-03</td>\n",
       "      <td>1.0</td>\n",
       "      <td>1.0</td>\n",
       "      <td>49.99</td>\n",
       "      <td>159.99</td>\n",
       "      <td>[AKTIFSPOR]</td>\n",
       "    </tr>\n",
       "  </tbody>\n",
       "</table>\n",
       "</div>"
      ],
      "text/plain": [
       "                              master_id order_channel last_order_channel  \\\n",
       "0  cc294636-19f0-11eb-8d74-000d3a38a36f   Android App            Offline   \n",
       "1  f431bd5a-ab7b-11e9-a2fc-000d3a38a36f   Android App             Mobile   \n",
       "2  69b69676-1a40-11ea-941b-000d3a38a36f   Android App        Android App   \n",
       "3  1854e56c-491f-11eb-806e-000d3a38a36f   Android App        Android App   \n",
       "4  d6ea1074-f1f5-11e9-9346-000d3a38a36f       Desktop            Desktop   \n",
       "\n",
       "  first_order_date last_order_date last_order_date_online  \\\n",
       "0       2020-10-30      2021-02-26             2021-02-21   \n",
       "1       2017-02-08      2021-02-16             2021-02-16   \n",
       "2       2019-11-27      2020-11-27             2020-11-27   \n",
       "3       2021-01-06      2021-01-17             2021-01-17   \n",
       "4       2019-08-03      2021-03-07             2021-03-07   \n",
       "\n",
       "  last_order_date_offline  order_num_total_ever_online  \\\n",
       "0              2021-02-26                          4.0   \n",
       "1              2020-01-10                         19.0   \n",
       "2              2019-12-01                          3.0   \n",
       "3              2021-01-06                          1.0   \n",
       "4              2019-08-03                          1.0   \n",
       "\n",
       "   order_num_total_ever_offline  customer_value_total_ever_offline  \\\n",
       "0                           1.0                             139.99   \n",
       "1                           2.0                             159.97   \n",
       "2                           2.0                             189.97   \n",
       "3                           1.0                              39.99   \n",
       "4                           1.0                              49.99   \n",
       "\n",
       "   customer_value_total_ever_online       interested_in_categories_12  \n",
       "0                            799.38                           [KADIN]  \n",
       "1                           1853.58  [ERKEK, COCUK, KADIN, AKTIFSPOR]  \n",
       "2                            395.35                    [ERKEK, KADIN]  \n",
       "3                             81.98               [AKTIFCOCUK, COCUK]  \n",
       "4                            159.99                       [AKTIFSPOR]  "
      ]
     },
     "execution_count": 3,
     "metadata": {},
     "output_type": "execute_result"
    }
   ],
   "source": [
    "df.head()"
   ]
  },
  {
   "cell_type": "code",
   "execution_count": 4,
   "metadata": {
    "execution": {
     "iopub.execute_input": "2022-10-26T08:38:54.833878Z",
     "iopub.status.busy": "2022-10-26T08:38:54.832960Z",
     "iopub.status.idle": "2022-10-26T08:38:54.839345Z",
     "shell.execute_reply": "2022-10-26T08:38:54.838663Z"
    },
    "papermill": {
     "duration": 0.018208,
     "end_time": "2022-10-26T08:38:54.841087",
     "exception": false,
     "start_time": "2022-10-26T08:38:54.822879",
     "status": "completed"
    },
    "tags": []
   },
   "outputs": [
    {
     "data": {
      "text/plain": [
       "Index(['master_id', 'order_channel', 'last_order_channel', 'first_order_date',\n",
       "       'last_order_date', 'last_order_date_online', 'last_order_date_offline',\n",
       "       'order_num_total_ever_online', 'order_num_total_ever_offline',\n",
       "       'customer_value_total_ever_offline', 'customer_value_total_ever_online',\n",
       "       'interested_in_categories_12'],\n",
       "      dtype='object')"
      ]
     },
     "execution_count": 4,
     "metadata": {},
     "output_type": "execute_result"
    }
   ],
   "source": [
    "df.columns"
   ]
  },
  {
   "cell_type": "code",
   "execution_count": 5,
   "metadata": {
    "execution": {
     "iopub.execute_input": "2022-10-26T08:38:54.861851Z",
     "iopub.status.busy": "2022-10-26T08:38:54.861242Z",
     "iopub.status.idle": "2022-10-26T08:38:54.898854Z",
     "shell.execute_reply": "2022-10-26T08:38:54.897787Z"
    },
    "papermill": {
     "duration": 0.050846,
     "end_time": "2022-10-26T08:38:54.901131",
     "exception": false,
     "start_time": "2022-10-26T08:38:54.850285",
     "status": "completed"
    },
    "tags": []
   },
   "outputs": [
    {
     "data": {
      "text/html": [
       "<div>\n",
       "<style scoped>\n",
       "    .dataframe tbody tr th:only-of-type {\n",
       "        vertical-align: middle;\n",
       "    }\n",
       "\n",
       "    .dataframe tbody tr th {\n",
       "        vertical-align: top;\n",
       "    }\n",
       "\n",
       "    .dataframe thead th {\n",
       "        text-align: right;\n",
       "    }\n",
       "</style>\n",
       "<table border=\"1\" class=\"dataframe\">\n",
       "  <thead>\n",
       "    <tr style=\"text-align: right;\">\n",
       "      <th></th>\n",
       "      <th>count</th>\n",
       "      <th>mean</th>\n",
       "      <th>std</th>\n",
       "      <th>min</th>\n",
       "      <th>25%</th>\n",
       "      <th>50%</th>\n",
       "      <th>75%</th>\n",
       "      <th>max</th>\n",
       "    </tr>\n",
       "  </thead>\n",
       "  <tbody>\n",
       "    <tr>\n",
       "      <th>order_num_total_ever_online</th>\n",
       "      <td>19945.0</td>\n",
       "      <td>3.110855</td>\n",
       "      <td>4.225647</td>\n",
       "      <td>1.00</td>\n",
       "      <td>1.00</td>\n",
       "      <td>2.00</td>\n",
       "      <td>4.00</td>\n",
       "      <td>200.00</td>\n",
       "    </tr>\n",
       "    <tr>\n",
       "      <th>order_num_total_ever_offline</th>\n",
       "      <td>19945.0</td>\n",
       "      <td>1.913913</td>\n",
       "      <td>2.062880</td>\n",
       "      <td>1.00</td>\n",
       "      <td>1.00</td>\n",
       "      <td>1.00</td>\n",
       "      <td>2.00</td>\n",
       "      <td>109.00</td>\n",
       "    </tr>\n",
       "    <tr>\n",
       "      <th>customer_value_total_ever_offline</th>\n",
       "      <td>19945.0</td>\n",
       "      <td>253.922597</td>\n",
       "      <td>301.532853</td>\n",
       "      <td>10.00</td>\n",
       "      <td>99.99</td>\n",
       "      <td>179.98</td>\n",
       "      <td>319.97</td>\n",
       "      <td>18119.14</td>\n",
       "    </tr>\n",
       "    <tr>\n",
       "      <th>customer_value_total_ever_online</th>\n",
       "      <td>19945.0</td>\n",
       "      <td>497.321690</td>\n",
       "      <td>832.601886</td>\n",
       "      <td>12.99</td>\n",
       "      <td>149.98</td>\n",
       "      <td>286.46</td>\n",
       "      <td>578.44</td>\n",
       "      <td>45220.13</td>\n",
       "    </tr>\n",
       "  </tbody>\n",
       "</table>\n",
       "</div>"
      ],
      "text/plain": [
       "                                     count        mean         std    min  \\\n",
       "order_num_total_ever_online        19945.0    3.110855    4.225647   1.00   \n",
       "order_num_total_ever_offline       19945.0    1.913913    2.062880   1.00   \n",
       "customer_value_total_ever_offline  19945.0  253.922597  301.532853  10.00   \n",
       "customer_value_total_ever_online   19945.0  497.321690  832.601886  12.99   \n",
       "\n",
       "                                      25%     50%     75%       max  \n",
       "order_num_total_ever_online          1.00    2.00    4.00    200.00  \n",
       "order_num_total_ever_offline         1.00    1.00    2.00    109.00  \n",
       "customer_value_total_ever_offline   99.99  179.98  319.97  18119.14  \n",
       "customer_value_total_ever_online   149.98  286.46  578.44  45220.13  "
      ]
     },
     "execution_count": 5,
     "metadata": {},
     "output_type": "execute_result"
    }
   ],
   "source": [
    "df.describe().T"
   ]
  },
  {
   "cell_type": "code",
   "execution_count": 6,
   "metadata": {
    "execution": {
     "iopub.execute_input": "2022-10-26T08:38:54.923060Z",
     "iopub.status.busy": "2022-10-26T08:38:54.922649Z",
     "iopub.status.idle": "2022-10-26T08:38:54.937242Z",
     "shell.execute_reply": "2022-10-26T08:38:54.936516Z"
    },
    "papermill": {
     "duration": 0.028114,
     "end_time": "2022-10-26T08:38:54.939147",
     "exception": false,
     "start_time": "2022-10-26T08:38:54.911033",
     "status": "completed"
    },
    "tags": []
   },
   "outputs": [
    {
     "data": {
      "text/plain": [
       "master_id                            0\n",
       "order_channel                        0\n",
       "last_order_channel                   0\n",
       "first_order_date                     0\n",
       "last_order_date                      0\n",
       "last_order_date_online               0\n",
       "last_order_date_offline              0\n",
       "order_num_total_ever_online          0\n",
       "order_num_total_ever_offline         0\n",
       "customer_value_total_ever_offline    0\n",
       "customer_value_total_ever_online     0\n",
       "interested_in_categories_12          0\n",
       "dtype: int64"
      ]
     },
     "execution_count": 6,
     "metadata": {},
     "output_type": "execute_result"
    }
   ],
   "source": [
    "df.isnull().sum()"
   ]
  },
  {
   "cell_type": "code",
   "execution_count": 7,
   "metadata": {
    "execution": {
     "iopub.execute_input": "2022-10-26T08:38:54.960342Z",
     "iopub.status.busy": "2022-10-26T08:38:54.959806Z",
     "iopub.status.idle": "2022-10-26T08:38:54.980654Z",
     "shell.execute_reply": "2022-10-26T08:38:54.979604Z"
    },
    "papermill": {
     "duration": 0.033871,
     "end_time": "2022-10-26T08:38:54.982742",
     "exception": false,
     "start_time": "2022-10-26T08:38:54.948871",
     "status": "completed"
    },
    "tags": []
   },
   "outputs": [
    {
     "name": "stdout",
     "output_type": "stream",
     "text": [
      "<class 'pandas.core.frame.DataFrame'>\n",
      "RangeIndex: 19945 entries, 0 to 19944\n",
      "Data columns (total 12 columns):\n",
      " #   Column                             Non-Null Count  Dtype  \n",
      "---  ------                             --------------  -----  \n",
      " 0   master_id                          19945 non-null  object \n",
      " 1   order_channel                      19945 non-null  object \n",
      " 2   last_order_channel                 19945 non-null  object \n",
      " 3   first_order_date                   19945 non-null  object \n",
      " 4   last_order_date                    19945 non-null  object \n",
      " 5   last_order_date_online             19945 non-null  object \n",
      " 6   last_order_date_offline            19945 non-null  object \n",
      " 7   order_num_total_ever_online        19945 non-null  float64\n",
      " 8   order_num_total_ever_offline       19945 non-null  float64\n",
      " 9   customer_value_total_ever_offline  19945 non-null  float64\n",
      " 10  customer_value_total_ever_online   19945 non-null  float64\n",
      " 11  interested_in_categories_12        19945 non-null  object \n",
      "dtypes: float64(4), object(8)\n",
      "memory usage: 1.8+ MB\n"
     ]
    }
   ],
   "source": [
    "df.info()"
   ]
  },
  {
   "cell_type": "markdown",
   "metadata": {
    "papermill": {
     "duration": 0.010182,
     "end_time": "2022-10-26T08:38:55.003287",
     "exception": false,
     "start_time": "2022-10-26T08:38:54.993105",
     "status": "completed"
    },
    "tags": []
   },
   "source": [
    "**outlier_thresholds and replace_with_thresholds functions are defined to eliminate outliers. Then, the outlier values ​​in the relevant columns were replaced with the low and upp limits.**"
   ]
  },
  {
   "cell_type": "code",
   "execution_count": 8,
   "metadata": {
    "execution": {
     "iopub.execute_input": "2022-10-26T08:38:55.025735Z",
     "iopub.status.busy": "2022-10-26T08:38:55.025098Z",
     "iopub.status.idle": "2022-10-26T08:38:55.031651Z",
     "shell.execute_reply": "2022-10-26T08:38:55.030830Z"
    },
    "papermill": {
     "duration": 0.020262,
     "end_time": "2022-10-26T08:38:55.033755",
     "exception": false,
     "start_time": "2022-10-26T08:38:55.013493",
     "status": "completed"
    },
    "tags": []
   },
   "outputs": [],
   "source": [
    "def outlier_thresholds(dataframe, variable):\n",
    "    quartile1 = dataframe[variable].quantile(0.01)\n",
    "    quartile3 = dataframe[variable].quantile(0.99)\n",
    "    interquantile_range = quartile3 - quartile1\n",
    "    up_limit = quartile3 + 1.5 * interquantile_range\n",
    "    low_limit = quartile1 - 1.5 * interquantile_range\n",
    "    return round(low_limit), round(up_limit)\n",
    "\n",
    "def replace_with_thresholds(dataframe, variable):\n",
    "    low_limit, up_limit = outlier_thresholds(dataframe, variable)\n",
    "    dataframe.loc[(dataframe[variable] < low_limit), variable] = low_limit\n",
    "    dataframe.loc[(dataframe[variable] > up_limit), variable] = up_limit"
   ]
  },
  {
   "cell_type": "code",
   "execution_count": 9,
   "metadata": {
    "execution": {
     "iopub.execute_input": "2022-10-26T08:38:55.055351Z",
     "iopub.status.busy": "2022-10-26T08:38:55.054990Z",
     "iopub.status.idle": "2022-10-26T08:38:55.072790Z",
     "shell.execute_reply": "2022-10-26T08:38:55.071908Z"
    },
    "papermill": {
     "duration": 0.031394,
     "end_time": "2022-10-26T08:38:55.075152",
     "exception": false,
     "start_time": "2022-10-26T08:38:55.043758",
     "status": "completed"
    },
    "tags": []
   },
   "outputs": [],
   "source": [
    "replace_with_thresholds(df,\"order_num_total_ever_online\")\n",
    "replace_with_thresholds(df,\"order_num_total_ever_offline\")\n",
    "replace_with_thresholds(df,\"customer_value_total_ever_offline\")\n",
    "replace_with_thresholds(df,\"customer_value_total_ever_online\")"
   ]
  },
  {
   "cell_type": "code",
   "execution_count": 10,
   "metadata": {
    "execution": {
     "iopub.execute_input": "2022-10-26T08:38:55.097829Z",
     "iopub.status.busy": "2022-10-26T08:38:55.097447Z",
     "iopub.status.idle": "2022-10-26T08:38:55.124755Z",
     "shell.execute_reply": "2022-10-26T08:38:55.123614Z"
    },
    "papermill": {
     "duration": 0.04133,
     "end_time": "2022-10-26T08:38:55.126937",
     "exception": false,
     "start_time": "2022-10-26T08:38:55.085607",
     "status": "completed"
    },
    "tags": []
   },
   "outputs": [
    {
     "data": {
      "text/html": [
       "<div>\n",
       "<style scoped>\n",
       "    .dataframe tbody tr th:only-of-type {\n",
       "        vertical-align: middle;\n",
       "    }\n",
       "\n",
       "    .dataframe tbody tr th {\n",
       "        vertical-align: top;\n",
       "    }\n",
       "\n",
       "    .dataframe thead th {\n",
       "        text-align: right;\n",
       "    }\n",
       "</style>\n",
       "<table border=\"1\" class=\"dataframe\">\n",
       "  <thead>\n",
       "    <tr style=\"text-align: right;\">\n",
       "      <th></th>\n",
       "      <th>count</th>\n",
       "      <th>mean</th>\n",
       "      <th>std</th>\n",
       "      <th>min</th>\n",
       "      <th>25%</th>\n",
       "      <th>50%</th>\n",
       "      <th>75%</th>\n",
       "      <th>max</th>\n",
       "    </tr>\n",
       "  </thead>\n",
       "  <tbody>\n",
       "    <tr>\n",
       "      <th>order_num_total_ever_online</th>\n",
       "      <td>19945.0</td>\n",
       "      <td>3.091953</td>\n",
       "      <td>3.809541</td>\n",
       "      <td>1.00</td>\n",
       "      <td>1.00</td>\n",
       "      <td>2.00</td>\n",
       "      <td>4.00</td>\n",
       "      <td>48.0</td>\n",
       "    </tr>\n",
       "    <tr>\n",
       "      <th>order_num_total_ever_offline</th>\n",
       "      <td>19945.0</td>\n",
       "      <td>1.886187</td>\n",
       "      <td>1.434694</td>\n",
       "      <td>1.00</td>\n",
       "      <td>1.00</td>\n",
       "      <td>1.00</td>\n",
       "      <td>2.00</td>\n",
       "      <td>16.0</td>\n",
       "    </tr>\n",
       "    <tr>\n",
       "      <th>customer_value_total_ever_offline</th>\n",
       "      <td>19945.0</td>\n",
       "      <td>251.921320</td>\n",
       "      <td>251.023670</td>\n",
       "      <td>10.00</td>\n",
       "      <td>99.99</td>\n",
       "      <td>179.98</td>\n",
       "      <td>319.97</td>\n",
       "      <td>3020.0</td>\n",
       "    </tr>\n",
       "    <tr>\n",
       "      <th>customer_value_total_ever_online</th>\n",
       "      <td>19945.0</td>\n",
       "      <td>489.705676</td>\n",
       "      <td>632.609844</td>\n",
       "      <td>12.99</td>\n",
       "      <td>149.98</td>\n",
       "      <td>286.46</td>\n",
       "      <td>578.44</td>\n",
       "      <td>7800.0</td>\n",
       "    </tr>\n",
       "  </tbody>\n",
       "</table>\n",
       "</div>"
      ],
      "text/plain": [
       "                                     count        mean         std    min  \\\n",
       "order_num_total_ever_online        19945.0    3.091953    3.809541   1.00   \n",
       "order_num_total_ever_offline       19945.0    1.886187    1.434694   1.00   \n",
       "customer_value_total_ever_offline  19945.0  251.921320  251.023670  10.00   \n",
       "customer_value_total_ever_online   19945.0  489.705676  632.609844  12.99   \n",
       "\n",
       "                                      25%     50%     75%     max  \n",
       "order_num_total_ever_online          1.00    2.00    4.00    48.0  \n",
       "order_num_total_ever_offline         1.00    1.00    2.00    16.0  \n",
       "customer_value_total_ever_offline   99.99  179.98  319.97  3020.0  \n",
       "customer_value_total_ever_online   149.98  286.46  578.44  7800.0  "
      ]
     },
     "execution_count": 10,
     "metadata": {},
     "output_type": "execute_result"
    }
   ],
   "source": [
    "df.describe().T"
   ]
  },
  {
   "cell_type": "markdown",
   "metadata": {
    "papermill": {
     "duration": 0.009802,
     "end_time": "2022-10-26T08:38:55.147578",
     "exception": false,
     "start_time": "2022-10-26T08:38:55.137776",
     "status": "completed"
    },
    "tags": []
   },
   "source": [
    "**New variables have been created for the total number of purchases and the money spent by customers who shop on both online and offline platforms.**"
   ]
  },
  {
   "cell_type": "code",
   "execution_count": 11,
   "metadata": {
    "execution": {
     "iopub.execute_input": "2022-10-26T08:38:55.168886Z",
     "iopub.status.busy": "2022-10-26T08:38:55.168486Z",
     "iopub.status.idle": "2022-10-26T08:38:55.191203Z",
     "shell.execute_reply": "2022-10-26T08:38:55.190187Z"
    },
    "papermill": {
     "duration": 0.036281,
     "end_time": "2022-10-26T08:38:55.193579",
     "exception": false,
     "start_time": "2022-10-26T08:38:55.157298",
     "status": "completed"
    },
    "tags": []
   },
   "outputs": [
    {
     "data": {
      "text/html": [
       "<div>\n",
       "<style scoped>\n",
       "    .dataframe tbody tr th:only-of-type {\n",
       "        vertical-align: middle;\n",
       "    }\n",
       "\n",
       "    .dataframe tbody tr th {\n",
       "        vertical-align: top;\n",
       "    }\n",
       "\n",
       "    .dataframe thead th {\n",
       "        text-align: right;\n",
       "    }\n",
       "</style>\n",
       "<table border=\"1\" class=\"dataframe\">\n",
       "  <thead>\n",
       "    <tr style=\"text-align: right;\">\n",
       "      <th></th>\n",
       "      <th>master_id</th>\n",
       "      <th>order_channel</th>\n",
       "      <th>last_order_channel</th>\n",
       "      <th>first_order_date</th>\n",
       "      <th>last_order_date</th>\n",
       "      <th>last_order_date_online</th>\n",
       "      <th>last_order_date_offline</th>\n",
       "      <th>order_num_total_ever_online</th>\n",
       "      <th>order_num_total_ever_offline</th>\n",
       "      <th>customer_value_total_ever_offline</th>\n",
       "      <th>customer_value_total_ever_online</th>\n",
       "      <th>interested_in_categories_12</th>\n",
       "      <th>order_num_total_ever_omnichannel</th>\n",
       "      <th>customer_value_total_ever_omnichannel</th>\n",
       "    </tr>\n",
       "  </thead>\n",
       "  <tbody>\n",
       "    <tr>\n",
       "      <th>0</th>\n",
       "      <td>cc294636-19f0-11eb-8d74-000d3a38a36f</td>\n",
       "      <td>Android App</td>\n",
       "      <td>Offline</td>\n",
       "      <td>2020-10-30</td>\n",
       "      <td>2021-02-26</td>\n",
       "      <td>2021-02-21</td>\n",
       "      <td>2021-02-26</td>\n",
       "      <td>4.0</td>\n",
       "      <td>1.0</td>\n",
       "      <td>139.99</td>\n",
       "      <td>799.38</td>\n",
       "      <td>[KADIN]</td>\n",
       "      <td>5.0</td>\n",
       "      <td>939.37</td>\n",
       "    </tr>\n",
       "    <tr>\n",
       "      <th>1</th>\n",
       "      <td>f431bd5a-ab7b-11e9-a2fc-000d3a38a36f</td>\n",
       "      <td>Android App</td>\n",
       "      <td>Mobile</td>\n",
       "      <td>2017-02-08</td>\n",
       "      <td>2021-02-16</td>\n",
       "      <td>2021-02-16</td>\n",
       "      <td>2020-01-10</td>\n",
       "      <td>19.0</td>\n",
       "      <td>2.0</td>\n",
       "      <td>159.97</td>\n",
       "      <td>1853.58</td>\n",
       "      <td>[ERKEK, COCUK, KADIN, AKTIFSPOR]</td>\n",
       "      <td>21.0</td>\n",
       "      <td>2013.55</td>\n",
       "    </tr>\n",
       "    <tr>\n",
       "      <th>2</th>\n",
       "      <td>69b69676-1a40-11ea-941b-000d3a38a36f</td>\n",
       "      <td>Android App</td>\n",
       "      <td>Android App</td>\n",
       "      <td>2019-11-27</td>\n",
       "      <td>2020-11-27</td>\n",
       "      <td>2020-11-27</td>\n",
       "      <td>2019-12-01</td>\n",
       "      <td>3.0</td>\n",
       "      <td>2.0</td>\n",
       "      <td>189.97</td>\n",
       "      <td>395.35</td>\n",
       "      <td>[ERKEK, KADIN]</td>\n",
       "      <td>5.0</td>\n",
       "      <td>585.32</td>\n",
       "    </tr>\n",
       "    <tr>\n",
       "      <th>3</th>\n",
       "      <td>1854e56c-491f-11eb-806e-000d3a38a36f</td>\n",
       "      <td>Android App</td>\n",
       "      <td>Android App</td>\n",
       "      <td>2021-01-06</td>\n",
       "      <td>2021-01-17</td>\n",
       "      <td>2021-01-17</td>\n",
       "      <td>2021-01-06</td>\n",
       "      <td>1.0</td>\n",
       "      <td>1.0</td>\n",
       "      <td>39.99</td>\n",
       "      <td>81.98</td>\n",
       "      <td>[AKTIFCOCUK, COCUK]</td>\n",
       "      <td>2.0</td>\n",
       "      <td>121.97</td>\n",
       "    </tr>\n",
       "    <tr>\n",
       "      <th>4</th>\n",
       "      <td>d6ea1074-f1f5-11e9-9346-000d3a38a36f</td>\n",
       "      <td>Desktop</td>\n",
       "      <td>Desktop</td>\n",
       "      <td>2019-08-03</td>\n",
       "      <td>2021-03-07</td>\n",
       "      <td>2021-03-07</td>\n",
       "      <td>2019-08-03</td>\n",
       "      <td>1.0</td>\n",
       "      <td>1.0</td>\n",
       "      <td>49.99</td>\n",
       "      <td>159.99</td>\n",
       "      <td>[AKTIFSPOR]</td>\n",
       "      <td>2.0</td>\n",
       "      <td>209.98</td>\n",
       "    </tr>\n",
       "  </tbody>\n",
       "</table>\n",
       "</div>"
      ],
      "text/plain": [
       "                              master_id order_channel last_order_channel  \\\n",
       "0  cc294636-19f0-11eb-8d74-000d3a38a36f   Android App            Offline   \n",
       "1  f431bd5a-ab7b-11e9-a2fc-000d3a38a36f   Android App             Mobile   \n",
       "2  69b69676-1a40-11ea-941b-000d3a38a36f   Android App        Android App   \n",
       "3  1854e56c-491f-11eb-806e-000d3a38a36f   Android App        Android App   \n",
       "4  d6ea1074-f1f5-11e9-9346-000d3a38a36f       Desktop            Desktop   \n",
       "\n",
       "  first_order_date last_order_date last_order_date_online  \\\n",
       "0       2020-10-30      2021-02-26             2021-02-21   \n",
       "1       2017-02-08      2021-02-16             2021-02-16   \n",
       "2       2019-11-27      2020-11-27             2020-11-27   \n",
       "3       2021-01-06      2021-01-17             2021-01-17   \n",
       "4       2019-08-03      2021-03-07             2021-03-07   \n",
       "\n",
       "  last_order_date_offline  order_num_total_ever_online  \\\n",
       "0              2021-02-26                          4.0   \n",
       "1              2020-01-10                         19.0   \n",
       "2              2019-12-01                          3.0   \n",
       "3              2021-01-06                          1.0   \n",
       "4              2019-08-03                          1.0   \n",
       "\n",
       "   order_num_total_ever_offline  customer_value_total_ever_offline  \\\n",
       "0                           1.0                             139.99   \n",
       "1                           2.0                             159.97   \n",
       "2                           2.0                             189.97   \n",
       "3                           1.0                              39.99   \n",
       "4                           1.0                              49.99   \n",
       "\n",
       "   customer_value_total_ever_online       interested_in_categories_12  \\\n",
       "0                            799.38                           [KADIN]   \n",
       "1                           1853.58  [ERKEK, COCUK, KADIN, AKTIFSPOR]   \n",
       "2                            395.35                    [ERKEK, KADIN]   \n",
       "3                             81.98               [AKTIFCOCUK, COCUK]   \n",
       "4                            159.99                       [AKTIFSPOR]   \n",
       "\n",
       "   order_num_total_ever_omnichannel  customer_value_total_ever_omnichannel  \n",
       "0                               5.0                                 939.37  \n",
       "1                              21.0                                2013.55  \n",
       "2                               5.0                                 585.32  \n",
       "3                               2.0                                 121.97  \n",
       "4                               2.0                                 209.98  "
      ]
     },
     "execution_count": 11,
     "metadata": {},
     "output_type": "execute_result"
    }
   ],
   "source": [
    "df[\"order_num_total_ever_omnichannel\"] = df[\"order_num_total_ever_online\"] + df[\"order_num_total_ever_offline\"]\n",
    "\n",
    "df[\"customer_value_total_ever_omnichannel\"] = df[\"customer_value_total_ever_online\"] + df[\"customer_value_total_ever_offline\"]\n",
    "\n",
    "df.head()"
   ]
  },
  {
   "cell_type": "markdown",
   "metadata": {
    "papermill": {
     "duration": 0.010358,
     "end_time": "2022-10-26T08:38:55.214818",
     "exception": false,
     "start_time": "2022-10-26T08:38:55.204460",
     "status": "completed"
    },
    "tags": []
   },
   "source": [
    "**The names of the variables expressing date are converted to date type**"
   ]
  },
  {
   "cell_type": "code",
   "execution_count": 12,
   "metadata": {
    "execution": {
     "iopub.execute_input": "2022-10-26T08:38:55.237710Z",
     "iopub.status.busy": "2022-10-26T08:38:55.236853Z",
     "iopub.status.idle": "2022-10-26T08:38:55.281047Z",
     "shell.execute_reply": "2022-10-26T08:38:55.279833Z"
    },
    "papermill": {
     "duration": 0.058233,
     "end_time": "2022-10-26T08:38:55.283373",
     "exception": false,
     "start_time": "2022-10-26T08:38:55.225140",
     "status": "completed"
    },
    "tags": []
   },
   "outputs": [
    {
     "name": "stdout",
     "output_type": "stream",
     "text": [
      "<class 'pandas.core.frame.DataFrame'>\n",
      "RangeIndex: 19945 entries, 0 to 19944\n",
      "Data columns (total 14 columns):\n",
      " #   Column                                 Non-Null Count  Dtype         \n",
      "---  ------                                 --------------  -----         \n",
      " 0   master_id                              19945 non-null  object        \n",
      " 1   order_channel                          19945 non-null  object        \n",
      " 2   last_order_channel                     19945 non-null  object        \n",
      " 3   first_order_date                       19945 non-null  datetime64[ns]\n",
      " 4   last_order_date                        19945 non-null  datetime64[ns]\n",
      " 5   last_order_date_online                 19945 non-null  datetime64[ns]\n",
      " 6   last_order_date_offline                19945 non-null  datetime64[ns]\n",
      " 7   order_num_total_ever_online            19945 non-null  float64       \n",
      " 8   order_num_total_ever_offline           19945 non-null  float64       \n",
      " 9   customer_value_total_ever_offline      19945 non-null  float64       \n",
      " 10  customer_value_total_ever_online       19945 non-null  float64       \n",
      " 11  interested_in_categories_12            19945 non-null  object        \n",
      " 12  order_num_total_ever_omnichannel       19945 non-null  float64       \n",
      " 13  customer_value_total_ever_omnichannel  19945 non-null  float64       \n",
      "dtypes: datetime64[ns](4), float64(6), object(4)\n",
      "memory usage: 2.1+ MB\n"
     ]
    }
   ],
   "source": [
    "date_col_list = [i for i in df.columns if \"date\" in i]\n",
    "\n",
    "df[date_col_list] = df[date_col_list].apply(pd.to_datetime)\n",
    "\n",
    "df.info()"
   ]
  },
  {
   "cell_type": "markdown",
   "metadata": {
    "papermill": {
     "duration": 0.010005,
     "end_time": "2022-10-26T08:38:55.303690",
     "exception": false,
     "start_time": "2022-10-26T08:38:55.293685",
     "status": "completed"
    },
    "tags": []
   },
   "source": [
    "**The analysis date required to calculate the recency value is set to be 2 days after the maximum date.**"
   ]
  },
  {
   "cell_type": "code",
   "execution_count": 13,
   "metadata": {
    "execution": {
     "iopub.execute_input": "2022-10-26T08:38:55.326244Z",
     "iopub.status.busy": "2022-10-26T08:38:55.325429Z",
     "iopub.status.idle": "2022-10-26T08:38:55.330833Z",
     "shell.execute_reply": "2022-10-26T08:38:55.330001Z"
    },
    "papermill": {
     "duration": 0.018826,
     "end_time": "2022-10-26T08:38:55.332831",
     "exception": false,
     "start_time": "2022-10-26T08:38:55.314005",
     "status": "completed"
    },
    "tags": []
   },
   "outputs": [],
   "source": [
    "df[\"last_order_date\"].max()\n",
    "today_date = dt.datetime(2021,6,1)"
   ]
  },
  {
   "cell_type": "markdown",
   "metadata": {
    "papermill": {
     "duration": 0.01056,
     "end_time": "2022-10-26T08:38:55.353279",
     "exception": false,
     "start_time": "2022-10-26T08:38:55.342719",
     "status": "completed"
    },
    "tags": []
   },
   "source": [
    "**A new cltv dataframe has been created with the values of customer_id, recency_cltv_weekly, T_weekly, frequency and monetary_cltv_avg.**\n",
    "* **Recency :** Time since last purchase.\n",
    "* **T :** Customer age. Equal to how long before the analysis date the first purchase was made.\n",
    "* **Frequency :** Total repeat purchases\n",
    "* **Monetary :** Average earnings per purchase"
   ]
  },
  {
   "cell_type": "code",
   "execution_count": 14,
   "metadata": {
    "execution": {
     "iopub.execute_input": "2022-10-26T08:38:55.376363Z",
     "iopub.status.busy": "2022-10-26T08:38:55.375664Z",
     "iopub.status.idle": "2022-10-26T08:38:55.386192Z",
     "shell.execute_reply": "2022-10-26T08:38:55.385367Z"
    },
    "papermill": {
     "duration": 0.024573,
     "end_time": "2022-10-26T08:38:55.388394",
     "exception": false,
     "start_time": "2022-10-26T08:38:55.363821",
     "status": "completed"
    },
    "tags": []
   },
   "outputs": [],
   "source": [
    "cltv_df = pd.DataFrame({\"customer_id\": df[\"master_id\"],\n",
    "                        \"recency_cltv_weekly\": ((df[\"last_order_date\"] - df[\"first_order_date\"]).dt.days)/7,\n",
    "                        \"T_weekly\": ((today_date-df[\"first_order_date\"]).dt.days)/7,\n",
    "                        \"frequency\": df[\"order_num_total_ever_omnichannel\"],\n",
    "                        \"monetary_cltv_avg\": df[\"customer_value_total_ever_omnichannel\"]/df[\"order_num_total_ever_omnichannel\"]})"
   ]
  },
  {
   "cell_type": "code",
   "execution_count": 15,
   "metadata": {
    "execution": {
     "iopub.execute_input": "2022-10-26T08:38:55.412443Z",
     "iopub.status.busy": "2022-10-26T08:38:55.412101Z",
     "iopub.status.idle": "2022-10-26T08:38:55.424242Z",
     "shell.execute_reply": "2022-10-26T08:38:55.423263Z"
    },
    "papermill": {
     "duration": 0.025921,
     "end_time": "2022-10-26T08:38:55.426229",
     "exception": false,
     "start_time": "2022-10-26T08:38:55.400308",
     "status": "completed"
    },
    "tags": []
   },
   "outputs": [
    {
     "data": {
      "text/html": [
       "<div>\n",
       "<style scoped>\n",
       "    .dataframe tbody tr th:only-of-type {\n",
       "        vertical-align: middle;\n",
       "    }\n",
       "\n",
       "    .dataframe tbody tr th {\n",
       "        vertical-align: top;\n",
       "    }\n",
       "\n",
       "    .dataframe thead th {\n",
       "        text-align: right;\n",
       "    }\n",
       "</style>\n",
       "<table border=\"1\" class=\"dataframe\">\n",
       "  <thead>\n",
       "    <tr style=\"text-align: right;\">\n",
       "      <th></th>\n",
       "      <th>customer_id</th>\n",
       "      <th>recency_cltv_weekly</th>\n",
       "      <th>T_weekly</th>\n",
       "      <th>frequency</th>\n",
       "      <th>monetary_cltv_avg</th>\n",
       "    </tr>\n",
       "  </thead>\n",
       "  <tbody>\n",
       "    <tr>\n",
       "      <th>0</th>\n",
       "      <td>cc294636-19f0-11eb-8d74-000d3a38a36f</td>\n",
       "      <td>17.000000</td>\n",
       "      <td>30.571429</td>\n",
       "      <td>5.0</td>\n",
       "      <td>187.874000</td>\n",
       "    </tr>\n",
       "    <tr>\n",
       "      <th>1</th>\n",
       "      <td>f431bd5a-ab7b-11e9-a2fc-000d3a38a36f</td>\n",
       "      <td>209.857143</td>\n",
       "      <td>224.857143</td>\n",
       "      <td>21.0</td>\n",
       "      <td>95.883333</td>\n",
       "    </tr>\n",
       "    <tr>\n",
       "      <th>2</th>\n",
       "      <td>69b69676-1a40-11ea-941b-000d3a38a36f</td>\n",
       "      <td>52.285714</td>\n",
       "      <td>78.857143</td>\n",
       "      <td>5.0</td>\n",
       "      <td>117.064000</td>\n",
       "    </tr>\n",
       "    <tr>\n",
       "      <th>3</th>\n",
       "      <td>1854e56c-491f-11eb-806e-000d3a38a36f</td>\n",
       "      <td>1.571429</td>\n",
       "      <td>20.857143</td>\n",
       "      <td>2.0</td>\n",
       "      <td>60.985000</td>\n",
       "    </tr>\n",
       "    <tr>\n",
       "      <th>4</th>\n",
       "      <td>d6ea1074-f1f5-11e9-9346-000d3a38a36f</td>\n",
       "      <td>83.142857</td>\n",
       "      <td>95.428571</td>\n",
       "      <td>2.0</td>\n",
       "      <td>104.990000</td>\n",
       "    </tr>\n",
       "  </tbody>\n",
       "</table>\n",
       "</div>"
      ],
      "text/plain": [
       "                            customer_id  recency_cltv_weekly    T_weekly  \\\n",
       "0  cc294636-19f0-11eb-8d74-000d3a38a36f            17.000000   30.571429   \n",
       "1  f431bd5a-ab7b-11e9-a2fc-000d3a38a36f           209.857143  224.857143   \n",
       "2  69b69676-1a40-11ea-941b-000d3a38a36f            52.285714   78.857143   \n",
       "3  1854e56c-491f-11eb-806e-000d3a38a36f             1.571429   20.857143   \n",
       "4  d6ea1074-f1f5-11e9-9346-000d3a38a36f            83.142857   95.428571   \n",
       "\n",
       "   frequency  monetary_cltv_avg  \n",
       "0        5.0         187.874000  \n",
       "1       21.0          95.883333  \n",
       "2        5.0         117.064000  \n",
       "3        2.0          60.985000  \n",
       "4        2.0         104.990000  "
      ]
     },
     "execution_count": 15,
     "metadata": {},
     "output_type": "execute_result"
    }
   ],
   "source": [
    "cltv_df.head()"
   ]
  },
  {
   "cell_type": "markdown",
   "metadata": {
    "papermill": {
     "duration": 0.010469,
     "end_time": "2022-10-26T08:38:55.447288",
     "exception": false,
     "start_time": "2022-10-26T08:38:55.436819",
     "status": "completed"
    },
    "tags": []
   },
   "source": [
    "**BG-NBD model has been fit.**"
   ]
  },
  {
   "cell_type": "code",
   "execution_count": 16,
   "metadata": {
    "execution": {
     "iopub.execute_input": "2022-10-26T08:38:55.469938Z",
     "iopub.status.busy": "2022-10-26T08:38:55.469555Z",
     "iopub.status.idle": "2022-10-26T08:38:56.077039Z",
     "shell.execute_reply": "2022-10-26T08:38:56.075655Z"
    },
    "papermill": {
     "duration": 0.623585,
     "end_time": "2022-10-26T08:38:56.081395",
     "exception": false,
     "start_time": "2022-10-26T08:38:55.457810",
     "status": "completed"
    },
    "tags": []
   },
   "outputs": [
    {
     "data": {
      "text/plain": [
       "<lifetimes.BetaGeoFitter: fitted with 19945 subjects, a: 0.00, alpha: 76.17, b: 0.00, r: 3.66>"
      ]
     },
     "execution_count": 16,
     "metadata": {},
     "output_type": "execute_result"
    }
   ],
   "source": [
    "bgf = BetaGeoFitter(penalizer_coef=0.001)\n",
    "\n",
    "bgf.fit(cltv_df['frequency'],\n",
    "        cltv_df['recency_cltv_weekly'],\n",
    "        cltv_df['T_weekly'])"
   ]
  },
  {
   "cell_type": "markdown",
   "metadata": {
    "papermill": {
     "duration": 0.028345,
     "end_time": "2022-10-26T08:38:56.137963",
     "exception": false,
     "start_time": "2022-10-26T08:38:56.109618",
     "status": "completed"
    },
    "tags": []
   },
   "source": [
    "**Expected purchases from customers in 3 months and 6 months were predicted and added to the dataframe.**"
   ]
  },
  {
   "cell_type": "code",
   "execution_count": 17,
   "metadata": {
    "execution": {
     "iopub.execute_input": "2022-10-26T08:38:56.192188Z",
     "iopub.status.busy": "2022-10-26T08:38:56.191755Z",
     "iopub.status.idle": "2022-10-26T08:38:56.226796Z",
     "shell.execute_reply": "2022-10-26T08:38:56.225997Z"
    },
    "papermill": {
     "duration": 0.062305,
     "end_time": "2022-10-26T08:38:56.229172",
     "exception": false,
     "start_time": "2022-10-26T08:38:56.166867",
     "status": "completed"
    },
    "tags": []
   },
   "outputs": [],
   "source": [
    "cltv_df[\"exp_sales_3_month\"] = bgf.predict(12,\n",
    "                                        cltv_df['frequency'],\n",
    "                                        cltv_df['recency_cltv_weekly'],\n",
    "                                        cltv_df['T_weekly'])\n",
    "\n",
    "cltv_df[\"exp_sales_6_month\"] = bgf.predict(24,\n",
    "                                        cltv_df['frequency'],\n",
    "                                        cltv_df['recency_cltv_weekly'],\n",
    "                                        cltv_df['T_weekly'])"
   ]
  },
  {
   "cell_type": "code",
   "execution_count": 18,
   "metadata": {
    "execution": {
     "iopub.execute_input": "2022-10-26T08:38:56.253880Z",
     "iopub.status.busy": "2022-10-26T08:38:56.253283Z",
     "iopub.status.idle": "2022-10-26T08:38:56.267462Z",
     "shell.execute_reply": "2022-10-26T08:38:56.266445Z"
    },
    "papermill": {
     "duration": 0.029051,
     "end_time": "2022-10-26T08:38:56.269466",
     "exception": false,
     "start_time": "2022-10-26T08:38:56.240415",
     "status": "completed"
    },
    "tags": []
   },
   "outputs": [
    {
     "data": {
      "text/html": [
       "<div>\n",
       "<style scoped>\n",
       "    .dataframe tbody tr th:only-of-type {\n",
       "        vertical-align: middle;\n",
       "    }\n",
       "\n",
       "    .dataframe tbody tr th {\n",
       "        vertical-align: top;\n",
       "    }\n",
       "\n",
       "    .dataframe thead th {\n",
       "        text-align: right;\n",
       "    }\n",
       "</style>\n",
       "<table border=\"1\" class=\"dataframe\">\n",
       "  <thead>\n",
       "    <tr style=\"text-align: right;\">\n",
       "      <th></th>\n",
       "      <th>customer_id</th>\n",
       "      <th>recency_cltv_weekly</th>\n",
       "      <th>T_weekly</th>\n",
       "      <th>frequency</th>\n",
       "      <th>monetary_cltv_avg</th>\n",
       "      <th>exp_sales_3_month</th>\n",
       "      <th>exp_sales_6_month</th>\n",
       "    </tr>\n",
       "  </thead>\n",
       "  <tbody>\n",
       "    <tr>\n",
       "      <th>0</th>\n",
       "      <td>cc294636-19f0-11eb-8d74-000d3a38a36f</td>\n",
       "      <td>17.000000</td>\n",
       "      <td>30.571429</td>\n",
       "      <td>5.0</td>\n",
       "      <td>187.874000</td>\n",
       "      <td>0.973927</td>\n",
       "      <td>1.947853</td>\n",
       "    </tr>\n",
       "    <tr>\n",
       "      <th>1</th>\n",
       "      <td>f431bd5a-ab7b-11e9-a2fc-000d3a38a36f</td>\n",
       "      <td>209.857143</td>\n",
       "      <td>224.857143</td>\n",
       "      <td>21.0</td>\n",
       "      <td>95.883333</td>\n",
       "      <td>0.983161</td>\n",
       "      <td>1.966323</td>\n",
       "    </tr>\n",
       "    <tr>\n",
       "      <th>2</th>\n",
       "      <td>69b69676-1a40-11ea-941b-000d3a38a36f</td>\n",
       "      <td>52.285714</td>\n",
       "      <td>78.857143</td>\n",
       "      <td>5.0</td>\n",
       "      <td>117.064000</td>\n",
       "      <td>0.670586</td>\n",
       "      <td>1.341172</td>\n",
       "    </tr>\n",
       "    <tr>\n",
       "      <th>3</th>\n",
       "      <td>1854e56c-491f-11eb-806e-000d3a38a36f</td>\n",
       "      <td>1.571429</td>\n",
       "      <td>20.857143</td>\n",
       "      <td>2.0</td>\n",
       "      <td>60.985000</td>\n",
       "      <td>0.700412</td>\n",
       "      <td>1.400824</td>\n",
       "    </tr>\n",
       "    <tr>\n",
       "      <th>4</th>\n",
       "      <td>d6ea1074-f1f5-11e9-9346-000d3a38a36f</td>\n",
       "      <td>83.142857</td>\n",
       "      <td>95.428571</td>\n",
       "      <td>2.0</td>\n",
       "      <td>104.990000</td>\n",
       "      <td>0.396039</td>\n",
       "      <td>0.792077</td>\n",
       "    </tr>\n",
       "  </tbody>\n",
       "</table>\n",
       "</div>"
      ],
      "text/plain": [
       "                            customer_id  recency_cltv_weekly    T_weekly  \\\n",
       "0  cc294636-19f0-11eb-8d74-000d3a38a36f            17.000000   30.571429   \n",
       "1  f431bd5a-ab7b-11e9-a2fc-000d3a38a36f           209.857143  224.857143   \n",
       "2  69b69676-1a40-11ea-941b-000d3a38a36f            52.285714   78.857143   \n",
       "3  1854e56c-491f-11eb-806e-000d3a38a36f             1.571429   20.857143   \n",
       "4  d6ea1074-f1f5-11e9-9346-000d3a38a36f            83.142857   95.428571   \n",
       "\n",
       "   frequency  monetary_cltv_avg  exp_sales_3_month  exp_sales_6_month  \n",
       "0        5.0         187.874000           0.973927           1.947853  \n",
       "1       21.0          95.883333           0.983161           1.966323  \n",
       "2        5.0         117.064000           0.670586           1.341172  \n",
       "3        2.0          60.985000           0.700412           1.400824  \n",
       "4        2.0         104.990000           0.396039           0.792077  "
      ]
     },
     "execution_count": 18,
     "metadata": {},
     "output_type": "execute_result"
    }
   ],
   "source": [
    "cltv_df.head()"
   ]
  },
  {
   "cell_type": "code",
   "execution_count": 19,
   "metadata": {
    "execution": {
     "iopub.execute_input": "2022-10-26T08:38:56.294588Z",
     "iopub.status.busy": "2022-10-26T08:38:56.293890Z",
     "iopub.status.idle": "2022-10-26T08:38:56.303921Z",
     "shell.execute_reply": "2022-10-26T08:38:56.302981Z"
    },
    "papermill": {
     "duration": 0.024992,
     "end_time": "2022-10-26T08:38:56.306059",
     "exception": false,
     "start_time": "2022-10-26T08:38:56.281067",
     "status": "completed"
    },
    "tags": []
   },
   "outputs": [
    {
     "data": {
      "text/plain": [
       "7330     4.656138\n",
       "15611    3.373958\n",
       "8328     3.142396\n",
       "19538    3.083779\n",
       "14373    3.001287\n",
       "Name: exp_sales_3_month, dtype: float64"
      ]
     },
     "execution_count": 19,
     "metadata": {},
     "output_type": "execute_result"
    }
   ],
   "source": [
    "cltv_df[\"exp_sales_3_month\"].sort_values(ascending = False).head()"
   ]
  },
  {
   "cell_type": "code",
   "execution_count": 20,
   "metadata": {
    "execution": {
     "iopub.execute_input": "2022-10-26T08:38:56.330858Z",
     "iopub.status.busy": "2022-10-26T08:38:56.330458Z",
     "iopub.status.idle": "2022-10-26T08:38:56.340755Z",
     "shell.execute_reply": "2022-10-26T08:38:56.340011Z"
    },
    "papermill": {
     "duration": 0.024832,
     "end_time": "2022-10-26T08:38:56.342582",
     "exception": false,
     "start_time": "2022-10-26T08:38:56.317750",
     "status": "completed"
    },
    "tags": []
   },
   "outputs": [
    {
     "data": {
      "text/plain": [
       "7330     9.312276\n",
       "15611    6.747915\n",
       "8328     6.284792\n",
       "19538    6.167558\n",
       "14373    6.002574\n",
       "Name: exp_sales_6_month, dtype: float64"
      ]
     },
     "execution_count": 20,
     "metadata": {},
     "output_type": "execute_result"
    }
   ],
   "source": [
    "cltv_df[\"exp_sales_6_month\"].sort_values(ascending = False).head()"
   ]
  },
  {
   "cell_type": "markdown",
   "metadata": {
    "papermill": {
     "duration": 0.011411,
     "end_time": "2022-10-26T08:38:56.365363",
     "exception": false,
     "start_time": "2022-10-26T08:38:56.353952",
     "status": "completed"
    },
    "tags": []
   },
   "source": [
    "**The total amount of expected purchase from customers in 3 months and 6 months was predicted.**"
   ]
  },
  {
   "cell_type": "code",
   "execution_count": 21,
   "metadata": {
    "execution": {
     "iopub.execute_input": "2022-10-26T08:38:56.390063Z",
     "iopub.status.busy": "2022-10-26T08:38:56.389242Z",
     "iopub.status.idle": "2022-10-26T08:38:56.396041Z",
     "shell.execute_reply": "2022-10-26T08:38:56.395028Z"
    },
    "papermill": {
     "duration": 0.021571,
     "end_time": "2022-10-26T08:38:56.398307",
     "exception": false,
     "start_time": "2022-10-26T08:38:56.376736",
     "status": "completed"
    },
    "tags": []
   },
   "outputs": [
    {
     "data": {
      "text/plain": [
       "11510.471213976543"
      ]
     },
     "execution_count": 21,
     "metadata": {},
     "output_type": "execute_result"
    }
   ],
   "source": [
    "cltv_df[\"exp_sales_3_month\"].sum()"
   ]
  },
  {
   "cell_type": "code",
   "execution_count": 22,
   "metadata": {
    "execution": {
     "iopub.execute_input": "2022-10-26T08:38:56.422843Z",
     "iopub.status.busy": "2022-10-26T08:38:56.422462Z",
     "iopub.status.idle": "2022-10-26T08:38:56.429818Z",
     "shell.execute_reply": "2022-10-26T08:38:56.428779Z"
    },
    "papermill": {
     "duration": 0.021592,
     "end_time": "2022-10-26T08:38:56.431799",
     "exception": false,
     "start_time": "2022-10-26T08:38:56.410207",
     "status": "completed"
    },
    "tags": []
   },
   "outputs": [
    {
     "data": {
      "text/plain": [
       "23020.942427953083"
      ]
     },
     "execution_count": 22,
     "metadata": {},
     "output_type": "execute_result"
    }
   ],
   "source": [
    "cltv_df[\"exp_sales_6_month\"].sum()"
   ]
  },
  {
   "cell_type": "markdown",
   "metadata": {
    "papermill": {
     "duration": 0.011393,
     "end_time": "2022-10-26T08:38:56.455136",
     "exception": false,
     "start_time": "2022-10-26T08:38:56.443743",
     "status": "completed"
    },
    "tags": []
   },
   "source": [
    "**Gamma-Gamma Model has been fit**"
   ]
  },
  {
   "cell_type": "code",
   "execution_count": 23,
   "metadata": {
    "execution": {
     "iopub.execute_input": "2022-10-26T08:38:56.480186Z",
     "iopub.status.busy": "2022-10-26T08:38:56.479078Z",
     "iopub.status.idle": "2022-10-26T08:38:56.622701Z",
     "shell.execute_reply": "2022-10-26T08:38:56.621224Z"
    },
    "papermill": {
     "duration": 0.160174,
     "end_time": "2022-10-26T08:38:56.626666",
     "exception": false,
     "start_time": "2022-10-26T08:38:56.466492",
     "status": "completed"
    },
    "tags": []
   },
   "outputs": [
    {
     "data": {
      "text/plain": [
       "<lifetimes.GammaGammaFitter: fitted with 19945 subjects, p: 4.15, q: 0.47, v: 4.08>"
      ]
     },
     "execution_count": 23,
     "metadata": {},
     "output_type": "execute_result"
    }
   ],
   "source": [
    "ggf = GammaGammaFitter(penalizer_coef = 0.01)\n",
    "\n",
    "ggf.fit(cltv_df[\"frequency\"], cltv_df[\"monetary_cltv_avg\"])"
   ]
  },
  {
   "cell_type": "markdown",
   "metadata": {
    "papermill": {
     "duration": 0.02799,
     "end_time": "2022-10-26T08:38:56.684775",
     "exception": false,
     "start_time": "2022-10-26T08:38:56.656785",
     "status": "completed"
    },
    "tags": []
   },
   "source": [
    "**The average profit generated by customers has been predicted. Then it is added to the dataframe.**"
   ]
  },
  {
   "cell_type": "code",
   "execution_count": 24,
   "metadata": {
    "execution": {
     "iopub.execute_input": "2022-10-26T08:38:56.740701Z",
     "iopub.status.busy": "2022-10-26T08:38:56.740050Z",
     "iopub.status.idle": "2022-10-26T08:38:56.746769Z",
     "shell.execute_reply": "2022-10-26T08:38:56.746021Z"
    },
    "papermill": {
     "duration": 0.035192,
     "end_time": "2022-10-26T08:38:56.748797",
     "exception": false,
     "start_time": "2022-10-26T08:38:56.713605",
     "status": "completed"
    },
    "tags": []
   },
   "outputs": [],
   "source": [
    "cltv_df[\"exp_average_value\"] = ggf.conditional_expected_average_profit(cltv_df[\"frequency\"],\n",
    "                                                                       cltv_df[\"monetary_cltv_avg\"])"
   ]
  },
  {
   "cell_type": "code",
   "execution_count": 25,
   "metadata": {
    "execution": {
     "iopub.execute_input": "2022-10-26T08:38:56.773440Z",
     "iopub.status.busy": "2022-10-26T08:38:56.772794Z",
     "iopub.status.idle": "2022-10-26T08:38:56.787335Z",
     "shell.execute_reply": "2022-10-26T08:38:56.786045Z"
    },
    "papermill": {
     "duration": 0.029066,
     "end_time": "2022-10-26T08:38:56.789597",
     "exception": false,
     "start_time": "2022-10-26T08:38:56.760531",
     "status": "completed"
    },
    "tags": []
   },
   "outputs": [
    {
     "data": {
      "text/html": [
       "<div>\n",
       "<style scoped>\n",
       "    .dataframe tbody tr th:only-of-type {\n",
       "        vertical-align: middle;\n",
       "    }\n",
       "\n",
       "    .dataframe tbody tr th {\n",
       "        vertical-align: top;\n",
       "    }\n",
       "\n",
       "    .dataframe thead th {\n",
       "        text-align: right;\n",
       "    }\n",
       "</style>\n",
       "<table border=\"1\" class=\"dataframe\">\n",
       "  <thead>\n",
       "    <tr style=\"text-align: right;\">\n",
       "      <th></th>\n",
       "      <th>customer_id</th>\n",
       "      <th>recency_cltv_weekly</th>\n",
       "      <th>T_weekly</th>\n",
       "      <th>frequency</th>\n",
       "      <th>monetary_cltv_avg</th>\n",
       "      <th>exp_sales_3_month</th>\n",
       "      <th>exp_sales_6_month</th>\n",
       "      <th>exp_average_value</th>\n",
       "    </tr>\n",
       "  </thead>\n",
       "  <tbody>\n",
       "    <tr>\n",
       "      <th>0</th>\n",
       "      <td>cc294636-19f0-11eb-8d74-000d3a38a36f</td>\n",
       "      <td>17.000000</td>\n",
       "      <td>30.571429</td>\n",
       "      <td>5.0</td>\n",
       "      <td>187.874000</td>\n",
       "      <td>0.973927</td>\n",
       "      <td>1.947853</td>\n",
       "      <td>193.632679</td>\n",
       "    </tr>\n",
       "    <tr>\n",
       "      <th>1</th>\n",
       "      <td>f431bd5a-ab7b-11e9-a2fc-000d3a38a36f</td>\n",
       "      <td>209.857143</td>\n",
       "      <td>224.857143</td>\n",
       "      <td>21.0</td>\n",
       "      <td>95.883333</td>\n",
       "      <td>0.983161</td>\n",
       "      <td>1.966323</td>\n",
       "      <td>96.665048</td>\n",
       "    </tr>\n",
       "    <tr>\n",
       "      <th>2</th>\n",
       "      <td>69b69676-1a40-11ea-941b-000d3a38a36f</td>\n",
       "      <td>52.285714</td>\n",
       "      <td>78.857143</td>\n",
       "      <td>5.0</td>\n",
       "      <td>117.064000</td>\n",
       "      <td>0.670586</td>\n",
       "      <td>1.341172</td>\n",
       "      <td>120.967619</td>\n",
       "    </tr>\n",
       "    <tr>\n",
       "      <th>3</th>\n",
       "      <td>1854e56c-491f-11eb-806e-000d3a38a36f</td>\n",
       "      <td>1.571429</td>\n",
       "      <td>20.857143</td>\n",
       "      <td>2.0</td>\n",
       "      <td>60.985000</td>\n",
       "      <td>0.700412</td>\n",
       "      <td>1.400824</td>\n",
       "      <td>67.320145</td>\n",
       "    </tr>\n",
       "    <tr>\n",
       "      <th>4</th>\n",
       "      <td>d6ea1074-f1f5-11e9-9346-000d3a38a36f</td>\n",
       "      <td>83.142857</td>\n",
       "      <td>95.428571</td>\n",
       "      <td>2.0</td>\n",
       "      <td>104.990000</td>\n",
       "      <td>0.396039</td>\n",
       "      <td>0.792077</td>\n",
       "      <td>114.325108</td>\n",
       "    </tr>\n",
       "  </tbody>\n",
       "</table>\n",
       "</div>"
      ],
      "text/plain": [
       "                            customer_id  recency_cltv_weekly    T_weekly  \\\n",
       "0  cc294636-19f0-11eb-8d74-000d3a38a36f            17.000000   30.571429   \n",
       "1  f431bd5a-ab7b-11e9-a2fc-000d3a38a36f           209.857143  224.857143   \n",
       "2  69b69676-1a40-11ea-941b-000d3a38a36f            52.285714   78.857143   \n",
       "3  1854e56c-491f-11eb-806e-000d3a38a36f             1.571429   20.857143   \n",
       "4  d6ea1074-f1f5-11e9-9346-000d3a38a36f            83.142857   95.428571   \n",
       "\n",
       "   frequency  monetary_cltv_avg  exp_sales_3_month  exp_sales_6_month  \\\n",
       "0        5.0         187.874000           0.973927           1.947853   \n",
       "1       21.0          95.883333           0.983161           1.966323   \n",
       "2        5.0         117.064000           0.670586           1.341172   \n",
       "3        2.0          60.985000           0.700412           1.400824   \n",
       "4        2.0         104.990000           0.396039           0.792077   \n",
       "\n",
       "   exp_average_value  \n",
       "0         193.632679  \n",
       "1          96.665048  \n",
       "2         120.967619  \n",
       "3          67.320145  \n",
       "4         114.325108  "
      ]
     },
     "execution_count": 25,
     "metadata": {},
     "output_type": "execute_result"
    }
   ],
   "source": [
    "cltv_df.head()"
   ]
  },
  {
   "cell_type": "markdown",
   "metadata": {
    "papermill": {
     "duration": 0.011326,
     "end_time": "2022-10-26T08:38:56.812064",
     "exception": false,
     "start_time": "2022-10-26T08:38:56.800738",
     "status": "completed"
    },
    "tags": []
   },
   "source": [
    "**The 6-month cltv value was calculated. Then it is added to the dataframe. The time parameter is calculated monthly. The freq parameter changes according to the period of T.**"
   ]
  },
  {
   "cell_type": "code",
   "execution_count": 26,
   "metadata": {
    "execution": {
     "iopub.execute_input": "2022-10-26T08:38:56.836486Z",
     "iopub.status.busy": "2022-10-26T08:38:56.836092Z",
     "iopub.status.idle": "2022-10-26T08:38:57.001178Z",
     "shell.execute_reply": "2022-10-26T08:38:57.000222Z"
    },
    "papermill": {
     "duration": 0.17988,
     "end_time": "2022-10-26T08:38:57.003193",
     "exception": false,
     "start_time": "2022-10-26T08:38:56.823313",
     "status": "completed"
    },
    "tags": []
   },
   "outputs": [
    {
     "data": {
      "text/html": [
       "<div>\n",
       "<style scoped>\n",
       "    .dataframe tbody tr th:only-of-type {\n",
       "        vertical-align: middle;\n",
       "    }\n",
       "\n",
       "    .dataframe tbody tr th {\n",
       "        vertical-align: top;\n",
       "    }\n",
       "\n",
       "    .dataframe thead th {\n",
       "        text-align: right;\n",
       "    }\n",
       "</style>\n",
       "<table border=\"1\" class=\"dataframe\">\n",
       "  <thead>\n",
       "    <tr style=\"text-align: right;\">\n",
       "      <th></th>\n",
       "      <th>customer_id</th>\n",
       "      <th>recency_cltv_weekly</th>\n",
       "      <th>T_weekly</th>\n",
       "      <th>frequency</th>\n",
       "      <th>monetary_cltv_avg</th>\n",
       "      <th>exp_sales_3_month</th>\n",
       "      <th>exp_sales_6_month</th>\n",
       "      <th>exp_average_value</th>\n",
       "      <th>cltv_6_months</th>\n",
       "    </tr>\n",
       "  </thead>\n",
       "  <tbody>\n",
       "    <tr>\n",
       "      <th>0</th>\n",
       "      <td>cc294636-19f0-11eb-8d74-000d3a38a36f</td>\n",
       "      <td>17.000000</td>\n",
       "      <td>30.571429</td>\n",
       "      <td>5.0</td>\n",
       "      <td>187.874000</td>\n",
       "      <td>0.973927</td>\n",
       "      <td>1.947853</td>\n",
       "      <td>193.632679</td>\n",
       "      <td>395.733234</td>\n",
       "    </tr>\n",
       "    <tr>\n",
       "      <th>1</th>\n",
       "      <td>f431bd5a-ab7b-11e9-a2fc-000d3a38a36f</td>\n",
       "      <td>209.857143</td>\n",
       "      <td>224.857143</td>\n",
       "      <td>21.0</td>\n",
       "      <td>95.883333</td>\n",
       "      <td>0.983161</td>\n",
       "      <td>1.966323</td>\n",
       "      <td>96.665048</td>\n",
       "      <td>199.430693</td>\n",
       "    </tr>\n",
       "    <tr>\n",
       "      <th>2</th>\n",
       "      <td>69b69676-1a40-11ea-941b-000d3a38a36f</td>\n",
       "      <td>52.285714</td>\n",
       "      <td>78.857143</td>\n",
       "      <td>5.0</td>\n",
       "      <td>117.064000</td>\n",
       "      <td>0.670586</td>\n",
       "      <td>1.341172</td>\n",
       "      <td>120.967619</td>\n",
       "      <td>170.224184</td>\n",
       "    </tr>\n",
       "    <tr>\n",
       "      <th>3</th>\n",
       "      <td>1854e56c-491f-11eb-806e-000d3a38a36f</td>\n",
       "      <td>1.571429</td>\n",
       "      <td>20.857143</td>\n",
       "      <td>2.0</td>\n",
       "      <td>60.985000</td>\n",
       "      <td>0.700412</td>\n",
       "      <td>1.400824</td>\n",
       "      <td>67.320145</td>\n",
       "      <td>98.945526</td>\n",
       "    </tr>\n",
       "    <tr>\n",
       "      <th>4</th>\n",
       "      <td>d6ea1074-f1f5-11e9-9346-000d3a38a36f</td>\n",
       "      <td>83.142857</td>\n",
       "      <td>95.428571</td>\n",
       "      <td>2.0</td>\n",
       "      <td>104.990000</td>\n",
       "      <td>0.396039</td>\n",
       "      <td>0.792077</td>\n",
       "      <td>114.325108</td>\n",
       "      <td>95.011659</td>\n",
       "    </tr>\n",
       "  </tbody>\n",
       "</table>\n",
       "</div>"
      ],
      "text/plain": [
       "                            customer_id  recency_cltv_weekly    T_weekly  \\\n",
       "0  cc294636-19f0-11eb-8d74-000d3a38a36f            17.000000   30.571429   \n",
       "1  f431bd5a-ab7b-11e9-a2fc-000d3a38a36f           209.857143  224.857143   \n",
       "2  69b69676-1a40-11ea-941b-000d3a38a36f            52.285714   78.857143   \n",
       "3  1854e56c-491f-11eb-806e-000d3a38a36f             1.571429   20.857143   \n",
       "4  d6ea1074-f1f5-11e9-9346-000d3a38a36f            83.142857   95.428571   \n",
       "\n",
       "   frequency  monetary_cltv_avg  exp_sales_3_month  exp_sales_6_month  \\\n",
       "0        5.0         187.874000           0.973927           1.947853   \n",
       "1       21.0          95.883333           0.983161           1.966323   \n",
       "2        5.0         117.064000           0.670586           1.341172   \n",
       "3        2.0          60.985000           0.700412           1.400824   \n",
       "4        2.0         104.990000           0.396039           0.792077   \n",
       "\n",
       "   exp_average_value  cltv_6_months  \n",
       "0         193.632679     395.733234  \n",
       "1          96.665048     199.430693  \n",
       "2         120.967619     170.224184  \n",
       "3          67.320145      98.945526  \n",
       "4         114.325108      95.011659  "
      ]
     },
     "execution_count": 26,
     "metadata": {},
     "output_type": "execute_result"
    }
   ],
   "source": [
    "cltv = ggf.customer_lifetime_value(bgf,\n",
    "                                   cltv_df[\"frequency\"],\n",
    "                                   cltv_df[\"recency_cltv_weekly\"],\n",
    "                                   cltv_df[\"T_weekly\"],\n",
    "                                   cltv_df[\"monetary_cltv_avg\"],\n",
    "                                   time = 6,\n",
    "                                   freq = \"W\",\n",
    "                                   discount_rate = 0.01)\n",
    "\n",
    "cltv_df[\"cltv_6_months\"] = cltv\n",
    "\n",
    "cltv_df.head()"
   ]
  },
  {
   "cell_type": "markdown",
   "metadata": {
    "papermill": {
     "duration": 0.012328,
     "end_time": "2022-10-26T08:38:57.027843",
     "exception": false,
     "start_time": "2022-10-26T08:38:57.015515",
     "status": "completed"
    },
    "tags": []
   },
   "source": [
    "**The 10 customers with the highest CLTV value were examined.**"
   ]
  },
  {
   "cell_type": "code",
   "execution_count": 27,
   "metadata": {
    "execution": {
     "iopub.execute_input": "2022-10-26T08:38:57.053981Z",
     "iopub.status.busy": "2022-10-26T08:38:57.053597Z",
     "iopub.status.idle": "2022-10-26T08:38:57.074972Z",
     "shell.execute_reply": "2022-10-26T08:38:57.073905Z"
    },
    "papermill": {
     "duration": 0.036852,
     "end_time": "2022-10-26T08:38:57.077262",
     "exception": false,
     "start_time": "2022-10-26T08:38:57.040410",
     "status": "completed"
    },
    "tags": []
   },
   "outputs": [
    {
     "data": {
      "text/html": [
       "<div>\n",
       "<style scoped>\n",
       "    .dataframe tbody tr th:only-of-type {\n",
       "        vertical-align: middle;\n",
       "    }\n",
       "\n",
       "    .dataframe tbody tr th {\n",
       "        vertical-align: top;\n",
       "    }\n",
       "\n",
       "    .dataframe thead th {\n",
       "        text-align: right;\n",
       "    }\n",
       "</style>\n",
       "<table border=\"1\" class=\"dataframe\">\n",
       "  <thead>\n",
       "    <tr style=\"text-align: right;\">\n",
       "      <th></th>\n",
       "      <th>customer_id</th>\n",
       "      <th>recency_cltv_weekly</th>\n",
       "      <th>T_weekly</th>\n",
       "      <th>frequency</th>\n",
       "      <th>monetary_cltv_avg</th>\n",
       "      <th>exp_sales_3_month</th>\n",
       "      <th>exp_sales_6_month</th>\n",
       "      <th>exp_average_value</th>\n",
       "      <th>cltv_6_months</th>\n",
       "    </tr>\n",
       "  </thead>\n",
       "  <tbody>\n",
       "    <tr>\n",
       "      <th>9055</th>\n",
       "      <td>47a642fe-975b-11eb-8c2a-000d3a38a36f</td>\n",
       "      <td>2.857143</td>\n",
       "      <td>7.857143</td>\n",
       "      <td>4.0</td>\n",
       "      <td>1401.800000</td>\n",
       "      <td>1.094385</td>\n",
       "      <td>2.188769</td>\n",
       "      <td>1449.060468</td>\n",
       "      <td>3327.777040</td>\n",
       "    </tr>\n",
       "    <tr>\n",
       "      <th>13880</th>\n",
       "      <td>7137a5c0-7aad-11ea-8f20-000d3a38a36f</td>\n",
       "      <td>6.142857</td>\n",
       "      <td>13.142857</td>\n",
       "      <td>11.0</td>\n",
       "      <td>758.085455</td>\n",
       "      <td>1.970108</td>\n",
       "      <td>3.940216</td>\n",
       "      <td>767.360602</td>\n",
       "      <td>3172.394390</td>\n",
       "    </tr>\n",
       "    <tr>\n",
       "      <th>17323</th>\n",
       "      <td>f59053e2-a503-11e9-a2fc-000d3a38a36f</td>\n",
       "      <td>51.714286</td>\n",
       "      <td>101.000000</td>\n",
       "      <td>7.0</td>\n",
       "      <td>1106.467143</td>\n",
       "      <td>0.722238</td>\n",
       "      <td>1.444476</td>\n",
       "      <td>1127.611525</td>\n",
       "      <td>1708.982063</td>\n",
       "    </tr>\n",
       "    <tr>\n",
       "      <th>12438</th>\n",
       "      <td>625f40a2-5bd2-11ea-98b0-000d3a38a36f</td>\n",
       "      <td>74.285714</td>\n",
       "      <td>74.571429</td>\n",
       "      <td>16.0</td>\n",
       "      <td>501.873750</td>\n",
       "      <td>1.565309</td>\n",
       "      <td>3.130618</td>\n",
       "      <td>506.166665</td>\n",
       "      <td>1662.613492</td>\n",
       "    </tr>\n",
       "    <tr>\n",
       "      <th>7330</th>\n",
       "      <td>a4d534a2-5b1b-11eb-8dbd-000d3a38a36f</td>\n",
       "      <td>62.714286</td>\n",
       "      <td>67.285714</td>\n",
       "      <td>52.0</td>\n",
       "      <td>166.224615</td>\n",
       "      <td>4.656138</td>\n",
       "      <td>9.312276</td>\n",
       "      <td>166.712253</td>\n",
       "      <td>1628.887381</td>\n",
       "    </tr>\n",
       "  </tbody>\n",
       "</table>\n",
       "</div>"
      ],
      "text/plain": [
       "                                customer_id  recency_cltv_weekly    T_weekly  \\\n",
       "9055   47a642fe-975b-11eb-8c2a-000d3a38a36f             2.857143    7.857143   \n",
       "13880  7137a5c0-7aad-11ea-8f20-000d3a38a36f             6.142857   13.142857   \n",
       "17323  f59053e2-a503-11e9-a2fc-000d3a38a36f            51.714286  101.000000   \n",
       "12438  625f40a2-5bd2-11ea-98b0-000d3a38a36f            74.285714   74.571429   \n",
       "7330   a4d534a2-5b1b-11eb-8dbd-000d3a38a36f            62.714286   67.285714   \n",
       "\n",
       "       frequency  monetary_cltv_avg  exp_sales_3_month  exp_sales_6_month  \\\n",
       "9055         4.0        1401.800000           1.094385           2.188769   \n",
       "13880       11.0         758.085455           1.970108           3.940216   \n",
       "17323        7.0        1106.467143           0.722238           1.444476   \n",
       "12438       16.0         501.873750           1.565309           3.130618   \n",
       "7330        52.0         166.224615           4.656138           9.312276   \n",
       "\n",
       "       exp_average_value  cltv_6_months  \n",
       "9055         1449.060468    3327.777040  \n",
       "13880         767.360602    3172.394390  \n",
       "17323        1127.611525    1708.982063  \n",
       "12438         506.166665    1662.613492  \n",
       "7330          166.712253    1628.887381  "
      ]
     },
     "execution_count": 27,
     "metadata": {},
     "output_type": "execute_result"
    }
   ],
   "source": [
    "cltv_df.sort_values(\"cltv_6_months\", ascending = False).head(5)"
   ]
  },
  {
   "cell_type": "markdown",
   "metadata": {
    "papermill": {
     "duration": 0.012323,
     "end_time": "2022-10-26T08:38:57.103199",
     "exception": false,
     "start_time": "2022-10-26T08:38:57.090876",
     "status": "completed"
    },
    "tags": []
   },
   "source": [
    "**According to CLTV values, all customers are divided into 4 segments with the help of qcut method.**"
   ]
  },
  {
   "cell_type": "code",
   "execution_count": 28,
   "metadata": {
    "execution": {
     "iopub.execute_input": "2022-10-26T08:38:57.130741Z",
     "iopub.status.busy": "2022-10-26T08:38:57.130314Z",
     "iopub.status.idle": "2022-10-26T08:38:57.152450Z",
     "shell.execute_reply": "2022-10-26T08:38:57.151573Z"
    },
    "papermill": {
     "duration": 0.038439,
     "end_time": "2022-10-26T08:38:57.154686",
     "exception": false,
     "start_time": "2022-10-26T08:38:57.116247",
     "status": "completed"
    },
    "tags": []
   },
   "outputs": [
    {
     "data": {
      "text/html": [
       "<div>\n",
       "<style scoped>\n",
       "    .dataframe tbody tr th:only-of-type {\n",
       "        vertical-align: middle;\n",
       "    }\n",
       "\n",
       "    .dataframe tbody tr th {\n",
       "        vertical-align: top;\n",
       "    }\n",
       "\n",
       "    .dataframe thead th {\n",
       "        text-align: right;\n",
       "    }\n",
       "</style>\n",
       "<table border=\"1\" class=\"dataframe\">\n",
       "  <thead>\n",
       "    <tr style=\"text-align: right;\">\n",
       "      <th></th>\n",
       "      <th>customer_id</th>\n",
       "      <th>recency_cltv_weekly</th>\n",
       "      <th>T_weekly</th>\n",
       "      <th>frequency</th>\n",
       "      <th>monetary_cltv_avg</th>\n",
       "      <th>exp_sales_3_month</th>\n",
       "      <th>exp_sales_6_month</th>\n",
       "      <th>exp_average_value</th>\n",
       "      <th>cltv_6_months</th>\n",
       "      <th>segment</th>\n",
       "    </tr>\n",
       "  </thead>\n",
       "  <tbody>\n",
       "    <tr>\n",
       "      <th>0</th>\n",
       "      <td>cc294636-19f0-11eb-8d74-000d3a38a36f</td>\n",
       "      <td>17.000000</td>\n",
       "      <td>30.571429</td>\n",
       "      <td>5.0</td>\n",
       "      <td>187.874000</td>\n",
       "      <td>0.973927</td>\n",
       "      <td>1.947853</td>\n",
       "      <td>193.632679</td>\n",
       "      <td>395.733234</td>\n",
       "      <td>A</td>\n",
       "    </tr>\n",
       "    <tr>\n",
       "      <th>1</th>\n",
       "      <td>f431bd5a-ab7b-11e9-a2fc-000d3a38a36f</td>\n",
       "      <td>209.857143</td>\n",
       "      <td>224.857143</td>\n",
       "      <td>21.0</td>\n",
       "      <td>95.883333</td>\n",
       "      <td>0.983161</td>\n",
       "      <td>1.966323</td>\n",
       "      <td>96.665048</td>\n",
       "      <td>199.430693</td>\n",
       "      <td>B</td>\n",
       "    </tr>\n",
       "    <tr>\n",
       "      <th>2</th>\n",
       "      <td>69b69676-1a40-11ea-941b-000d3a38a36f</td>\n",
       "      <td>52.285714</td>\n",
       "      <td>78.857143</td>\n",
       "      <td>5.0</td>\n",
       "      <td>117.064000</td>\n",
       "      <td>0.670586</td>\n",
       "      <td>1.341172</td>\n",
       "      <td>120.967619</td>\n",
       "      <td>170.224184</td>\n",
       "      <td>B</td>\n",
       "    </tr>\n",
       "    <tr>\n",
       "      <th>3</th>\n",
       "      <td>1854e56c-491f-11eb-806e-000d3a38a36f</td>\n",
       "      <td>1.571429</td>\n",
       "      <td>20.857143</td>\n",
       "      <td>2.0</td>\n",
       "      <td>60.985000</td>\n",
       "      <td>0.700412</td>\n",
       "      <td>1.400824</td>\n",
       "      <td>67.320145</td>\n",
       "      <td>98.945526</td>\n",
       "      <td>D</td>\n",
       "    </tr>\n",
       "    <tr>\n",
       "      <th>4</th>\n",
       "      <td>d6ea1074-f1f5-11e9-9346-000d3a38a36f</td>\n",
       "      <td>83.142857</td>\n",
       "      <td>95.428571</td>\n",
       "      <td>2.0</td>\n",
       "      <td>104.990000</td>\n",
       "      <td>0.396039</td>\n",
       "      <td>0.792077</td>\n",
       "      <td>114.325108</td>\n",
       "      <td>95.011659</td>\n",
       "      <td>D</td>\n",
       "    </tr>\n",
       "  </tbody>\n",
       "</table>\n",
       "</div>"
      ],
      "text/plain": [
       "                            customer_id  recency_cltv_weekly    T_weekly  \\\n",
       "0  cc294636-19f0-11eb-8d74-000d3a38a36f            17.000000   30.571429   \n",
       "1  f431bd5a-ab7b-11e9-a2fc-000d3a38a36f           209.857143  224.857143   \n",
       "2  69b69676-1a40-11ea-941b-000d3a38a36f            52.285714   78.857143   \n",
       "3  1854e56c-491f-11eb-806e-000d3a38a36f             1.571429   20.857143   \n",
       "4  d6ea1074-f1f5-11e9-9346-000d3a38a36f            83.142857   95.428571   \n",
       "\n",
       "   frequency  monetary_cltv_avg  exp_sales_3_month  exp_sales_6_month  \\\n",
       "0        5.0         187.874000           0.973927           1.947853   \n",
       "1       21.0          95.883333           0.983161           1.966323   \n",
       "2        5.0         117.064000           0.670586           1.341172   \n",
       "3        2.0          60.985000           0.700412           1.400824   \n",
       "4        2.0         104.990000           0.396039           0.792077   \n",
       "\n",
       "   exp_average_value  cltv_6_months segment  \n",
       "0         193.632679     395.733234       A  \n",
       "1          96.665048     199.430693       B  \n",
       "2         120.967619     170.224184       B  \n",
       "3          67.320145      98.945526       D  \n",
       "4         114.325108      95.011659       D  "
      ]
     },
     "execution_count": 28,
     "metadata": {},
     "output_type": "execute_result"
    }
   ],
   "source": [
    "cltv_df[\"segment\"] = pd.qcut(cltv_df[\"cltv_6_months\"], 4, labels = [\"D\",\"C\",\"B\",\"A\"])\n",
    "\n",
    "cltv_df.head()"
   ]
  }
 ],
 "metadata": {
  "kernelspec": {
   "display_name": "Python 3",
   "language": "python",
   "name": "python3"
  },
  "language_info": {
   "codemirror_mode": {
    "name": "ipython",
    "version": 3
   },
   "file_extension": ".py",
   "mimetype": "text/x-python",
   "name": "python",
   "nbconvert_exporter": "python",
   "pygments_lexer": "ipython3",
   "version": "3.7.6"
  },
  "papermill": {
   "default_parameters": {},
   "duration": 24.957212,
   "end_time": "2022-10-26T08:38:57.787395",
   "environment_variables": {},
   "exception": null,
   "input_path": "__notebook__.ipynb",
   "output_path": "__notebook__.ipynb",
   "parameters": {},
   "start_time": "2022-10-26T08:38:32.830183",
   "version": "2.3.4"
  }
 },
 "nbformat": 4,
 "nbformat_minor": 5
}
